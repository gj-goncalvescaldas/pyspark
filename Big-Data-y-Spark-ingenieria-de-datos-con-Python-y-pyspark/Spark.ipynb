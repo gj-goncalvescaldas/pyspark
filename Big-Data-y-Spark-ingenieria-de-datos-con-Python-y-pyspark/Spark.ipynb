{
  "nbformat": 4,
  "nbformat_minor": 0,
  "metadata": {
    "colab": {
      "provenance": [],
      "toc_visible": true
    },
    "kernelspec": {
      "name": "python3",
      "display_name": "Python 3"
    },
    "language_info": {
      "name": "python"
    }
  },
  "cells": [
    {
      "cell_type": "markdown",
      "source": [
        "#Big Data y Spark: ingeniería de datos con Python y pyspark\n",
        "-Curso de Udemy - https://www.udemy.com/course/big-data-y-spark-ingenieria-de-datos-con-python-y-pyspark"
      ],
      "metadata": {
        "id": "kV1dTY8J6Pca"
      }
    },
    {
      "cell_type": "markdown",
      "source": [
        "# Descargando y instalando Spark en Colab"
      ],
      "metadata": {
        "id": "Znflgmb_6zJo"
      }
    },
    {
      "cell_type": "code",
      "execution_count": 1,
      "metadata": {
        "colab": {
          "base_uri": "https://localhost:8080/"
        },
        "id": "4S-Yy7gG5ty5",
        "outputId": "4d131c2c-954f-44e6-d62d-50c9f11158ee"
      },
      "outputs": [
        {
          "output_type": "stream",
          "name": "stdout",
          "text": [
            "+-----+\n",
            "|Hola |\n",
            "+-----+\n",
            "|Mundo|\n",
            "|Mundo|\n",
            "|Mundo|\n",
            "|Mundo|\n",
            "|Mundo|\n",
            "|Mundo|\n",
            "|Mundo|\n",
            "|Mundo|\n",
            "|Mundo|\n",
            "|Mundo|\n",
            "+-----+\n",
            "\n"
          ]
        }
      ],
      "source": [
        "# Instalar SDK Java 8\n",
        "\n",
        "!apt-get install openjdk-8-jdk-headless -qq > /dev/null\n",
        "\n",
        "# Descargar Spark 3.4.3\n",
        "\n",
        "!wget -q https://archive.apache.org/dist/spark/spark-3.4.3/spark-3.4.3-bin-hadoop3.tgz\n",
        "\n",
        "# Descomprimir el archivo descargado de Spark\n",
        "\n",
        "!tar xf spark-3.4.3-bin-hadoop3.tgz\n",
        "\n",
        "# Establecer las variables de entorno\n",
        "\n",
        "import os\n",
        "\n",
        "os.environ[\"JAVA_HOME\"] = \"/usr/lib/jvm/java-8-openjdk-amd64\"\n",
        "os.environ[\"SPARK_HOME\"] = \"/content/spark-3.4.3-bin-hadoop3\"\n",
        "\n",
        "# Instalar la librería findspark\n",
        "\n",
        "!pip install -q findspark\n",
        "\n",
        "# Instalar pyspark\n",
        "\n",
        "!pip install -q pyspark\n",
        "\n",
        "### verificar la instalación ###\n",
        "\n",
        "import findspark\n",
        "\n",
        "findspark.init()\n",
        "\n",
        "from pyspark.sql import SparkSession\n",
        "\n",
        "spark = SparkSession.builder.master(\"local[*]\").getOrCreate()\n",
        "\n",
        "# Probando la sesión de Spark\n",
        "df = spark.createDataFrame([{\"Hola\": \"Mundo\"} for x in range(10)])\n",
        "\n",
        "df.show(10, False)\n",
        "\n",
        "from pyspark.sql.types import StructType, StructField, IntegerType, StringType, DoubleType, DateType\n",
        "from pyspark.sql.functions import col,desc"
      ]
    },
    {
      "cell_type": "markdown",
      "source": [
        "# Introducción a los RDD en Spark"
      ],
      "metadata": {
        "id": "p8rV4b4C7t4o"
      }
    },
    {
      "cell_type": "code",
      "source": [
        "findspark.init()"
      ],
      "metadata": {
        "id": "4LduA5F975EX"
      },
      "execution_count": null,
      "outputs": []
    },
    {
      "cell_type": "code",
      "source": [
        "from pyspark.sql import SparkSession\n",
        "spark = SparkSession.builder.master(\"local[*]\").appName('Curso Pyspark').getOrCreate()"
      ],
      "metadata": {
        "id": "ZjVw3mPr78om"
      },
      "execution_count": null,
      "outputs": []
    },
    {
      "cell_type": "code",
      "source": [
        "sc = spark.sparkContext"
      ],
      "metadata": {
        "id": "OWsL4C-B8EfF"
      },
      "execution_count": null,
      "outputs": []
    },
    {
      "cell_type": "code",
      "source": [
        "#Crear un RDD vacio\n",
        "\n",
        "rdd_vacio = sc.emptyRDD"
      ],
      "metadata": {
        "id": "qzWM2jDZ8GGS"
      },
      "execution_count": null,
      "outputs": []
    },
    {
      "cell_type": "code",
      "source": [
        "#Crear un RDD con parallelize\n",
        "\n",
        "rdd_vacio3 = sc.parallelize([], 3)\n",
        "rdd_vacio3.getNumPartitions()"
      ],
      "metadata": {
        "colab": {
          "base_uri": "https://localhost:8080/"
        },
        "id": "o7NY1nGp8zw3",
        "outputId": "c1f1aafa-644b-47df-8fa0-24a6ece7bbc9"
      },
      "execution_count": null,
      "outputs": [
        {
          "output_type": "execute_result",
          "data": {
            "text/plain": [
              "3"
            ]
          },
          "metadata": {},
          "execution_count": 15
        }
      ]
    },
    {
      "cell_type": "code",
      "source": [
        "rdd = sc.parallelize([1,2,3,4,5])"
      ],
      "metadata": {
        "id": "gBypm9EN9Dpe"
      },
      "execution_count": null,
      "outputs": []
    },
    {
      "cell_type": "code",
      "source": [
        "rdd"
      ],
      "metadata": {
        "colab": {
          "base_uri": "https://localhost:8080/"
        },
        "id": "QWyppwlT9R2i",
        "outputId": "80550621-121e-4781-8755-b87e5323625d"
      },
      "execution_count": null,
      "outputs": [
        {
          "output_type": "execute_result",
          "data": {
            "text/plain": [
              "ParallelCollectionRDD[10] at readRDDFromFile at PythonRDD.scala:287"
            ]
          },
          "metadata": {},
          "execution_count": 17
        }
      ]
    },
    {
      "cell_type": "code",
      "source": [
        "rdd.collect()"
      ],
      "metadata": {
        "colab": {
          "base_uri": "https://localhost:8080/"
        },
        "id": "HXIrvTrw9UYD",
        "outputId": "7ef3624f-38c9-4bfe-c0c3-4b1cde882b7e"
      },
      "execution_count": null,
      "outputs": [
        {
          "output_type": "execute_result",
          "data": {
            "text/plain": [
              "[1, 2, 3, 4, 5]"
            ]
          },
          "metadata": {},
          "execution_count": 18
        }
      ]
    },
    {
      "cell_type": "code",
      "source": [
        "# Crear un RDD desde un archivo de texto\n",
        "\n",
        "rdd_texto = sc.textFile('./Date/rdd_source.txt')\n"
      ],
      "metadata": {
        "id": "mKHMr6bA9XRC"
      },
      "execution_count": null,
      "outputs": []
    },
    {
      "cell_type": "code",
      "source": [
        "import os\n",
        "print(os.getcwd())  # Print the current working directory"
      ],
      "metadata": {
        "colab": {
          "base_uri": "https://localhost:8080/"
        },
        "id": "yNmA2AYm-Ssv",
        "outputId": "b99e7dca-4c8a-4c4f-8edc-effc0c16b4af"
      },
      "execution_count": null,
      "outputs": [
        {
          "output_type": "stream",
          "name": "stdout",
          "text": [
            "/content\n"
          ]
        }
      ]
    },
    {
      "cell_type": "code",
      "source": [
        "rdd_texto.collect()"
      ],
      "metadata": {
        "colab": {
          "base_uri": "https://localhost:8080/"
        },
        "id": "68Gfal1--ABb",
        "outputId": "1737aee0-baee-49f1-e938-a7e431008128"
      },
      "execution_count": null,
      "outputs": [
        {
          "output_type": "execute_result",
          "data": {
            "text/plain": [
              "['Así podemos crear', 'un RDD desde un', 'archivo de texto!!!']"
            ]
          },
          "metadata": {},
          "execution_count": 26
        }
      ]
    },
    {
      "cell_type": "code",
      "source": [
        "rdd_texto_completo = sc.wholeTextFiles('./Date/rdd_source.txt')\n",
        "rdd_texto_completo.collect()"
      ],
      "metadata": {
        "colab": {
          "base_uri": "https://localhost:8080/"
        },
        "id": "MPOJKnbP-L8Z",
        "outputId": "40d5c587-92fa-4b67-bc20-6213b18b21b8"
      },
      "execution_count": null,
      "outputs": [
        {
          "output_type": "execute_result",
          "data": {
            "text/plain": [
              "[('file:/content/rdd_source.txt',\n",
              "  'Así podemos crear\\nun RDD desde un\\narchivo de texto!!!')]"
            ]
          },
          "metadata": {},
          "execution_count": 28
        }
      ]
    },
    {
      "cell_type": "code",
      "source": [
        "rdd_suma = rdd.map(lambda x: x+2)\n",
        "rdd_suma.collect()"
      ],
      "metadata": {
        "colab": {
          "base_uri": "https://localhost:8080/"
        },
        "id": "iBKOMn3U-qBe",
        "outputId": "cd378f07-6b3f-408b-8bcc-1c367769ccf0"
      },
      "execution_count": null,
      "outputs": [
        {
          "output_type": "execute_result",
          "data": {
            "text/plain": [
              "[3, 4, 5, 6, 7]"
            ]
          },
          "metadata": {},
          "execution_count": 29
        }
      ]
    },
    {
      "cell_type": "code",
      "source": [
        "df = spark.createDataFrame([(1, 'jose'), (2, 'juan')], ['id', 'nombre'])\n",
        "df.show()"
      ],
      "metadata": {
        "colab": {
          "base_uri": "https://localhost:8080/"
        },
        "id": "gAwU5UYl-8DM",
        "outputId": "2f640e72-f828-4ae4-b8e1-1b7383732078"
      },
      "execution_count": null,
      "outputs": [
        {
          "output_type": "stream",
          "name": "stdout",
          "text": [
            "+---+------+\n",
            "| id|nombre|\n",
            "+---+------+\n",
            "|  1|  jose|\n",
            "|  2|  juan|\n",
            "+---+------+\n",
            "\n"
          ]
        }
      ]
    },
    {
      "cell_type": "code",
      "source": [
        "rdd_df = df.rdd\n",
        "rdd_df.collect()"
      ],
      "metadata": {
        "colab": {
          "base_uri": "https://localhost:8080/"
        },
        "id": "uF6rICHI_Q5h",
        "outputId": "8370c127-eada-421a-8869-b87167b00b9a"
      },
      "execution_count": null,
      "outputs": [
        {
          "output_type": "execute_result",
          "data": {
            "text/plain": [
              "[Row(id=1, nombre='jose'), Row(id=2, nombre='juan')]"
            ]
          },
          "metadata": {},
          "execution_count": 32
        }
      ]
    },
    {
      "cell_type": "code",
      "source": [],
      "metadata": {
        "id": "LL_a47ciAVMm"
      },
      "execution_count": null,
      "outputs": []
    },
    {
      "cell_type": "markdown",
      "source": [
        "# Ejerjicios Sección 3"
      ],
      "metadata": {
        "id": "MHMPAlOMA9j3"
      }
    },
    {
      "cell_type": "code",
      "source": [
        "spark1 = SparkSession.builder.master(\"local[*]\").appName('Cap2').getOrCreate()"
      ],
      "metadata": {
        "id": "PTes0pLVBCUT"
      },
      "execution_count": null,
      "outputs": []
    },
    {
      "cell_type": "code",
      "source": [
        "spark1"
      ],
      "metadata": {
        "colab": {
          "base_uri": "https://localhost:8080/",
          "height": 219
        },
        "id": "voEsMQLHBUF8",
        "outputId": "ee7526b6-7deb-43f3-d593-4eb4d9acfb24"
      },
      "execution_count": null,
      "outputs": [
        {
          "output_type": "execute_result",
          "data": {
            "text/plain": [
              "<pyspark.sql.session.SparkSession at 0x7b1d4c69c5d0>"
            ],
            "text/html": [
              "\n",
              "            <div>\n",
              "                <p><b>SparkSession - in-memory</b></p>\n",
              "                \n",
              "        <div>\n",
              "            <p><b>SparkContext</b></p>\n",
              "\n",
              "            <p><a href=\"http://e78279b28c0a:4040\">Spark UI</a></p>\n",
              "\n",
              "            <dl>\n",
              "              <dt>Version</dt>\n",
              "                <dd><code>v3.4.3</code></dd>\n",
              "              <dt>Master</dt>\n",
              "                <dd><code>local[*]</code></dd>\n",
              "              <dt>AppName</dt>\n",
              "                <dd><code>pyspark-shell</code></dd>\n",
              "            </dl>\n",
              "        </div>\n",
              "        \n",
              "            </div>\n",
              "        "
            ]
          },
          "metadata": {},
          "execution_count": 38
        }
      ]
    },
    {
      "cell_type": "code",
      "source": [
        "sc = spark.sparkContext"
      ],
      "metadata": {
        "id": "oPE6TDpsBgzo"
      },
      "execution_count": null,
      "outputs": []
    },
    {
      "cell_type": "code",
      "source": [
        "rdd_vacio = sc.emptyRDD\n",
        "rdd_vacio"
      ],
      "metadata": {
        "colab": {
          "base_uri": "https://localhost:8080/",
          "height": 187
        },
        "id": "e9Y6WApOBsB-",
        "outputId": "4648b52d-891e-4ded-bb53-ac3c1e4a3206"
      },
      "execution_count": null,
      "outputs": [
        {
          "output_type": "execute_result",
          "data": {
            "text/plain": [
              "<bound method SparkContext.emptyRDD of <SparkContext master=local[*] appName=pyspark-shell>>"
            ],
            "text/html": [
              "<div style=\"max-width:800px; border: 1px solid var(--colab-border-color);\"><style>\n",
              "      pre.function-repr-contents {\n",
              "        overflow-x: auto;\n",
              "        padding: 8px 12px;\n",
              "        max-height: 500px;\n",
              "      }\n",
              "\n",
              "      pre.function-repr-contents.function-repr-contents-collapsed {\n",
              "        cursor: pointer;\n",
              "        max-height: 100px;\n",
              "      }\n",
              "    </style>\n",
              "    <pre style=\"white-space: initial; background:\n",
              "         var(--colab-secondary-surface-color); padding: 8px 12px;\n",
              "         border-bottom: 1px solid var(--colab-border-color);\"><b>pyspark.context.SparkContext.emptyRDD</b><br/>def emptyRDD() -&gt; RDD[Any]</pre><pre class=\"function-repr-contents function-repr-contents-collapsed\" style=\"\"><a class=\"filepath\" style=\"display:none\" href=\"#\">/content/spark-3.4.3-bin-hadoop3/python/pyspark/context.py</a>Create an :class:`RDD` that has no partitions or elements.\n",
              "\n",
              ".. versionadded:: 1.5.0\n",
              "\n",
              "Returns\n",
              "-------\n",
              ":class:`RDD`\n",
              "    An empty RDD\n",
              "\n",
              "Examples\n",
              "--------\n",
              "&gt;&gt;&gt; sc.emptyRDD()\n",
              "EmptyRDD...\n",
              "&gt;&gt;&gt; sc.emptyRDD().count()\n",
              "0</pre>\n",
              "      <script>\n",
              "      if (google.colab.kernel.accessAllowed && google.colab.files && google.colab.files.view) {\n",
              "        for (const element of document.querySelectorAll('.filepath')) {\n",
              "          element.style.display = 'block'\n",
              "          element.onclick = (event) => {\n",
              "            event.preventDefault();\n",
              "            event.stopPropagation();\n",
              "            google.colab.files.view(element.textContent, 668);\n",
              "          };\n",
              "        }\n",
              "      }\n",
              "      for (const element of document.querySelectorAll('.function-repr-contents')) {\n",
              "        element.onclick = (event) => {\n",
              "          event.preventDefault();\n",
              "          event.stopPropagation();\n",
              "          element.classList.toggle('function-repr-contents-collapsed');\n",
              "        };\n",
              "      }\n",
              "      </script>\n",
              "      </div>"
            ]
          },
          "metadata": {},
          "execution_count": 47
        }
      ]
    },
    {
      "cell_type": "code",
      "source": [
        "rdd_parallelize = sc.parallelize([], 5)\n",
        "rdd_parallelize.getNumPartitions()"
      ],
      "metadata": {
        "colab": {
          "base_uri": "https://localhost:8080/"
        },
        "id": "TrkkS9MaB5ag",
        "outputId": "5c015c1b-14ca-4794-f2a9-40d7a36a29a5"
      },
      "execution_count": null,
      "outputs": [
        {
          "output_type": "execute_result",
          "data": {
            "text/plain": [
              "5"
            ]
          },
          "metadata": {},
          "execution_count": 50
        }
      ]
    },
    {
      "cell_type": "code",
      "source": [
        "rdd_primos = sc.parallelize([2,3,5,7,11,13,17,19])\n",
        "rdd_primos.collect()"
      ],
      "metadata": {
        "colab": {
          "base_uri": "https://localhost:8080/"
        },
        "id": "0MunfnxiCGsE",
        "outputId": "b6d2516d-4b60-494c-9b31-639564d5ccfb"
      },
      "execution_count": null,
      "outputs": [
        {
          "output_type": "execute_result",
          "data": {
            "text/plain": [
              "[2, 3, 5, 7, 11, 13, 17, 19]"
            ]
          },
          "metadata": {},
          "execution_count": 51
        }
      ]
    },
    {
      "cell_type": "code",
      "source": [
        "rdd_primos.filter(lambda x: x>10).collect()"
      ],
      "metadata": {
        "colab": {
          "base_uri": "https://localhost:8080/"
        },
        "id": "FMmn39RdDByd",
        "outputId": "2e31506a-7371-4b2f-833e-d10981957559"
      },
      "execution_count": null,
      "outputs": [
        {
          "output_type": "execute_result",
          "data": {
            "text/plain": [
              "[11, 13, 17, 19]"
            ]
          },
          "metadata": {},
          "execution_count": 54
        }
      ]
    },
    {
      "cell_type": "code",
      "source": [
        "rdd_texto = sc.wholeTextFiles('./Date/el_valor_del_big_data.txt')\n",
        "rdd_texto.collect()"
      ],
      "metadata": {
        "colab": {
          "base_uri": "https://localhost:8080/"
        },
        "id": "PWJJupeWDJuv",
        "outputId": "5b99c3ae-6c0d-47d3-e59e-3f989fcd4a7d"
      },
      "execution_count": null,
      "outputs": [
        {
          "output_type": "execute_result",
          "data": {
            "text/plain": [
              "[('file:/content/el_valor_del_big_data.txt',\n",
              "  'El valor y la realidad de big data\\r\\nEn los últimos años, han surgido otras \"dos V\": valor y veracidad. Los datos poseen un valor intrínseco. Sin embargo, no tienen ninguna utilidad hasta que dicho valor se descubre. Resulta igualmente importante: ¿cuál es la veracidad de sus datos y cuánto puede confiar en ellos?\\r\\n\\r\\nHoy en día, el big data se ha convertido en un activo crucial. Piense en algunas de las mayores empresas tecnológicas del mundo. Gran parte del valor que ofrecen procede de sus datos, que analizan constantemente para generar una mayor eficiencia y desarrollar nuevos productos.\\r\\n\\r\\nAvances tecnológicos recientes han reducido exponencialmente el coste del almacenamiento y la computación de datos, haciendo que almacenar datos resulte más fácil y barato que nunca. Actualmente, con un mayor volumen de big data más barato y accesible, puede tomar decisiones empresariales más acertadas y precisas.\\r\\n\\r\\nIdentificar el valor del big data no pasa solo por analizarlo (que es ya una ventaja en sí misma). Se trata de todo un proceso de descubrimiento que requiere que los analistas, usuarios empresariales y ejecutivos se planteen las preguntas correctas, identifiquen patrones, formulen hipótesis informadas y predigan comportamientos.')]"
            ]
          },
          "metadata": {},
          "execution_count": 56
        }
      ]
    },
    {
      "cell_type": "code",
      "source": [
        "rdd_texto1 = sc.textFile('./Date/el_valor_del_big_data.txt')\n",
        "rdd_texto1.collect()"
      ],
      "metadata": {
        "colab": {
          "base_uri": "https://localhost:8080/"
        },
        "id": "Dw6BL55ZDv2B",
        "outputId": "827f8ff0-ce06-4d99-f37d-217522c936f2"
      },
      "execution_count": null,
      "outputs": [
        {
          "output_type": "execute_result",
          "data": {
            "text/plain": [
              "['El valor y la realidad de big data',\n",
              " 'En los últimos años, han surgido otras \"dos V\": valor y veracidad. Los datos poseen un valor intrínseco. Sin embargo, no tienen ninguna utilidad hasta que dicho valor se descubre. Resulta igualmente importante: ¿cuál es la veracidad de sus datos y cuánto puede confiar en ellos?',\n",
              " '',\n",
              " 'Hoy en día, el big data se ha convertido en un activo crucial. Piense en algunas de las mayores empresas tecnológicas del mundo. Gran parte del valor que ofrecen procede de sus datos, que analizan constantemente para generar una mayor eficiencia y desarrollar nuevos productos.',\n",
              " '',\n",
              " 'Avances tecnológicos recientes han reducido exponencialmente el coste del almacenamiento y la computación de datos, haciendo que almacenar datos resulte más fácil y barato que nunca. Actualmente, con un mayor volumen de big data más barato y accesible, puede tomar decisiones empresariales más acertadas y precisas.',\n",
              " '',\n",
              " 'Identificar el valor del big data no pasa solo por analizarlo (que es ya una ventaja en sí misma). Se trata de todo un proceso de descubrimiento que requiere que los analistas, usuarios empresariales y ejecutivos se planteen las preguntas correctas, identifiquen patrones, formulen hipótesis informadas y predigan comportamientos.']"
            ]
          },
          "metadata": {},
          "execution_count": 57
        }
      ]
    },
    {
      "cell_type": "code",
      "source": [
        "sc = spark.sparkContext"
      ],
      "metadata": {
        "id": "NqCAhD9IEMKP"
      },
      "execution_count": null,
      "outputs": []
    },
    {
      "cell_type": "code",
      "source": [
        "rdd = sc.parallelize([1,2,3,4,5])\n",
        "rdd.collect()\n"
      ],
      "metadata": {
        "colab": {
          "base_uri": "https://localhost:8080/"
        },
        "id": "B4_39MmzFSm0",
        "outputId": "7e3baa3c-b823-44ce-d457-10b45de70028"
      },
      "execution_count": null,
      "outputs": [
        {
          "output_type": "execute_result",
          "data": {
            "text/plain": [
              "[1, 2, 3, 4, 5]"
            ]
          },
          "metadata": {},
          "execution_count": 59
        }
      ]
    },
    {
      "cell_type": "code",
      "source": [
        "rdd_resta = rdd.map(lambda x: x-1)\n",
        "rdd_resta.collect()"
      ],
      "metadata": {
        "colab": {
          "base_uri": "https://localhost:8080/"
        },
        "id": "Nat5SZYDFVfm",
        "outputId": "09f62083-deea-4ffe-ee7d-27fb81a69873"
      },
      "execution_count": null,
      "outputs": [
        {
          "output_type": "execute_result",
          "data": {
            "text/plain": [
              "[0, 1, 2, 3, 4]"
            ]
          },
          "metadata": {},
          "execution_count": 60
        }
      ]
    },
    {
      "cell_type": "code",
      "source": [
        "rdd_par = rdd.map(lambda x: x%2 == 0)\n",
        "rdd_par.collect()"
      ],
      "metadata": {
        "colab": {
          "base_uri": "https://localhost:8080/"
        },
        "id": "lF7RWZevFgPv",
        "outputId": "633f2d36-8aed-435b-826b-ba58483b68ac"
      },
      "execution_count": null,
      "outputs": [
        {
          "output_type": "execute_result",
          "data": {
            "text/plain": [
              "[False, True, False, True, False]"
            ]
          },
          "metadata": {},
          "execution_count": 61
        }
      ]
    },
    {
      "cell_type": "code",
      "source": [
        "rdd_texto = sc.parallelize(['jose', 'lucia', 'juan', 'pedro'])\n",
        "rdd_texto.collect()\n",
        "rdd_hola = rdd_texto.map(lambda x: 'Hola ' + x)\n",
        "rdd_hola.collect()"
      ],
      "metadata": {
        "colab": {
          "base_uri": "https://localhost:8080/"
        },
        "id": "qdjDXx1zFrRM",
        "outputId": "1ff75101-9d7b-4487-d47d-75a068e0d847"
      },
      "execution_count": null,
      "outputs": [
        {
          "output_type": "execute_result",
          "data": {
            "text/plain": [
              "['Hola jose', 'Hola lucia', 'Hola juan', 'Hola pedro']"
            ]
          },
          "metadata": {},
          "execution_count": 64
        }
      ]
    },
    {
      "cell_type": "code",
      "source": [
        "rdd = sc.parallelize([1,2,3,4,5])\n",
        "rdd.collect()"
      ],
      "metadata": {
        "colab": {
          "base_uri": "https://localhost:8080/"
        },
        "id": "KdGuiqowGKiW",
        "outputId": "ce3fdee2-6c48-4def-8763-917f80cc0df9"
      },
      "execution_count": null,
      "outputs": [
        {
          "output_type": "execute_result",
          "data": {
            "text/plain": [
              "[1, 2, 3, 4, 5]"
            ]
          },
          "metadata": {},
          "execution_count": 65
        }
      ]
    },
    {
      "cell_type": "code",
      "source": [
        "rdd_cuadrado = rdd.map(lambda x: (x, x ** 2))\n",
        "rdd_cuadrado.collect()"
      ],
      "metadata": {
        "colab": {
          "base_uri": "https://localhost:8080/"
        },
        "id": "rS2wFIqTGgQn",
        "outputId": "b8e26bd1-88b3-416c-83eb-8ae85049acc9"
      },
      "execution_count": null,
      "outputs": [
        {
          "output_type": "execute_result",
          "data": {
            "text/plain": [
              "[(1, 1), (2, 4), (3, 9), (4, 16), (5, 25)]"
            ]
          },
          "metadata": {},
          "execution_count": 67
        }
      ]
    },
    {
      "cell_type": "code",
      "source": [
        "rdd_cuadrado_flat = rdd.flatMap(lambda x: (x, x**2))\n",
        "rdd_cuadrado_flat.collect()"
      ],
      "metadata": {
        "colab": {
          "base_uri": "https://localhost:8080/"
        },
        "id": "msVMgErVGpaY",
        "outputId": "2f9a6584-7b39-424b-fba7-8719a7e5f5da"
      },
      "execution_count": null,
      "outputs": [
        {
          "output_type": "execute_result",
          "data": {
            "text/plain": [
              "[1, 1, 2, 4, 3, 9, 4, 16, 5, 25]"
            ]
          },
          "metadata": {},
          "execution_count": 68
        }
      ]
    },
    {
      "cell_type": "code",
      "source": [
        "# prompt: create rdd 1-10\n",
        "\n",
        "from pyspark.sql import SparkSession\n",
        "\n",
        "# Initialize SparkSession\n",
        "spark = SparkSession.builder.master(\"local[*]\").appName('CreateRDD').getOrCreate()\n",
        "sc = spark.sparkContext\n",
        "\n",
        "# Create an RDD with numbers 1 to 10\n",
        "rdd = sc.parallelize(range(1, 11))\n",
        "\n",
        "# Display the RDD elements\n",
        "print(rdd.collect())\n",
        "\n"
      ],
      "metadata": {
        "colab": {
          "base_uri": "https://localhost:8080/"
        },
        "id": "QcjZxiMjHKMS",
        "outputId": "aabbc6cb-0d59-4bf7-d02c-a771307eb9b3"
      },
      "execution_count": null,
      "outputs": [
        {
          "output_type": "stream",
          "name": "stdout",
          "text": [
            "[1, 2, 3, 4, 5, 6, 7, 8, 9, 10]\n"
          ]
        }
      ]
    },
    {
      "cell_type": "code",
      "source": [
        "rdd = rdd.filter(lambda x: x%2 ==0)\n",
        "rdd.collect()"
      ],
      "metadata": {
        "colab": {
          "base_uri": "https://localhost:8080/"
        },
        "id": "zRRy19eaHvc9",
        "outputId": "dc9b152e-8ec5-4e45-81e9-60009aaea33d"
      },
      "execution_count": null,
      "outputs": [
        {
          "output_type": "execute_result",
          "data": {
            "text/plain": [
              "[2, 4, 6, 8, 10]"
            ]
          },
          "metadata": {},
          "execution_count": 70
        }
      ]
    },
    {
      "cell_type": "code",
      "source": [
        "rdd = sc.parallelize(range(1, 11), 20)"
      ],
      "metadata": {
        "id": "zHsHZXm3H46o"
      },
      "execution_count": null,
      "outputs": []
    },
    {
      "cell_type": "code",
      "source": [
        "rdd.getNumPartitions()"
      ],
      "metadata": {
        "colab": {
          "base_uri": "https://localhost:8080/"
        },
        "id": "qClv7ydlIcBq",
        "outputId": "19451b29-fab5-41cd-8b87-e891ce1510e2"
      },
      "execution_count": null,
      "outputs": [
        {
          "output_type": "execute_result",
          "data": {
            "text/plain": [
              "20"
            ]
          },
          "metadata": {},
          "execution_count": 74
        }
      ]
    },
    {
      "cell_type": "code",
      "source": [
        "rdd.coalesce(4).getNumPartitions()"
      ],
      "metadata": {
        "colab": {
          "base_uri": "https://localhost:8080/"
        },
        "id": "qkY8Tzf9Ifir",
        "outputId": "1e3cbdd2-3748-47c2-f594-ad2dee0e9e7c"
      },
      "execution_count": null,
      "outputs": [
        {
          "output_type": "execute_result",
          "data": {
            "text/plain": [
              "4"
            ]
          },
          "metadata": {},
          "execution_count": 75
        }
      ]
    },
    {
      "cell_type": "markdown",
      "source": [],
      "metadata": {
        "id": "ZLOEZkVZJEX0"
      }
    },
    {
      "cell_type": "code",
      "source": [
        "rdd = sc.parallelize([\n",
        "    ('casa', 2),\n",
        "    ('parque', 5),\n",
        "    ('escuela', 3),\n",
        "    ('hospital', 1),\n",
        "    ('biblioteca', 4),\n",
        "    ('cine', 6),\n",
        "    ('restaurante', 7),\n",
        "    ('tienda', 8),\n",
        "    ('aeropuerto', 9),\n",
        "    ('hotel', 10),\n",
        "    ('restaurante', 3)\n",
        "])\n",
        "rdd.collect()"
      ],
      "metadata": {
        "colab": {
          "base_uri": "https://localhost:8080/"
        },
        "id": "o-9OoBoTIidM",
        "outputId": "f41b9020-c7a0-4113-a55f-8425be635fe4"
      },
      "execution_count": null,
      "outputs": [
        {
          "output_type": "execute_result",
          "data": {
            "text/plain": [
              "[('casa', 2),\n",
              " ('parque', 5),\n",
              " ('escuela', 3),\n",
              " ('hospital', 1),\n",
              " ('biblioteca', 4),\n",
              " ('cine', 6),\n",
              " ('restaurante', 7),\n",
              " ('tienda', 8),\n",
              " ('aeropuerto', 9),\n",
              " ('hotel', 10),\n",
              " ('restaurante', 3)]"
            ]
          },
          "metadata": {},
          "execution_count": 81
        }
      ]
    },
    {
      "cell_type": "code",
      "source": [
        "rdd_reducido = rdd.reduceByKey(lambda x,y: x + y)\n",
        "rdd_reducido.collect()"
      ],
      "metadata": {
        "colab": {
          "base_uri": "https://localhost:8080/"
        },
        "id": "KQmWl1U8JtJQ",
        "outputId": "f571b1e1-ef46-4485-cd72-f64de1ab7458"
      },
      "execution_count": null,
      "outputs": [
        {
          "output_type": "execute_result",
          "data": {
            "text/plain": [
              "[('casa', 2),\n",
              " ('parque', 5),\n",
              " ('tienda', 8),\n",
              " ('aeropuerto', 9),\n",
              " ('hotel', 10),\n",
              " ('escuela', 3),\n",
              " ('hospital', 1),\n",
              " ('biblioteca', 4),\n",
              " ('cine', 6),\n",
              " ('restaurante', 10)]"
            ]
          },
          "metadata": {},
          "execution_count": 82
        }
      ]
    },
    {
      "cell_type": "markdown",
      "source": [
        "#Ejerjicios Seccion 4"
      ],
      "metadata": {
        "id": "HYYYcezXGdwE"
      }
    },
    {
      "cell_type": "code",
      "source": [
        "rdd_languajes = sc.parallelize([\n",
        "    'Python', 'R', 'C', 'Scala', 'Rugby', 'SQL'\n",
        "])\n",
        "rdd_languajes.collect()"
      ],
      "metadata": {
        "colab": {
          "base_uri": "https://localhost:8080/"
        },
        "id": "KYUksch0J-RW",
        "outputId": "e5034a6a-0a53-4c7a-ecbe-cb7ccc120b2f"
      },
      "execution_count": null,
      "outputs": [
        {
          "output_type": "execute_result",
          "data": {
            "text/plain": [
              "['Python', 'R', 'C', 'Scala', 'Rugby', 'SQL']"
            ]
          },
          "metadata": {},
          "execution_count": 87
        }
      ]
    },
    {
      "cell_type": "code",
      "source": [
        "rdd_max = rdd_languajes.map(lambda x: x.upper())\n",
        "rdd_max.collect()"
      ],
      "metadata": {
        "colab": {
          "base_uri": "https://localhost:8080/"
        },
        "id": "-85cul6DK-Ob",
        "outputId": "b18fc12e-3091-4354-85bc-e0bafc73c22c"
      },
      "execution_count": null,
      "outputs": [
        {
          "output_type": "execute_result",
          "data": {
            "text/plain": [
              "['PYTHON', 'R', 'C', 'SCALA', 'RUGBY', 'SQL']"
            ]
          },
          "metadata": {},
          "execution_count": 89
        }
      ]
    },
    {
      "cell_type": "code",
      "source": [
        "rdd1 = sc.parallelize([item for item in range (10)])\n",
        "rdd1.collect()"
      ],
      "metadata": {
        "colab": {
          "base_uri": "https://localhost:8080/"
        },
        "id": "2-itpSIWLL2p",
        "outputId": "c2896649-6c77-46cb-c57f-c21c34890552"
      },
      "execution_count": null,
      "outputs": [
        {
          "output_type": "execute_result",
          "data": {
            "text/plain": [
              "[0, 1, 2, 3, 4, 5, 6, 7, 8, 9]"
            ]
          },
          "metadata": {},
          "execution_count": 90
        }
      ]
    },
    {
      "cell_type": "code",
      "source": [
        "rdd1 = sc.parallelize([(item, item**2) for item in range(20)])"
      ],
      "metadata": {
        "id": "0Vlnd8S1NKh3"
      },
      "execution_count": null,
      "outputs": []
    },
    {
      "cell_type": "code",
      "source": [
        "rdd1.collect()"
      ],
      "metadata": {
        "id": "rTrB1sl2N07z",
        "outputId": "152f9aa6-0e41-48ff-bc65-0a9532310a09",
        "colab": {
          "base_uri": "https://localhost:8080/"
        }
      },
      "execution_count": null,
      "outputs": [
        {
          "output_type": "execute_result",
          "data": {
            "text/plain": [
              "[(0, 0),\n",
              " (1, 1),\n",
              " (2, 4),\n",
              " (3, 9),\n",
              " (4, 16),\n",
              " (5, 25),\n",
              " (6, 36),\n",
              " (7, 49),\n",
              " (8, 64),\n",
              " (9, 81),\n",
              " (10, 100),\n",
              " (11, 121),\n",
              " (12, 144),\n",
              " (13, 169),\n",
              " (14, 196),\n",
              " (15, 225),\n",
              " (16, 256),\n",
              " (17, 289),\n",
              " (18, 324),\n",
              " (19, 361)]"
            ]
          },
          "metadata": {},
          "execution_count": 92
        }
      ]
    },
    {
      "cell_type": "code",
      "source": [
        "import findspark\n",
        "findspar.init()"
      ],
      "metadata": {
        "id": "Pvlsoj2XN3U4",
        "colab": {
          "base_uri": "https://localhost:8080/",
          "height": 316
        },
        "outputId": "de6bb5c0-46b0-42ac-e655-284e42c8bb12"
      },
      "execution_count": null,
      "outputs": [
        {
          "output_type": "error",
          "ename": "ModuleNotFoundError",
          "evalue": "No module named 'findspark'",
          "traceback": [
            "\u001b[0;31m---------------------------------------------------------------------------\u001b[0m",
            "\u001b[0;31mModuleNotFoundError\u001b[0m                       Traceback (most recent call last)",
            "\u001b[0;32m<ipython-input-1-ff073c74b5db>\u001b[0m in \u001b[0;36m<cell line: 0>\u001b[0;34m()\u001b[0m\n\u001b[0;32m----> 1\u001b[0;31m \u001b[0;32mimport\u001b[0m \u001b[0mfindspark\u001b[0m\u001b[0;34m\u001b[0m\u001b[0;34m\u001b[0m\u001b[0m\n\u001b[0m",
            "\u001b[0;31mModuleNotFoundError\u001b[0m: No module named 'findspark'",
            "",
            "\u001b[0;31m---------------------------------------------------------------------------\u001b[0;32m\nNOTE: If your import is failing due to a missing package, you can\nmanually install dependencies using either !pip or !apt.\n\nTo view examples of installing some common dependencies, click the\n\"Open Examples\" button below.\n\u001b[0;31m---------------------------------------------------------------------------\u001b[0m\n"
          ],
          "errorDetails": {
            "actions": [
              {
                "action": "open_url",
                "actionText": "Open Examples",
                "url": "/notebooks/snippets/importing_libraries.ipynb"
              }
            ]
          }
        }
      ]
    },
    {
      "cell_type": "code",
      "source": [],
      "metadata": {
        "id": "6SJPPfbq9Rmg"
      },
      "execution_count": null,
      "outputs": []
    },
    {
      "cell_type": "markdown",
      "source": [
        "#Ejerjicion Sección 6\n"
      ],
      "metadata": {
        "id": "-rbOpCMH9ays"
      }
    },
    {
      "cell_type": "code",
      "source": [
        "import findspark\n",
        "findspark.init()\n",
        "from pyspark.sql import SparkSession\n",
        "\n",
        "spark = SparkSession.builder.appName(\"Aprender\").getOrCreate()\n",
        "sc = spark.sparkContext"
      ],
      "metadata": {
        "id": "m-kBraoT9eDj"
      },
      "execution_count": null,
      "outputs": []
    },
    {
      "cell_type": "code",
      "source": [
        "rdd = sc.parallelize([item for item in range(10)]).map(lambda x: (x, x ** 2))\n",
        "rdd.collect()"
      ],
      "metadata": {
        "colab": {
          "base_uri": "https://localhost:8080/"
        },
        "id": "WBnS7rb89oye",
        "outputId": "2c92ddda-edcf-4e01-89ff-97ada4ee009d"
      },
      "execution_count": null,
      "outputs": [
        {
          "output_type": "execute_result",
          "data": {
            "text/plain": [
              "[(0, 0),\n",
              " (1, 1),\n",
              " (2, 4),\n",
              " (3, 9),\n",
              " (4, 16),\n",
              " (5, 25),\n",
              " (6, 36),\n",
              " (7, 49),\n",
              " (8, 64),\n",
              " (9, 81)]"
            ]
          },
          "metadata": {},
          "execution_count": 144
        }
      ]
    },
    {
      "cell_type": "code",
      "source": [
        "df = rdd.toDF(['numero', 'cuadrado'])\n",
        "df.show()"
      ],
      "metadata": {
        "colab": {
          "base_uri": "https://localhost:8080/"
        },
        "id": "JKDKzLb5_D-c",
        "outputId": "769fb4c0-5223-40fe-8ea7-81fa310617da"
      },
      "execution_count": null,
      "outputs": [
        {
          "output_type": "stream",
          "name": "stdout",
          "text": [
            "+------+--------+\n",
            "|numero|cuadrado|\n",
            "+------+--------+\n",
            "|     0|       0|\n",
            "|     1|       1|\n",
            "|     2|       4|\n",
            "|     3|       9|\n",
            "|     4|      16|\n",
            "|     5|      25|\n",
            "|     6|      36|\n",
            "|     7|      49|\n",
            "|     8|      64|\n",
            "|     9|      81|\n",
            "+------+--------+\n",
            "\n"
          ]
        }
      ]
    },
    {
      "cell_type": "code",
      "source": [
        "df.printSchema()"
      ],
      "metadata": {
        "colab": {
          "base_uri": "https://localhost:8080/"
        },
        "id": "BmFQiXl5_0Uq",
        "outputId": "0e35e3e1-a4ca-4158-c215-38ef8b668fde"
      },
      "execution_count": null,
      "outputs": [
        {
          "output_type": "stream",
          "name": "stdout",
          "text": [
            "root\n",
            " |-- numero: long (nullable = true)\n",
            " |-- cuadrado: long (nullable = true)\n",
            "\n"
          ]
        }
      ]
    },
    {
      "cell_type": "code",
      "source": [
        "rdd1 = sc.parallelize([(1, 'Jose', 45.5), (2, 'Teresa', 54.3), (3, 'Katia', 12.7)])"
      ],
      "metadata": {
        "id": "ffbWGzArAAXk"
      },
      "execution_count": null,
      "outputs": []
    },
    {
      "cell_type": "code",
      "source": [
        "from pyspark.sql.types import StructType, StructField, IntegerType, StringType, DoubleType, DateType"
      ],
      "metadata": {
        "id": "8jaGgQ-jAELS"
      },
      "execution_count": null,
      "outputs": []
    },
    {
      "cell_type": "code",
      "source": [
        "esquema1 = StructType(\n",
        "    [\n",
        "     StructField ('id', IntegerType(), True),\n",
        "     StructField ('nombre', StringType(), True),\n",
        "     StructField('sueldo', DoubleType(), True)\n",
        "     ]\n",
        ")"
      ],
      "metadata": {
        "id": "U3xKBROhAlpm"
      },
      "execution_count": null,
      "outputs": []
    },
    {
      "cell_type": "code",
      "source": [
        "esquema2 = \"id INT, nombre STRING, sueldo DOUBLE\""
      ],
      "metadata": {
        "id": "XMHQ1Cu_CE8h"
      },
      "execution_count": null,
      "outputs": []
    },
    {
      "cell_type": "code",
      "source": [
        "df1 = spark.createDataFrame(rdd1, schema=esquema2)\n",
        "df1.show()\n",
        "df1.printSchema()"
      ],
      "metadata": {
        "colab": {
          "base_uri": "https://localhost:8080/"
        },
        "id": "hW73qKKgCNDJ",
        "outputId": "306f73e1-706a-4beb-882e-b43add97bbbf"
      },
      "execution_count": null,
      "outputs": [
        {
          "output_type": "stream",
          "name": "stdout",
          "text": [
            "+---+------+------+\n",
            "| id|nombre|sueldo|\n",
            "+---+------+------+\n",
            "|  1|  Jose|  45.5|\n",
            "|  2|Teresa|  54.3|\n",
            "|  3| Katia|  12.7|\n",
            "+---+------+------+\n",
            "\n",
            "root\n",
            " |-- id: integer (nullable = true)\n",
            " |-- nombre: string (nullable = true)\n",
            " |-- sueldo: double (nullable = true)\n",
            "\n"
          ]
        }
      ]
    },
    {
      "cell_type": "code",
      "source": [
        "df = spark.read.text('./Date/dataTXT.txt')"
      ],
      "metadata": {
        "id": "yzjrxYczCTUV"
      },
      "execution_count": null,
      "outputs": []
    },
    {
      "cell_type": "code",
      "source": [
        "df.show(truncate=False)"
      ],
      "metadata": {
        "colab": {
          "base_uri": "https://localhost:8080/"
        },
        "id": "jUYZpaUTDgd0",
        "outputId": "d10e1822-580d-4902-ccea-e199532bc878"
      },
      "execution_count": null,
      "outputs": [
        {
          "output_type": "stream",
          "name": "stdout",
          "text": [
            "+-----------------------------------------------------------------------+\n",
            "|value                                                                  |\n",
            "+-----------------------------------------------------------------------+\n",
            "|Estamos en el curso de pyspark                                         |\n",
            "|En este capítulo estamos estudiando el API SQL de Saprk                |\n",
            "|En esta sección estamos creado dataframes a partir de fuentes de datos,|\n",
            "|y en este ejemplo creamos un dataframe a partir de un texto plano      |\n",
            "+-----------------------------------------------------------------------+\n",
            "\n"
          ]
        }
      ]
    },
    {
      "cell_type": "code",
      "source": [
        "df = spark.read.csv('./Date/dataCSV.csv')\n",
        "df.show()"
      ],
      "metadata": {
        "colab": {
          "base_uri": "https://localhost:8080/",
          "height": 512
        },
        "id": "G55XLLqeDlSt",
        "outputId": "643ccf68-9baf-478c-bdc1-9c1941f35b8e"
      },
      "execution_count": null,
      "outputs": [
        {
          "output_type": "stream",
          "name": "stderr",
          "text": [
            "ERROR:root:KeyboardInterrupt while sending command.\n",
            "Traceback (most recent call last):\n",
            "  File \"/content/spark-3.4.3-bin-hadoop3/python/lib/py4j-0.10.9.7-src.zip/py4j/java_gateway.py\", line 1038, in send_command\n",
            "    response = connection.send_command(command)\n",
            "               ^^^^^^^^^^^^^^^^^^^^^^^^^^^^^^^^\n",
            "  File \"/content/spark-3.4.3-bin-hadoop3/python/lib/py4j-0.10.9.7-src.zip/py4j/clientserver.py\", line 511, in send_command\n",
            "    answer = smart_decode(self.stream.readline()[:-1])\n",
            "                          ^^^^^^^^^^^^^^^^^^^^^^\n",
            "  File \"/usr/lib/python3.11/socket.py\", line 718, in readinto\n",
            "    return self._sock.recv_into(b)\n",
            "           ^^^^^^^^^^^^^^^^^^^^^^^\n",
            "KeyboardInterrupt\n"
          ]
        },
        {
          "output_type": "error",
          "ename": "KeyboardInterrupt",
          "evalue": "",
          "traceback": [
            "\u001b[0;31m---------------------------------------------------------------------------\u001b[0m",
            "\u001b[0;31mKeyboardInterrupt\u001b[0m                         Traceback (most recent call last)",
            "\u001b[0;32m<ipython-input-154-3d6744ee6788>\u001b[0m in \u001b[0;36m<cell line: 0>\u001b[0;34m()\u001b[0m\n\u001b[0;32m----> 1\u001b[0;31m \u001b[0mdf\u001b[0m \u001b[0;34m=\u001b[0m \u001b[0mspark\u001b[0m\u001b[0;34m.\u001b[0m\u001b[0mread\u001b[0m\u001b[0;34m.\u001b[0m\u001b[0mcsv\u001b[0m\u001b[0;34m(\u001b[0m\u001b[0;34m'./dataCSV.csv'\u001b[0m\u001b[0;34m)\u001b[0m\u001b[0;34m\u001b[0m\u001b[0;34m\u001b[0m\u001b[0m\n\u001b[0m\u001b[1;32m      2\u001b[0m \u001b[0mdf\u001b[0m\u001b[0;34m.\u001b[0m\u001b[0mshow\u001b[0m\u001b[0;34m(\u001b[0m\u001b[0;34m)\u001b[0m\u001b[0;34m\u001b[0m\u001b[0;34m\u001b[0m\u001b[0m\n",
            "\u001b[0;32m/content/spark-3.4.3-bin-hadoop3/python/pyspark/sql/readwriter.py\u001b[0m in \u001b[0;36mcsv\u001b[0;34m(self, path, schema, sep, encoding, quote, escape, comment, header, inferSchema, ignoreLeadingWhiteSpace, ignoreTrailingWhiteSpace, nullValue, nanValue, positiveInf, negativeInf, dateFormat, timestampFormat, maxColumns, maxCharsPerColumn, maxMalformedLogPerPartition, mode, columnNameOfCorruptRecord, multiLine, charToEscapeQuoteEscaping, samplingRatio, enforceSchema, emptyValue, locale, lineSep, pathGlobFilter, recursiveFileLookup, modifiedBefore, modifiedAfter, unescapedQuoteHandling)\u001b[0m\n\u001b[1;32m    725\u001b[0m         \u001b[0;32mif\u001b[0m \u001b[0mtype\u001b[0m\u001b[0;34m(\u001b[0m\u001b[0mpath\u001b[0m\u001b[0;34m)\u001b[0m \u001b[0;34m==\u001b[0m \u001b[0mlist\u001b[0m\u001b[0;34m:\u001b[0m\u001b[0;34m\u001b[0m\u001b[0;34m\u001b[0m\u001b[0m\n\u001b[1;32m    726\u001b[0m             \u001b[0;32massert\u001b[0m \u001b[0mself\u001b[0m\u001b[0;34m.\u001b[0m\u001b[0m_spark\u001b[0m\u001b[0;34m.\u001b[0m\u001b[0m_sc\u001b[0m\u001b[0;34m.\u001b[0m\u001b[0m_jvm\u001b[0m \u001b[0;32mis\u001b[0m \u001b[0;32mnot\u001b[0m \u001b[0;32mNone\u001b[0m\u001b[0;34m\u001b[0m\u001b[0;34m\u001b[0m\u001b[0m\n\u001b[0;32m--> 727\u001b[0;31m             \u001b[0;32mreturn\u001b[0m \u001b[0mself\u001b[0m\u001b[0;34m.\u001b[0m\u001b[0m_df\u001b[0m\u001b[0;34m(\u001b[0m\u001b[0mself\u001b[0m\u001b[0;34m.\u001b[0m\u001b[0m_jreader\u001b[0m\u001b[0;34m.\u001b[0m\u001b[0mcsv\u001b[0m\u001b[0;34m(\u001b[0m\u001b[0mself\u001b[0m\u001b[0;34m.\u001b[0m\u001b[0m_spark\u001b[0m\u001b[0;34m.\u001b[0m\u001b[0m_sc\u001b[0m\u001b[0;34m.\u001b[0m\u001b[0m_jvm\u001b[0m\u001b[0;34m.\u001b[0m\u001b[0mPythonUtils\u001b[0m\u001b[0;34m.\u001b[0m\u001b[0mtoSeq\u001b[0m\u001b[0;34m(\u001b[0m\u001b[0mpath\u001b[0m\u001b[0;34m)\u001b[0m\u001b[0;34m)\u001b[0m\u001b[0;34m)\u001b[0m\u001b[0;34m\u001b[0m\u001b[0;34m\u001b[0m\u001b[0m\n\u001b[0m\u001b[1;32m    728\u001b[0m         \u001b[0;32melif\u001b[0m \u001b[0misinstance\u001b[0m\u001b[0;34m(\u001b[0m\u001b[0mpath\u001b[0m\u001b[0;34m,\u001b[0m \u001b[0mRDD\u001b[0m\u001b[0;34m)\u001b[0m\u001b[0;34m:\u001b[0m\u001b[0;34m\u001b[0m\u001b[0;34m\u001b[0m\u001b[0m\n\u001b[1;32m    729\u001b[0m \u001b[0;34m\u001b[0m\u001b[0m\n",
            "\u001b[0;32m/content/spark-3.4.3-bin-hadoop3/python/lib/py4j-0.10.9.7-src.zip/py4j/java_gateway.py\u001b[0m in \u001b[0;36m__call__\u001b[0;34m(self, *args)\u001b[0m\n\u001b[1;32m   1319\u001b[0m             \u001b[0mproto\u001b[0m\u001b[0;34m.\u001b[0m\u001b[0mEND_COMMAND_PART\u001b[0m\u001b[0;34m\u001b[0m\u001b[0;34m\u001b[0m\u001b[0m\n\u001b[1;32m   1320\u001b[0m \u001b[0;34m\u001b[0m\u001b[0m\n\u001b[0;32m-> 1321\u001b[0;31m         \u001b[0manswer\u001b[0m \u001b[0;34m=\u001b[0m \u001b[0mself\u001b[0m\u001b[0;34m.\u001b[0m\u001b[0mgateway_client\u001b[0m\u001b[0;34m.\u001b[0m\u001b[0msend_command\u001b[0m\u001b[0;34m(\u001b[0m\u001b[0mcommand\u001b[0m\u001b[0;34m)\u001b[0m\u001b[0;34m\u001b[0m\u001b[0;34m\u001b[0m\u001b[0m\n\u001b[0m\u001b[1;32m   1322\u001b[0m         return_value = get_return_value(\n\u001b[1;32m   1323\u001b[0m             answer, self.gateway_client, self.target_id, self.name)\n",
            "\u001b[0;32m/content/spark-3.4.3-bin-hadoop3/python/lib/py4j-0.10.9.7-src.zip/py4j/java_gateway.py\u001b[0m in \u001b[0;36msend_command\u001b[0;34m(self, command, retry, binary)\u001b[0m\n\u001b[1;32m   1036\u001b[0m         \u001b[0mconnection\u001b[0m \u001b[0;34m=\u001b[0m \u001b[0mself\u001b[0m\u001b[0;34m.\u001b[0m\u001b[0m_get_connection\u001b[0m\u001b[0;34m(\u001b[0m\u001b[0;34m)\u001b[0m\u001b[0;34m\u001b[0m\u001b[0;34m\u001b[0m\u001b[0m\n\u001b[1;32m   1037\u001b[0m         \u001b[0;32mtry\u001b[0m\u001b[0;34m:\u001b[0m\u001b[0;34m\u001b[0m\u001b[0;34m\u001b[0m\u001b[0m\n\u001b[0;32m-> 1038\u001b[0;31m             \u001b[0mresponse\u001b[0m \u001b[0;34m=\u001b[0m \u001b[0mconnection\u001b[0m\u001b[0;34m.\u001b[0m\u001b[0msend_command\u001b[0m\u001b[0;34m(\u001b[0m\u001b[0mcommand\u001b[0m\u001b[0;34m)\u001b[0m\u001b[0;34m\u001b[0m\u001b[0;34m\u001b[0m\u001b[0m\n\u001b[0m\u001b[1;32m   1039\u001b[0m             \u001b[0;32mif\u001b[0m \u001b[0mbinary\u001b[0m\u001b[0;34m:\u001b[0m\u001b[0;34m\u001b[0m\u001b[0;34m\u001b[0m\u001b[0m\n\u001b[1;32m   1040\u001b[0m                 \u001b[0;32mreturn\u001b[0m \u001b[0mresponse\u001b[0m\u001b[0;34m,\u001b[0m \u001b[0mself\u001b[0m\u001b[0;34m.\u001b[0m\u001b[0m_create_connection_guard\u001b[0m\u001b[0;34m(\u001b[0m\u001b[0mconnection\u001b[0m\u001b[0;34m)\u001b[0m\u001b[0;34m\u001b[0m\u001b[0;34m\u001b[0m\u001b[0m\n",
            "\u001b[0;32m/content/spark-3.4.3-bin-hadoop3/python/lib/py4j-0.10.9.7-src.zip/py4j/clientserver.py\u001b[0m in \u001b[0;36msend_command\u001b[0;34m(self, command)\u001b[0m\n\u001b[1;32m    509\u001b[0m         \u001b[0;32mtry\u001b[0m\u001b[0;34m:\u001b[0m\u001b[0;34m\u001b[0m\u001b[0;34m\u001b[0m\u001b[0m\n\u001b[1;32m    510\u001b[0m             \u001b[0;32mwhile\u001b[0m \u001b[0;32mTrue\u001b[0m\u001b[0;34m:\u001b[0m\u001b[0;34m\u001b[0m\u001b[0;34m\u001b[0m\u001b[0m\n\u001b[0;32m--> 511\u001b[0;31m                 \u001b[0manswer\u001b[0m \u001b[0;34m=\u001b[0m \u001b[0msmart_decode\u001b[0m\u001b[0;34m(\u001b[0m\u001b[0mself\u001b[0m\u001b[0;34m.\u001b[0m\u001b[0mstream\u001b[0m\u001b[0;34m.\u001b[0m\u001b[0mreadline\u001b[0m\u001b[0;34m(\u001b[0m\u001b[0;34m)\u001b[0m\u001b[0;34m[\u001b[0m\u001b[0;34m:\u001b[0m\u001b[0;34m-\u001b[0m\u001b[0;36m1\u001b[0m\u001b[0;34m]\u001b[0m\u001b[0;34m)\u001b[0m\u001b[0;34m\u001b[0m\u001b[0;34m\u001b[0m\u001b[0m\n\u001b[0m\u001b[1;32m    512\u001b[0m                 \u001b[0mlogger\u001b[0m\u001b[0;34m.\u001b[0m\u001b[0mdebug\u001b[0m\u001b[0;34m(\u001b[0m\u001b[0;34m\"Answer received: {0}\"\u001b[0m\u001b[0;34m.\u001b[0m\u001b[0mformat\u001b[0m\u001b[0;34m(\u001b[0m\u001b[0manswer\u001b[0m\u001b[0;34m)\u001b[0m\u001b[0;34m)\u001b[0m\u001b[0;34m\u001b[0m\u001b[0;34m\u001b[0m\u001b[0m\n\u001b[1;32m    513\u001b[0m                 \u001b[0;31m# Happens when a the other end is dead. There might be an empty\u001b[0m\u001b[0;34m\u001b[0m\u001b[0;34m\u001b[0m\u001b[0m\n",
            "\u001b[0;32m/usr/lib/python3.11/socket.py\u001b[0m in \u001b[0;36mreadinto\u001b[0;34m(self, b)\u001b[0m\n\u001b[1;32m    716\u001b[0m         \u001b[0;32mwhile\u001b[0m \u001b[0;32mTrue\u001b[0m\u001b[0;34m:\u001b[0m\u001b[0;34m\u001b[0m\u001b[0;34m\u001b[0m\u001b[0m\n\u001b[1;32m    717\u001b[0m             \u001b[0;32mtry\u001b[0m\u001b[0;34m:\u001b[0m\u001b[0;34m\u001b[0m\u001b[0;34m\u001b[0m\u001b[0m\n\u001b[0;32m--> 718\u001b[0;31m                 \u001b[0;32mreturn\u001b[0m \u001b[0mself\u001b[0m\u001b[0;34m.\u001b[0m\u001b[0m_sock\u001b[0m\u001b[0;34m.\u001b[0m\u001b[0mrecv_into\u001b[0m\u001b[0;34m(\u001b[0m\u001b[0mb\u001b[0m\u001b[0;34m)\u001b[0m\u001b[0;34m\u001b[0m\u001b[0;34m\u001b[0m\u001b[0m\n\u001b[0m\u001b[1;32m    719\u001b[0m             \u001b[0;32mexcept\u001b[0m \u001b[0mtimeout\u001b[0m\u001b[0;34m:\u001b[0m\u001b[0;34m\u001b[0m\u001b[0;34m\u001b[0m\u001b[0m\n\u001b[1;32m    720\u001b[0m                 \u001b[0mself\u001b[0m\u001b[0;34m.\u001b[0m\u001b[0m_timeout_occurred\u001b[0m \u001b[0;34m=\u001b[0m \u001b[0;32mTrue\u001b[0m\u001b[0;34m\u001b[0m\u001b[0;34m\u001b[0m\u001b[0m\n",
            "\u001b[0;31mKeyboardInterrupt\u001b[0m: "
          ]
        }
      ]
    },
    {
      "cell_type": "code",
      "source": [
        "df1 = spark.read.option('header', 'true').csv('./Date/dataCSV.csv')\n",
        "df1.show()"
      ],
      "metadata": {
        "id": "coqp8O8LDtEL"
      },
      "execution_count": null,
      "outputs": []
    },
    {
      "cell_type": "code",
      "source": [
        "df2 = spark.read.option('header', 'true').option('delimiter', '!').csv('./Date/dataTab.txt')\n",
        "df2.show()"
      ],
      "metadata": {
        "id": "0feG-1PUD6Dh"
      },
      "execution_count": null,
      "outputs": []
    },
    {
      "cell_type": "code",
      "source": [
        "json_schema = StructType(\n",
        "    [\n",
        "        StructField('color', StringType(), True),\n",
        "        StructField('edad', IntegerType(), True),\n",
        "        StructField('fecha', DateType(), True),\n",
        "        StructField('pais', StringType(), True)\n",
        "    ]\n",
        ")"
      ],
      "metadata": {
        "id": "n4V6HfCtDsci"
      },
      "execution_count": null,
      "outputs": []
    },
    {
      "cell_type": "markdown",
      "source": [],
      "metadata": {
        "id": "-mwQmqBbGmOi"
      }
    },
    {
      "cell_type": "code",
      "source": [
        "df4 = spark.read.schema(json_schema).json('./Date/dataJSON.json')\n",
        "df4.show()\n",
        "df4.printSchema()"
      ],
      "metadata": {
        "id": "Qop5npywGFO_"
      },
      "execution_count": null,
      "outputs": []
    },
    {
      "cell_type": "code",
      "source": [
        "df5= spark.read.parquet('./Date/dataPARQUET.parquet')\n",
        "df5.show()"
      ],
      "metadata": {
        "id": "AQ2q1UhZGTVP"
      },
      "execution_count": null,
      "outputs": []
    },
    {
      "cell_type": "code",
      "source": [
        "df6 = spark.read.format('parquet').load('./Date/dataPARQUET.parquet')\n",
        "df6.show()"
      ],
      "metadata": {
        "id": "ZaqbebGdHiBo"
      },
      "execution_count": null,
      "outputs": []
    },
    {
      "cell_type": "code",
      "source": [
        "df7 = spark.read.parquet('./Date/dataPARQUET.parquet')\n",
        "df7.show()\n",
        "df7.printSchema()"
      ],
      "metadata": {
        "id": "LARTVchtH0S-"
      },
      "execution_count": null,
      "outputs": []
    },
    {
      "cell_type": "code",
      "source": [
        "df7.select('title', 'tags').show()"
      ],
      "metadata": {
        "id": "bSoKJ_-yIOyU"
      },
      "execution_count": null,
      "outputs": []
    },
    {
      "cell_type": "code",
      "source": [
        "from pyspark.sql.functions import col\n",
        "\n",
        "df7.select(col('title'), col('tags')).show()"
      ],
      "metadata": {
        "id": "lnTAdWqxIYrx"
      },
      "execution_count": null,
      "outputs": []
    },
    {
      "cell_type": "code",
      "source": [
        "from pyspark.sql.functions import col\n",
        "\n",
        "df8 = spark.read.parquet('./Date/dataPARQUET.parquet')\n",
        "df8.show(1)\n"
      ],
      "metadata": {
        "id": "VypR7d9xIjhY"
      },
      "execution_count": null,
      "outputs": []
    },
    {
      "cell_type": "code",
      "source": [
        "df8.select('video_id', 'trending_date').show()"
      ],
      "metadata": {
        "id": "jdwd04sskQ_K"
      },
      "execution_count": null,
      "outputs": []
    },
    {
      "cell_type": "code",
      "source": [
        "df8.select(\n",
        "    'likes',\n",
        "    'dislikes',\n",
        "    ('likes' - 'dislikes').alias('difference')\n",
        ")"
      ],
      "metadata": {
        "id": "iyVn5ebYkZPE"
      },
      "execution_count": null,
      "outputs": []
    },
    {
      "cell_type": "code",
      "source": [
        "df8.select(\n",
        "    col('likes'),\n",
        "    col('dislikes'),\n",
        "   (col('likes') - col('dislikes')).alias('difference')\n",
        ").show()"
      ],
      "metadata": {
        "id": "4to7DTuDk_xL"
      },
      "execution_count": null,
      "outputs": []
    },
    {
      "cell_type": "code",
      "source": [
        "df8.selectExpr('likes', 'dislikes', '(likes - dislikes) as difference').show()"
      ],
      "metadata": {
        "id": "4r18YzPSlS7f"
      },
      "execution_count": null,
      "outputs": []
    },
    {
      "cell_type": "code",
      "source": [
        "df8.selectExpr(\"count(distinct(video_id)) as videos\").show()"
      ],
      "metadata": {
        "id": "IPnfw08Pl1XY"
      },
      "execution_count": null,
      "outputs": []
    },
    {
      "cell_type": "code",
      "source": [
        "df8.filter(col('video_id')=='2kyS6SvSYSE').show()"
      ],
      "metadata": {
        "id": "XTV7SfZjmDF5"
      },
      "execution_count": null,
      "outputs": []
    },
    {
      "cell_type": "code",
      "source": [
        "df9 = spark.read.parquet('./Date/dataPARQUET.parquet').where(col('video_id')=='2kyS6SvSYSE')\n",
        "df9.show()"
      ],
      "metadata": {
        "id": "c0JefKjTmUjv"
      },
      "execution_count": null,
      "outputs": []
    },
    {
      "cell_type": "code",
      "source": [
        "df9.select('trending_date', 'likes').filter((col('trending_date') != '17.14.11') & (col('likes') > 7000)).show(truncate=False)"
      ],
      "metadata": {
        "id": "dPV0W6Hkm5CK"
      },
      "execution_count": null,
      "outputs": []
    },
    {
      "cell_type": "markdown",
      "source": [],
      "metadata": {
        "id": "8Y5BMFMOoPgY"
      }
    },
    {
      "cell_type": "code",
      "source": [
        "df9.filter(col('trending_date') != '17.14.11').filter(col('likes') > 7000).show()"
      ],
      "metadata": {
        "id": "xBJoQ5xKnpx2"
      },
      "execution_count": null,
      "outputs": []
    },
    {
      "cell_type": "code",
      "source": [
        "df9_sin_duplicados = df9.dropDuplicates()\n",
        "df9_sin_duplicados.show()"
      ],
      "metadata": {
        "id": "hNW9sw2joYDa"
      },
      "execution_count": null,
      "outputs": []
    },
    {
      "cell_type": "code",
      "source": [
        "df9.dropDuplicates(['video_id']).show()"
      ],
      "metadata": {
        "id": "cPP18L6Wozlx"
      },
      "execution_count": null,
      "outputs": []
    },
    {
      "cell_type": "markdown",
      "source": [],
      "metadata": {
        "id": "RtTHokVnoMZZ"
      }
    },
    {
      "cell_type": "code",
      "source": [
        "df =  (spark.read.parquet('./Date/dataPARQUET.parquet')\n",
        "        .select(col('likes'), col('views'), col('video_id'), col('dislikes'))\n",
        "        .dropDuplicates(['video_id'])\n",
        "        )\n",
        "df.show()\n",
        "\n",
        "\n"
      ],
      "metadata": {
        "id": "HAGKebJ-pKW4"
      },
      "execution_count": null,
      "outputs": []
    },
    {
      "cell_type": "code",
      "source": [
        "from pyspark.sql.functions import desc\n",
        "\n",
        "df.where(col('likes') != 'null').sort('likes')\n",
        "\n",
        "df.sort(desc('likes'))\n",
        "\n",
        "df.orderBy(col('views').desc()).show()"
      ],
      "metadata": {
        "id": "OLyIYL2PpPCy"
      },
      "execution_count": null,
      "outputs": []
    },
    {
      "cell_type": "code",
      "source": [
        "# funcion limit\n",
        "\n",
        "top_10 = df.orderBy(col('views').desc()).limit(10)\n",
        "top_10.show()"
      ],
      "metadata": {
        "id": "Ky7zB6v7qCt5"
      },
      "execution_count": null,
      "outputs": []
    },
    {
      "cell_type": "code",
      "source": [
        "#withcolumn\n",
        "\n",
        "\n",
        "\n",
        "df1 = df.withColumn('valoracion', col('likes') - col('dislikes'))\n",
        "df1.show()"
      ],
      "metadata": {
        "id": "rrHHtdlirbGP"
      },
      "execution_count": null,
      "outputs": []
    },
    {
      "cell_type": "code",
      "source": [
        "df1 = (df.withColumn('valoracion', col('likes') - col('dislikes'))\n",
        "         .withColumn('porcentaje_likes', (col('likes') / (col('likes') + col('dislikes'))) * 100)\n",
        "       )\n",
        "df1.orderBy('porcentaje_likes').where((col('likes')!='null') & (col('porcentaje_likes')!= 'null')).show()\n"
      ],
      "metadata": {
        "id": "fg-IWGRrr5O0"
      },
      "execution_count": null,
      "outputs": []
    },
    {
      "cell_type": "markdown",
      "source": [
        "#Ejerjicios Seccion 7"
      ],
      "metadata": {
        "id": "8IQA1ii9FWAy"
      }
    },
    {
      "cell_type": "code",
      "source": [
        "import findspark\n",
        "findspark.init()\n",
        "from pyspark.sql import SparkSession\n",
        "spark = SparkSession.builder.appName(\"Ejerjicios7\").getOrCreate()\n",
        "\n",
        "sc = spark.sparkContext"
      ],
      "metadata": {
        "id": "L_3-zQYasEnn"
      },
      "execution_count": null,
      "outputs": []
    },
    {
      "cell_type": "code",
      "source": [
        "df1 = spark.read.csv('./Date/Case.csv', header=True)"
      ],
      "metadata": {
        "id": "qFJ1X0OHGIaT"
      },
      "execution_count": null,
      "outputs": []
    },
    {
      "cell_type": "markdown",
      "source": [
        "##FUNCIONES"
      ],
      "metadata": {
        "id": "RZacrsNvQuuR"
      }
    },
    {
      "cell_type": "code",
      "source": [
        "from pyspark.sql.functions import col,sum,countDistinct"
      ],
      "metadata": {
        "id": "16eRnQRhQws3"
      },
      "execution_count": null,
      "outputs": []
    },
    {
      "cell_type": "code",
      "source": [
        "df.show()"
      ],
      "metadata": {
        "colab": {
          "base_uri": "https://localhost:8080/",
          "height": 141
        },
        "id": "aRvKvNt6I1fI",
        "outputId": "a1cebaea-0943-428a-d331-35c0f9605d9f"
      },
      "execution_count": null,
      "outputs": [
        {
          "output_type": "error",
          "ename": "AttributeError",
          "evalue": "'NoneType' object has no attribute 'show'",
          "traceback": [
            "\u001b[0;31m---------------------------------------------------------------------------\u001b[0m",
            "\u001b[0;31mAttributeError\u001b[0m                            Traceback (most recent call last)",
            "\u001b[0;32m<ipython-input-211-1a6ce2362cd4>\u001b[0m in \u001b[0;36m<cell line: 0>\u001b[0;34m()\u001b[0m\n\u001b[0;32m----> 1\u001b[0;31m \u001b[0mdf\u001b[0m\u001b[0;34m.\u001b[0m\u001b[0mshow\u001b[0m\u001b[0;34m(\u001b[0m\u001b[0;34m)\u001b[0m\u001b[0;34m\u001b[0m\u001b[0;34m\u001b[0m\u001b[0m\n\u001b[0m",
            "\u001b[0;31mAttributeError\u001b[0m: 'NoneType' object has no attribute 'show'"
          ]
        }
      ]
    },
    {
      "cell_type": "code",
      "source": [
        "from pyspark.sql.functions import col,sum\n",
        "df1 = df1.select('province', 'city', 'confirmed')\n",
        "df1.printSchema()"
      ],
      "metadata": {
        "colab": {
          "base_uri": "https://localhost:8080/"
        },
        "id": "8dhrAUBaGvBt",
        "outputId": "9264d47c-edea-4507-959f-8907e944c962"
      },
      "execution_count": null,
      "outputs": [
        {
          "output_type": "stream",
          "name": "stdout",
          "text": [
            "root\n",
            " |-- province: string (nullable = true)\n",
            " |-- city: string (nullable = true)\n",
            " |-- confirmed: double (nullable = true)\n",
            "\n"
          ]
        }
      ]
    },
    {
      "cell_type": "code",
      "source": [
        "df1.show()"
      ],
      "metadata": {
        "colab": {
          "base_uri": "https://localhost:8080/"
        },
        "id": "UFNTE6FjMRwH",
        "outputId": "e5c75ffc-1981-4b82-e128-74eb834f9bdc"
      },
      "execution_count": null,
      "outputs": [
        {
          "output_type": "stream",
          "name": "stdout",
          "text": [
            "+--------+---------------+---------+\n",
            "|province|           city|confirmed|\n",
            "+--------+---------------+---------+\n",
            "|   Seoul|     Yongsan-gu|      139|\n",
            "|   Seoul|      Gwanak-gu|      119|\n",
            "|   Seoul|        Guro-gu|       95|\n",
            "|   Seoul|   Yangcheon-gu|       43|\n",
            "|   Seoul|      Dobong-gu|       43|\n",
            "|   Seoul|        Guro-gu|       41|\n",
            "|   Seoul|from other city|       36|\n",
            "|   Seoul|  Dongdaemun-gu|       17|\n",
            "|   Seoul|from other city|       25|\n",
            "|   Seoul|      Gwanak-gu|       30|\n",
            "|   Seoul|   Eunpyeong-gu|       14|\n",
            "|   Seoul|   Seongdong-gu|       13|\n",
            "|   Seoul|      Jongno-gu|       10|\n",
            "|   Seoul|     Gangnam-gu|        7|\n",
            "|   Seoul|        Jung-gu|        7|\n",
            "|   Seoul|   Seodaemun-gu|        5|\n",
            "|   Seoul|      Jongno-gu|        7|\n",
            "|   Seoul|     Gangnam-gu|        6|\n",
            "|   Seoul|from other city|        1|\n",
            "|   Seoul|   Geumcheon-gu|        6|\n",
            "+--------+---------------+---------+\n",
            "only showing top 20 rows\n",
            "\n"
          ]
        }
      ]
    },
    {
      "cell_type": "code",
      "source": [
        "df1 = df1.withColumn('confirmed', col('confirmed').cast('double'))\n",
        "df1.printSchema()\n",
        "df1.orderBy('confirmed').show()"
      ],
      "metadata": {
        "colab": {
          "base_uri": "https://localhost:8080/"
        },
        "id": "vBs_02v0HZcX",
        "outputId": "2afd6f0a-b356-49ea-b3e2-3a0e70f886e6"
      },
      "execution_count": null,
      "outputs": [
        {
          "output_type": "stream",
          "name": "stdout",
          "text": [
            "root\n",
            " |-- province: string (nullable = true)\n",
            " |-- city: string (nullable = true)\n",
            " |-- confirmed: double (nullable = true)\n",
            "\n",
            "+------------+---------------+---------+\n",
            "|    province|           city|confirmed|\n",
            "+------------+---------------+---------+\n",
            "|       Seoul|     Gangseo-gu|      0.0|\n",
            "|  Gangwon-do|              -|      0.0|\n",
            "|     Jeju-do|              -|      0.0|\n",
            "|       Busan|from other city|      1.0|\n",
            "|       Seoul|     Gangnam-gu|      1.0|\n",
            "|       Seoul|from other city|      1.0|\n",
            "|       Seoul|from other city|      1.0|\n",
            "|       Seoul|              -|      1.0|\n",
            "|      Sejong|              -|      1.0|\n",
            "|     Gwangju|              -|      1.0|\n",
            "|      Sejong|from other city|      1.0|\n",
            "|Jeollabuk-do|from other city|      1.0|\n",
            "|Jeollanam-do|from other city|      1.0|\n",
            "|     Jeju-do|from other city|      1.0|\n",
            "|       Daegu|from other city|      2.0|\n",
            "|       Daegu|from other city|      2.0|\n",
            "|     Incheon|from other city|      2.0|\n",
            "|     Daejeon|from other city|      2.0|\n",
            "|     Daejeon|from other city|      2.0|\n",
            "|       Seoul|from other city|      2.0|\n",
            "+------------+---------------+---------+\n",
            "only showing top 20 rows\n",
            "\n"
          ]
        }
      ]
    },
    {
      "cell_type": "code",
      "source": [
        "df1 = df1.groupBy('province', 'city').agg(sum(col('confirmed')).alias('total_confirmed'))"
      ],
      "metadata": {
        "id": "CkwxWVDmL4fA"
      },
      "execution_count": null,
      "outputs": []
    },
    {
      "cell_type": "code",
      "source": [
        "df1.orderBy(desc('total_confirmed')).where(col('city')!='-').where(col('city')!='from other city').show(3)"
      ],
      "metadata": {
        "colab": {
          "base_uri": "https://localhost:8080/"
        },
        "id": "FGq3K9ozIZD2",
        "outputId": "929f6d16-6cee-42d8-9004-dbc8a3a5cd81"
      },
      "execution_count": null,
      "outputs": [
        {
          "output_type": "stream",
          "name": "stdout",
          "text": [
            "+--------+------------+---------------+\n",
            "|province|        city|total_confirmed|\n",
            "+--------+------------+---------------+\n",
            "|   Daegu|      Nam-gu|         4511.0|\n",
            "|   Daegu|Dalseong-gun|          297.0|\n",
            "|   Seoul|   Gwanak-gu|          149.0|\n",
            "+--------+------------+---------------+\n",
            "only showing top 3 rows\n",
            "\n"
          ]
        }
      ]
    },
    {
      "cell_type": "code",
      "source": [
        "df2 = spark.read.csv('PatientInfo.csv', header=True)\n",
        "countBefore = df2.select(countDistinct('patient_id')).collect()\n",
        "print(countBefore)\n",
        "\n",
        "df2 = df2.dropDuplicates(['patient_id'])\n",
        "countAfter = df2.select(countDistinct('patient_id')).collect()\n",
        "print(countAfter)\n",
        "\n",
        "df3 = df2.where(\"infected_by IS NOT NULL\")\n",
        "count = df3.select(countDistinct('patient_id')).collect()\n",
        "print(count)\n",
        "\n",
        "df3.where(\"sex = 'female'\").filter((col('sex').isNotNull())).drop('released_date', 'deceased_date').show()"
      ],
      "metadata": {
        "colab": {
          "base_uri": "https://localhost:8080/"
        },
        "id": "PGmpe-ECLx0N",
        "outputId": "b8530f68-ba2f-40f2-f626-27a891ddf493"
      },
      "execution_count": null,
      "outputs": [
        {
          "output_type": "stream",
          "name": "stdout",
          "text": [
            "[Row(count(DISTINCT patient_id)=5164)]\n",
            "[Row(count(DISTINCT patient_id)=5164)]\n",
            "[Row(count(DISTINCT patient_id)=1346)]\n",
            "+----------+------+---+-------+--------+-------------+--------------------+-----------+--------------+------------------+--------------+--------+\n",
            "|patient_id|   sex|age|country|province|         city|      infection_case|infected_by|contact_number|symptom_onset_date|confirmed_date|   state|\n",
            "+----------+------+---+-------+--------+-------------+--------------------+-----------+--------------+------------------+--------------+--------+\n",
            "|1000000005|female|20s|  Korea|   Seoul|  Seongbuk-gu|contact with patient| 1000000002|             2|              null|    2020-01-31|released|\n",
            "|1000000006|female|50s|  Korea|   Seoul|    Jongno-gu|contact with patient| 1000000003|            43|              null|    2020-01-31|released|\n",
            "|1000000010|female|60s|  Korea|   Seoul|  Seongbuk-gu|contact with patient| 1000000003|             6|              null|    2020-02-05|released|\n",
            "|1000000014|female|60s|  Korea|   Seoul|    Jongno-gu|contact with patient| 1000000013|            27|        2020-02-06|    2020-02-16|released|\n",
            "|1000000019|female|70s|  Korea|   Seoul|    Jongno-gu|contact with patient| 1000000021|          null|              null|    2020-02-20|released|\n",
            "|1000000020|female|70s|  Korea|   Seoul| Seongdong-gu|    Seongdong-gu APT| 1000000015|          null|              null|    2020-02-20|released|\n",
            "|1000000029|female|20s|  Korea|   Seoul|    Jongno-gu|Eunpyeong St. Mar...| 1000000028|          null|        2020-02-11|    2020-02-26|released|\n",
            "|1000000033|female|50s|  Korea|   Seoul|    Songpa-gu|contact with patient| 1000000031|          null|              null|    2020-02-24|released|\n",
            "|1000000037|female|40s|  Korea|   Seoul|    Songpa-gu|contact with patient| 1000000031|          null|              null|    2020-02-25|released|\n",
            "|1000000040|female|60s|  Korea|   Seoul|    Gwanak-gu|     overseas inflow| 1500000002|          null|              null|    2020-02-25|released|\n",
            "|1000000046|female|20s|  Korea|   Seoul|          etc|contact with patient| 1000000041|          null|              null|    2020-02-26|released|\n",
            "|1000000053|female|40s|  Korea|   Seoul| Eunpyeong-gu|Eunpyeong St. Mar...| 1000000054|          null|        2020-02-25|    2020-02-27|released|\n",
            "|1000000059|female|60s|  Korea|   Seoul| Eunpyeong-gu|Eunpyeong St. Mar...| 1000000060|          null|              null|    2020-02-28|released|\n",
            "|1000000064|female|30s|  Korea|   Seoul|   Gangnam-gu|contact with patient| 1000000047|          null|        2020-02-26|    2020-02-29|released|\n",
            "|1000000067|female|20s|  Korea|   Seoul|    Songpa-gu|contact with patient| 1000000033|          null|              null|    2020-02-29|released|\n",
            "|1000000113|female|60s|  Korea|   Seoul|   Gangbuk-gu|contact with patient| 1000000111|          null|        2020-02-24|    2020-03-06|released|\n",
            "|1000000114|female|20s|  Korea|   Seoul| Yangcheon-gu|contact with patient| 1000000115|          null|              null|    2020-03-07|released|\n",
            "|1000000121|female| 0s|  Korea|   Seoul|Dongdaemun-gu|contact with patient| 1000000120|          null|        2020-03-04|    2020-03-08|released|\n",
            "|1000000126|female|30s|  Korea|   Seoul|Dongdaemun-gu|contact with patient| 1000000120|          null|        2020-03-04|    2020-03-08|released|\n",
            "|1000000129|female|60s|  Korea|   Seoul|Dongdaemun-gu|contact with patient| 1000000120|          null|              null|    2020-03-08|released|\n",
            "+----------+------+---+-------+--------+-------------+--------------------+-----------+--------------+------------------+--------------+--------+\n",
            "only showing top 20 rows\n",
            "\n"
          ]
        }
      ]
    },
    {
      "cell_type": "code",
      "source": [],
      "metadata": {
        "id": "-b2dsgntPuGH"
      },
      "execution_count": null,
      "outputs": []
    },
    {
      "cell_type": "markdown",
      "source": [],
      "metadata": {
        "id": "VsMK_OZLCYOD"
      }
    },
    {
      "cell_type": "markdown",
      "source": [
        "#Todos ejerjicios"
      ],
      "metadata": {
        "id": "GbACD07jCaMb"
      }
    },
    {
      "cell_type": "code",
      "source": [
        "import findspark\n",
        "findspark.init()\n",
        "\n",
        "from pyspark.sql import SparkSession\n",
        "spark = SparkSession.builder.master(\"local[*]\").appName('Cap2').getOrCreate()\n",
        "sc = spark.sparkContext"
      ],
      "metadata": {
        "id": "Am9qXnDMCdE9"
      },
      "execution_count": null,
      "outputs": []
    },
    {
      "cell_type": "code",
      "source": [
        "rdd1 = sc.emptyRDD()\n",
        "rdd1.getNumPartitions()"
      ],
      "metadata": {
        "colab": {
          "base_uri": "https://localhost:8080/"
        },
        "id": "EL2odLFIDO3v",
        "outputId": "7c1868b1-9c6c-4064-db29-9162d6c4edf3"
      },
      "execution_count": null,
      "outputs": [
        {
          "output_type": "execute_result",
          "data": {
            "text/plain": [
              "0"
            ]
          },
          "metadata": {},
          "execution_count": 4
        }
      ]
    },
    {
      "cell_type": "code",
      "source": [
        "rdd2 = sc.parallelize([],5)\n",
        "rdd2.getNumPartitions()"
      ],
      "metadata": {
        "colab": {
          "base_uri": "https://localhost:8080/"
        },
        "id": "svqhRgDhDeNu",
        "outputId": "0948c323-f4ac-4d71-c87a-fb670d8d4419"
      },
      "execution_count": null,
      "outputs": [
        {
          "output_type": "execute_result",
          "data": {
            "text/plain": [
              "5"
            ]
          },
          "metadata": {},
          "execution_count": 5
        }
      ]
    },
    {
      "cell_type": "code",
      "source": [
        "rdd3 = sc.parallelize([1,2,3,5,7,11,13,17,19])\n",
        "rdd3.collect()"
      ],
      "metadata": {
        "colab": {
          "base_uri": "https://localhost:8080/"
        },
        "id": "wl9l-ggsDtPF",
        "outputId": "c11b9886-9e20-4f24-b5ff-8471f0dbf995"
      },
      "execution_count": null,
      "outputs": [
        {
          "output_type": "execute_result",
          "data": {
            "text/plain": [
              "[1, 2, 3, 5, 7, 11, 13, 17, 19]"
            ]
          },
          "metadata": {},
          "execution_count": 6
        }
      ]
    },
    {
      "cell_type": "code",
      "source": [
        "rdd4 = rdd3.filter(lambda x: x>10)\n",
        "rdd4.collect()"
      ],
      "metadata": {
        "colab": {
          "base_uri": "https://localhost:8080/"
        },
        "id": "djbSTk8gECWB",
        "outputId": "06fa733a-fd20-42ce-cca1-c9684b31f9d8"
      },
      "execution_count": null,
      "outputs": [
        {
          "output_type": "execute_result",
          "data": {
            "text/plain": [
              "[11, 13, 17, 19]"
            ]
          },
          "metadata": {},
          "execution_count": 7
        }
      ]
    },
    {
      "cell_type": "code",
      "source": [
        "rdd5 = sc.wholeTextFiles('./Date/el_valor_del_big_data.txt')\n",
        "rdd5.collect()"
      ],
      "metadata": {
        "colab": {
          "base_uri": "https://localhost:8080/"
        },
        "id": "mSu4Xs9zES_a",
        "outputId": "4eefbb53-d917-47d4-c5da-9d83f668c392"
      },
      "execution_count": null,
      "outputs": [
        {
          "output_type": "execute_result",
          "data": {
            "text/plain": [
              "[('file:/content/el_valor_del_big_data.txt',\n",
              "  'El valor y la realidad de big data\\r\\nEn los últimos años, han surgido otras \"dos V\": valor y veracidad. Los datos poseen un valor intrínseco. Sin embargo, no tienen ninguna utilidad hasta que dicho valor se descubre. Resulta igualmente importante: ¿cuál es la veracidad de sus datos y cuánto puede confiar en ellos?\\r\\n\\r\\nHoy en día, el big data se ha convertido en un activo crucial. Piense en algunas de las mayores empresas tecnológicas del mundo. Gran parte del valor que ofrecen procede de sus datos, que analizan constantemente para generar una mayor eficiencia y desarrollar nuevos productos.\\r\\n\\r\\nAvances tecnológicos recientes han reducido exponencialmente el coste del almacenamiento y la computación de datos, haciendo que almacenar datos resulte más fácil y barato que nunca. Actualmente, con un mayor volumen de big data más barato y accesible, puede tomar decisiones empresariales más acertadas y precisas.\\r\\n\\r\\nIdentificar el valor del big data no pasa solo por analizarlo (que es ya una ventaja en sí misma). Se trata de todo un proceso de descubrimiento que requiere que los analistas, usuarios empresariales y ejecutivos se planteen las preguntas correctas, identifiquen patrones, formulen hipótesis informadas y predigan comportamientos.')]"
            ]
          },
          "metadata": {},
          "execution_count": 8
        }
      ]
    },
    {
      "cell_type": "code",
      "source": [
        "rdd6 = sc.textFile('./Date/el_valor_del_big_data.txt')\n",
        "rdd6.collect()"
      ],
      "metadata": {
        "colab": {
          "base_uri": "https://localhost:8080/"
        },
        "id": "kliwzgjYFpYx",
        "outputId": "a8edeb2d-c1ad-492d-a668-f3e118e1bfc0"
      },
      "execution_count": null,
      "outputs": [
        {
          "output_type": "execute_result",
          "data": {
            "text/plain": [
              "['El valor y la realidad de big data',\n",
              " 'En los últimos años, han surgido otras \"dos V\": valor y veracidad. Los datos poseen un valor intrínseco. Sin embargo, no tienen ninguna utilidad hasta que dicho valor se descubre. Resulta igualmente importante: ¿cuál es la veracidad de sus datos y cuánto puede confiar en ellos?',\n",
              " '',\n",
              " 'Hoy en día, el big data se ha convertido en un activo crucial. Piense en algunas de las mayores empresas tecnológicas del mundo. Gran parte del valor que ofrecen procede de sus datos, que analizan constantemente para generar una mayor eficiencia y desarrollar nuevos productos.',\n",
              " '',\n",
              " 'Avances tecnológicos recientes han reducido exponencialmente el coste del almacenamiento y la computación de datos, haciendo que almacenar datos resulte más fácil y barato que nunca. Actualmente, con un mayor volumen de big data más barato y accesible, puede tomar decisiones empresariales más acertadas y precisas.',\n",
              " '',\n",
              " 'Identificar el valor del big data no pasa solo por analizarlo (que es ya una ventaja en sí misma). Se trata de todo un proceso de descubrimiento que requiere que los analistas, usuarios empresariales y ejecutivos se planteen las preguntas correctas, identifiquen patrones, formulen hipótesis informadas y predigan comportamientos.']"
            ]
          },
          "metadata": {},
          "execution_count": 9
        }
      ]
    },
    {
      "cell_type": "code",
      "source": [
        "rdd8 = sc.parallelize(['Python', 'R', 'C', 'Scala', 'Rugby', 'SQL'])\n",
        "rdd8.collect()"
      ],
      "metadata": {
        "colab": {
          "base_uri": "https://localhost:8080/"
        },
        "id": "za23SiYGFuWO",
        "outputId": "40edd3a8-3f8b-4d25-f1d2-f75167aebb09"
      },
      "execution_count": null,
      "outputs": [
        {
          "output_type": "execute_result",
          "data": {
            "text/plain": [
              "['Python', 'R', 'C', 'Scala', 'Rugby', 'SQL']"
            ]
          },
          "metadata": {},
          "execution_count": 10
        }
      ]
    },
    {
      "cell_type": "code",
      "source": [
        "rdd9 = rdd8.map(lambda x: x.upper())\n",
        "rdd9.collect()"
      ],
      "metadata": {
        "colab": {
          "base_uri": "https://localhost:8080/"
        },
        "id": "SkwrKn9XGAP3",
        "outputId": "4f1c9586-d2e6-442c-9d85-2f40a53f8f0a"
      },
      "execution_count": null,
      "outputs": [
        {
          "output_type": "execute_result",
          "data": {
            "text/plain": [
              "['PYTHON', 'R', 'C', 'SCALA', 'RUGBY', 'SQL']"
            ]
          },
          "metadata": {},
          "execution_count": 11
        }
      ]
    },
    {
      "cell_type": "code",
      "source": [
        "rdd10 = rdd9.map(lambda x: x.lower())\n",
        "rdd10.collect()"
      ],
      "metadata": {
        "colab": {
          "base_uri": "https://localhost:8080/"
        },
        "id": "PIvXMSboGDZQ",
        "outputId": "23e38c67-a112-428d-b7f6-d4673a063bd3"
      },
      "execution_count": null,
      "outputs": [
        {
          "output_type": "execute_result",
          "data": {
            "text/plain": [
              "['python', 'r', 'c', 'scala', 'rugby', 'sql']"
            ]
          },
          "metadata": {},
          "execution_count": 12
        }
      ]
    },
    {
      "cell_type": "code",
      "source": [
        "rdd11 = rdd10.filter(lambda x: x.startswith('r'))\n",
        "rdd11.collect()"
      ],
      "metadata": {
        "colab": {
          "base_uri": "https://localhost:8080/"
        },
        "id": "bjgDxfkwG6f3",
        "outputId": "a3a632f7-6654-49d0-afd6-52acd0403aa5"
      },
      "execution_count": null,
      "outputs": [
        {
          "output_type": "execute_result",
          "data": {
            "text/plain": [
              "['r', 'rugby']"
            ]
          },
          "metadata": {},
          "execution_count": 13
        }
      ]
    },
    {
      "cell_type": "code",
      "source": [
        "pares = sc.parallelize([22,24,26,28])\n",
        "pares.collect()"
      ],
      "metadata": {
        "colab": {
          "base_uri": "https://localhost:8080/"
        },
        "id": "THMFPNB9HOP8",
        "outputId": "e959be43-dadd-49da-b678-84fa00b07f8f"
      },
      "execution_count": null,
      "outputs": [
        {
          "output_type": "execute_result",
          "data": {
            "text/plain": [
              "[22, 24, 26, 28]"
            ]
          },
          "metadata": {},
          "execution_count": 14
        }
      ]
    },
    {
      "cell_type": "code",
      "source": [
        "from math import sqrt\n",
        "rdd11 = pares.map(lambda x: sqrt(x))\n",
        "rdd11.collect()"
      ],
      "metadata": {
        "colab": {
          "base_uri": "https://localhost:8080/"
        },
        "id": "Ty8X3kEzHfMg",
        "outputId": "3b68a4a7-c44c-41fa-8b45-295e13efec7b"
      },
      "execution_count": null,
      "outputs": [
        {
          "output_type": "execute_result",
          "data": {
            "text/plain": [
              "[4.69041575982343, 4.898979485566356, 5.0990195135927845, 5.291502622129181]"
            ]
          },
          "metadata": {},
          "execution_count": 15
        }
      ]
    },
    {
      "cell_type": "code",
      "source": [
        "rdd12 = pares.map(lambda x: (x,sqrt(x)))\n",
        "rdd12.collect()"
      ],
      "metadata": {
        "colab": {
          "base_uri": "https://localhost:8080/"
        },
        "id": "p1yrKgPXHn-2",
        "outputId": "efeae2f4-af0c-4f76-b054-5cb94b073d87"
      },
      "execution_count": null,
      "outputs": [
        {
          "output_type": "execute_result",
          "data": {
            "text/plain": [
              "[(22, 4.69041575982343),\n",
              " (24, 4.898979485566356),\n",
              " (26, 5.0990195135927845),\n",
              " (28, 5.291502622129181)]"
            ]
          },
          "metadata": {},
          "execution_count": 16
        }
      ]
    },
    {
      "cell_type": "code",
      "source": [
        "rdd11 = rdd11.repartition(20)\n",
        "rdd11.collect()\n"
      ],
      "metadata": {
        "colab": {
          "base_uri": "https://localhost:8080/"
        },
        "id": "zRztFbruIdXd",
        "outputId": "944fde68-9cd6-4cee-ad22-7df189e92427"
      },
      "execution_count": null,
      "outputs": [
        {
          "output_type": "execute_result",
          "data": {
            "text/plain": [
              "[5.0990195135927845, 5.291502622129181, 4.69041575982343, 4.898979485566356]"
            ]
          },
          "metadata": {},
          "execution_count": 17
        }
      ]
    },
    {
      "cell_type": "code",
      "source": [
        "rdd11.getNumPartitions()"
      ],
      "metadata": {
        "colab": {
          "base_uri": "https://localhost:8080/"
        },
        "id": "__MsNNr9I8Fx",
        "outputId": "0d5032af-c930-4861-8bb6-0ccf61478d93"
      },
      "execution_count": null,
      "outputs": [
        {
          "output_type": "execute_result",
          "data": {
            "text/plain": [
              "20"
            ]
          },
          "metadata": {},
          "execution_count": 18
        }
      ]
    },
    {
      "cell_type": "code",
      "source": [
        "rdd11 = rdd11.coalesce(5)\n",
        "rdd11.collect()\n",
        "#rdd11.getNumPartitions()"
      ],
      "metadata": {
        "colab": {
          "base_uri": "https://localhost:8080/"
        },
        "id": "LXEEoA7EJMEG",
        "outputId": "de57e5d0-693d-4a6c-b40b-ca5cafcc0d79"
      },
      "execution_count": null,
      "outputs": [
        {
          "output_type": "execute_result",
          "data": {
            "text/plain": [
              "[5.0990195135927845, 5.291502622129181, 4.69041575982343, 4.898979485566356]"
            ]
          },
          "metadata": {},
          "execution_count": 19
        }
      ]
    },
    {
      "cell_type": "code",
      "source": [
        "rdd12 = sc.textFile('./Date/transacciones')\n",
        "rdd12.collect()"
      ],
      "metadata": {
        "colab": {
          "base_uri": "https://localhost:8080/"
        },
        "id": "f8bNASnvN-h3",
        "outputId": "578ecbd1-a72d-4758-8b9d-cfa0c0d9bf64"
      },
      "execution_count": null,
      "outputs": [
        {
          "output_type": "execute_result",
          "data": {
            "text/plain": [
              "['(1001, 52.3)',\n",
              " '(1005, 20.8)',\n",
              " '(1001, 10.1)',\n",
              " '(1004, 52.7)',\n",
              " '(1005, 20.7)',\n",
              " '(1002, 85.3)',\n",
              " '(1004, 20.9)']"
            ]
          },
          "metadata": {},
          "execution_count": 20
        }
      ]
    },
    {
      "cell_type": "code",
      "source": [
        "def proceso(s):\n",
        "  return (tuple(s.replace('(', '').replace(')','').split(', ')))"
      ],
      "metadata": {
        "id": "amORPm0gQvMz"
      },
      "execution_count": null,
      "outputs": []
    },
    {
      "cell_type": "code",
      "source": [
        "rdd_llave_valor = rdd12.map(proceso)\n",
        "rdd_llave_valor.collect()"
      ],
      "metadata": {
        "colab": {
          "base_uri": "https://localhost:8080/"
        },
        "id": "bfaRztUSOoxt",
        "outputId": "84dbf75d-3d67-4e0a-b8e3-87992d05225b"
      },
      "execution_count": null,
      "outputs": [
        {
          "output_type": "execute_result",
          "data": {
            "text/plain": [
              "[('1001', '52.3'),\n",
              " ('1005', '20.8'),\n",
              " ('1001', '10.1'),\n",
              " ('1004', '52.7'),\n",
              " ('1005', '20.7'),\n",
              " ('1002', '85.3'),\n",
              " ('1004', '20.9')]"
            ]
          },
          "metadata": {},
          "execution_count": 22
        }
      ]
    },
    {
      "cell_type": "code",
      "source": [
        "rdd_llave_valor = rdd_llave_valor.reduceByKey(lambda x,y: float(x)+ float(y))\n",
        "rdd_llave_valor.collect()"
      ],
      "metadata": {
        "colab": {
          "base_uri": "https://localhost:8080/"
        },
        "id": "00f4k6hMQrNc",
        "outputId": "a95599b9-eef9-4929-ba00-ba6c518382a9"
      },
      "execution_count": null,
      "outputs": [
        {
          "output_type": "execute_result",
          "data": {
            "text/plain": [
              "[('1002', '85.3'), ('1001', 62.4), ('1005', 41.5), ('1004', 73.6)]"
            ]
          },
          "metadata": {},
          "execution_count": 23
        }
      ]
    },
    {
      "cell_type": "code",
      "source": [
        "importes = sc.textFile('./Date/num.txt')\n",
        "importes.count()"
      ],
      "metadata": {
        "colab": {
          "base_uri": "https://localhost:8080/"
        },
        "id": "3C-jKVNhRH29",
        "outputId": "28523d28-90c1-4912-ea0a-7a3148485013"
      },
      "execution_count": null,
      "outputs": [
        {
          "output_type": "execute_result",
          "data": {
            "text/plain": [
              "233"
            ]
          },
          "metadata": {},
          "execution_count": 24
        }
      ]
    },
    {
      "cell_type": "code",
      "source": [
        "max = importes.max()\n",
        "max"
      ],
      "metadata": {
        "colab": {
          "base_uri": "https://localhost:8080/",
          "height": 35
        },
        "id": "HoPoaQX6R0AN",
        "outputId": "af8d89ad-8924-4ce3-9ec5-e6c946196fc5"
      },
      "execution_count": null,
      "outputs": [
        {
          "output_type": "execute_result",
          "data": {
            "text/plain": [
              "'99'"
            ],
            "application/vnd.google.colaboratory.intrinsic+json": {
              "type": "string"
            }
          },
          "metadata": {},
          "execution_count": 25
        }
      ]
    },
    {
      "cell_type": "code",
      "source": [
        "min = importes.min()\n",
        "min"
      ],
      "metadata": {
        "colab": {
          "base_uri": "https://localhost:8080/",
          "height": 35
        },
        "id": "VDbFIulJSIXb",
        "outputId": "c496b201-7636-435c-c020-ccc82201de62"
      },
      "execution_count": null,
      "outputs": [
        {
          "output_type": "execute_result",
          "data": {
            "text/plain": [
              "'1'"
            ],
            "application/vnd.google.colaboratory.intrinsic+json": {
              "type": "string"
            }
          },
          "metadata": {},
          "execution_count": 26
        }
      ]
    },
    {
      "cell_type": "code",
      "source": [
        "top15 = importes.top(15)\n",
        "top15 = sc.parallelize(top15)\n",
        "top15.collect()\n",
        "top15.saveAsTextFile('./Date/salida')"
      ],
      "metadata": {
        "id": "AlI1o6aEShb5"
      },
      "execution_count": null,
      "outputs": []
    },
    {
      "cell_type": "markdown",
      "source": [
        "Cree un RDD del tipo clave valor a partir de los datos adjuntos como recurso a esta lección. Tenga en cuenta que deberá procesar el RDD leído para obtener el resultado solicitado. Supongamos que el RDD resultante de tipo clave valor refleja las transacciones realizadas por número de cuentas. Obtenga el monto total por cada cuenta."
      ],
      "metadata": {
        "id": "lj8TYbO--N3y"
      }
    },
    {
      "cell_type": "code",
      "source": [
        "import findspark\n",
        "findspark.init()\n",
        "\n",
        "from pyspark.sql import SparkSession\n",
        "spark = SparkSession.builder.appName(\"Treino\").getOrCreate()\n",
        "sc = spark.sparkContext"
      ],
      "metadata": {
        "id": "abTBg5Xk-tvu"
      },
      "execution_count": null,
      "outputs": []
    },
    {
      "cell_type": "code",
      "source": [
        "from math import sqrt\n",
        "rdd16 = sc.textFile('./Date/transacciones')\n",
        "rdd16.collect()"
      ],
      "metadata": {
        "id": "3Z91u7ZUSxLF",
        "colab": {
          "base_uri": "https://localhost:8080/"
        },
        "outputId": "ac45c02b-e6ca-46ee-a383-0b628ac922db"
      },
      "execution_count": null,
      "outputs": [
        {
          "output_type": "execute_result",
          "data": {
            "text/plain": [
              "['(1001, 52.3)',\n",
              " '(1005, 20.8)',\n",
              " '(1001, 10.1)',\n",
              " '(1004, 52.7)',\n",
              " '(1005, 20.7)',\n",
              " '(1002, 85.3)',\n",
              " '(1004, 20.9)']"
            ]
          },
          "metadata": {},
          "execution_count": 29
        }
      ]
    },
    {
      "cell_type": "code",
      "source": [
        "#(tuple(s.replace('(', '').replace(')','').split(', ')))\n",
        "def proceso(s):\n",
        "  return (tuple(s.replace('(','').replace(')','').split(', ')))"
      ],
      "metadata": {
        "id": "gGnpXRWP-sQ6"
      },
      "execution_count": null,
      "outputs": []
    },
    {
      "cell_type": "code",
      "source": [
        "rdd17 = rdd16.map(proceso)\n",
        "rdd17.collect()"
      ],
      "metadata": {
        "colab": {
          "base_uri": "https://localhost:8080/"
        },
        "id": "8tSKcJ12CbAh",
        "outputId": "3c1fe27b-8bea-4eca-89fe-ba22dd4fd3f5"
      },
      "execution_count": null,
      "outputs": [
        {
          "output_type": "execute_result",
          "data": {
            "text/plain": [
              "[('1001', '52.3'),\n",
              " ('1005', '20.8'),\n",
              " ('1001', '10.1'),\n",
              " ('1004', '52.7'),\n",
              " ('1005', '20.7'),\n",
              " ('1002', '85.3'),\n",
              " ('1004', '20.9')]"
            ]
          },
          "metadata": {},
          "execution_count": 31
        }
      ]
    },
    {
      "cell_type": "code",
      "source": [
        "rdd17 = rdd17.reduceByKey(lambda x,y: float(x)+float(y))\n",
        "rdd17.collect()"
      ],
      "metadata": {
        "colab": {
          "base_uri": "https://localhost:8080/"
        },
        "id": "uMujLkcoB7LM",
        "outputId": "71a1ba67-554f-45be-e503-4dc5755dd595"
      },
      "execution_count": null,
      "outputs": [
        {
          "output_type": "execute_result",
          "data": {
            "text/plain": [
              "[('1002', '85.3'), ('1001', 62.4), ('1005', 41.5), ('1004', 73.6)]"
            ]
          },
          "metadata": {},
          "execution_count": 32
        }
      ]
    },
    {
      "cell_type": "markdown",
      "source": [
        "Cree un RDD llamado importes a partir del archivo adjunto a esta lección como recurso.\n",
        "\n",
        "\n",
        "\n",
        "¿Cuántos registros tiene el RDD importes?\n",
        "\n",
        "\n",
        "\n",
        "¿Cuál es el valor mínimo y máximo del RDD importes?\n",
        "\n",
        "\n",
        "\n",
        "Cree un RDD top15 que contenga los 15 mayores valores del RDD importes. Tenga en cuenta que pueden repetirse los valores. Por último, escriba el RDD top15 como archivo de texto en la carpeta data/salida.\n",
        "\n",
        "\n",
        "\n",
        "Cree una función llamada factorial que calcule el factorial de un número dado como parámetro. Utilice RDDs para el cálculo."
      ],
      "metadata": {
        "id": "hh8GXA-vDbr0"
      }
    },
    {
      "cell_type": "code",
      "source": [
        "importes = sc.textFile('./Date/num.txt')\n",
        "importes.count()"
      ],
      "metadata": {
        "colab": {
          "base_uri": "https://localhost:8080/"
        },
        "id": "Z2vfFwC1DBEZ",
        "outputId": "00178c4c-ce4f-4ee2-e884-a7f4d5962c0b"
      },
      "execution_count": null,
      "outputs": [
        {
          "output_type": "execute_result",
          "data": {
            "text/plain": [
              "233"
            ]
          },
          "metadata": {},
          "execution_count": 33
        }
      ]
    },
    {
      "cell_type": "code",
      "source": [
        "importes.max()"
      ],
      "metadata": {
        "colab": {
          "base_uri": "https://localhost:8080/",
          "height": 35
        },
        "id": "FJmlh7uRDbDw",
        "outputId": "d1df656a-5632-45f0-8405-0d6bb5a576e0"
      },
      "execution_count": null,
      "outputs": [
        {
          "output_type": "execute_result",
          "data": {
            "text/plain": [
              "'99'"
            ],
            "application/vnd.google.colaboratory.intrinsic+json": {
              "type": "string"
            }
          },
          "metadata": {},
          "execution_count": 34
        }
      ]
    },
    {
      "cell_type": "code",
      "source": [
        "importes.min()"
      ],
      "metadata": {
        "colab": {
          "base_uri": "https://localhost:8080/",
          "height": 35
        },
        "id": "OekMUun9Dzxh",
        "outputId": "c34ee283-998f-4847-a5d6-77468640bacc"
      },
      "execution_count": null,
      "outputs": [
        {
          "output_type": "execute_result",
          "data": {
            "text/plain": [
              "'1'"
            ],
            "application/vnd.google.colaboratory.intrinsic+json": {
              "type": "string"
            }
          },
          "metadata": {},
          "execution_count": 35
        }
      ]
    },
    {
      "cell_type": "code",
      "source": [
        "top15 = importes.top(15)\n",
        "print(top15)"
      ],
      "metadata": {
        "colab": {
          "base_uri": "https://localhost:8080/"
        },
        "id": "COLtE-cZD1GJ",
        "outputId": "772a0740-8171-4e19-9f2c-085334da5f2b"
      },
      "execution_count": null,
      "outputs": [
        {
          "output_type": "stream",
          "name": "stdout",
          "text": [
            "['99', '99', '98', '98', '97', '97', '97', '97', '97', '96', '96', '95', '95', '95', '95']\n"
          ]
        }
      ]
    },
    {
      "cell_type": "code",
      "source": [
        "top15 = sc.parallelize(top15)\n",
        "top15.collect()\n",
        "top15.saveAsTextFile('./Date/data/salida.txt')"
      ],
      "metadata": {
        "id": "VribkyrMD6Jv"
      },
      "execution_count": null,
      "outputs": []
    },
    {
      "cell_type": "code",
      "source": [
        "def factorial(n):\n",
        "  if n < 0:\n",
        "    return \"El factorial no esta definido para numeros negativos\"\n",
        "  elif n == 1 or n == 0:\n",
        "    return \"El factorial es 1\"\n",
        "  else:\n",
        "    rdd = sc.parallelize(range(1, n+1))\n",
        "    return f\"El factorial de {n} es: {rdd.reduce(lambda x, y: x * y)}\""
      ],
      "metadata": {
        "id": "h70WgawgEx9O"
      },
      "execution_count": null,
      "outputs": []
    },
    {
      "cell_type": "code",
      "source": [
        "factorial(1000)"
      ],
      "metadata": {
        "colab": {
          "base_uri": "https://localhost:8080/",
          "height": 140
        },
        "id": "MDecLpPgF5ed",
        "outputId": "1a687680-37e7-43f7-e766-45d6a827a5e8"
      },
      "execution_count": null,
      "outputs": [
        {
          "output_type": "execute_result",
          "data": {
            "text/plain": [
              "'El factorial de 1000 es: 402387260077093773543702433923003985719374864210714632543799910429938512398629020592044208486969404800479988610197196058631666872994808558901323829669944590997424504087073759918823627727188732519779505950995276120874975462497043601418278094646496291056393887437886487337119181045825783647849977012476632889835955735432513185323958463075557409114262417474349347553428646576611667797396668820291207379143853719588249808126867838374559731746136085379534524221586593201928090878297308431392844403281231558611036976801357304216168747609675871348312025478589320767169132448426236131412508780208000261683151027341827977704784635868170164365024153691398281264810213092761244896359928705114964975419909342221566832572080821333186116811553615836546984046708975602900950537616475847728421889679646244945160765353408198901385442487984959953319101723355556602139450399736280750137837615307127761926849034352625200015888535147331611702103968175921510907788019393178114194545257223865541461062892187960223838971476088506276862967146674697562911234082439208160153780889893964518263243671616762179168909779911903754031274622289988005195444414282012187361745992642956581746628302955570299024324153181617210465832036786906117260158783520751516284225540265170483304226143974286933061690897968482590125458327168226458066526769958652682272807075781391858178889652208164348344825993266043367660176999612831860788386150279465955131156552036093988180612138558600301435694527224206344631797460594682573103790084024432438465657245014402821885252470935190620929023136493273497565513958720559654228749774011413346962715422845862377387538230483865688976461927383814900140767310446640259899490222221765904339901886018566526485061799702356193897017860040811889729918311021171229845901641921068884387121855646124960798722908519296819372388642614839657382291123125024186649353143970137428531926649875337218940694281434118520158014123344828015051399694290153483077644569099073152433278288269864602789864321139083506217095002597389863554277196742822248757586765752344220207573630569498825087968928162753848863396909959826280956121450994871701244516461260379029309120889086942028510640182154399457156805941872748998094254742173582401063677404595741785160829230135358081840096996372524230560855903700624271243416909004153690105933983835777939410970027753472000000000000000000000000000000000000000000000000000000000000000000000000000000000000000000000000000000000000000000000000000000000000000000000000000000000000000000000000000000000000000000000000000000000000000000000000000000000000000000000000000000000'"
            ],
            "application/vnd.google.colaboratory.intrinsic+json": {
              "type": "string"
            }
          },
          "metadata": {},
          "execution_count": 39
        }
      ]
    },
    {
      "cell_type": "markdown",
      "source": [
        "Los datos adjuntos a esta lección forman parte de la base de datos [NeurIPS 2020] Data Science for COVID-19 (DS4C) disponible en Kaggle. Estos datos hacen referencia a los casos de contagio de covid-19 en Corea del Sur.\n",
        "\n",
        "\n",
        "\n",
        "El archivo csv Case contiene los casos reportados y el archivo csv PatientInfo contiene la información de los pacientes.\n",
        "\n",
        "\n",
        "\n",
        "A partir del archivo csv Case, determine las tres ciudades con más casos confirmados de la enfermedad. La salida debe contener tres columnas: provincia, ciudad y casos confirmados. El resultado debe contener exactamente los tres nombre de ciudades con más casos confirmados ya que no se admiten otros valores.\n",
        "\n",
        "\n",
        "\n",
        "Cree un dataframe a partir del archivo csv PatientInfo. Asegúrese de que su dataframe no contenga pacientes duplicados.\n",
        "\n",
        "\n",
        "\n",
        "¿Cuántos pacientes tienen informado por quién se contagiaron(columna infected_by)? Obtenga solo los pacientes que tengan informado por quién se contagiaron.\n",
        "\n",
        "\n",
        "\n",
        "A partir de la salida del inciso anterior obtenga solo los pacientes femeninos. La salida no debe contener las columnas released_date y deceased_date.\n",
        "\n",
        "\n",
        "\n",
        "Establezca el número de particiones del dataframe resultante del inciso anterior en dos. Escriba el dataframe resultante en un archivo parquet. La salida debe estar particionada por la provincia y el modo de escritura debe ser overwrite.\n",
        "\n"
      ],
      "metadata": {
        "id": "cMmXFjuXHtSr"
      }
    },
    {
      "cell_type": "code",
      "source": [
        "from pyspark.sql.functions import col, sum, desc\n",
        "from pyspark.sql.types import IntegerType\n",
        "df = spark.read.csv('./Date/Case.csv', header=True)\n",
        "\n",
        "\n",
        "df = df.withColumn('confirmed', col('confirmed').cast(IntegerType()))\n",
        "df.show()"
      ],
      "metadata": {
        "colab": {
          "base_uri": "https://localhost:8080/"
        },
        "id": "aqFerNDGF8AI",
        "outputId": "5323181b-2eca-4d41-f995-33c06e689d8a"
      },
      "execution_count": null,
      "outputs": [
        {
          "output_type": "stream",
          "name": "stdout",
          "text": [
            "+--------+--------+---------------+-----+--------------------+---------+---------+----------+\n",
            "| case_id|province|           city|group|      infection_case|confirmed| latitude| longitude|\n",
            "+--------+--------+---------------+-----+--------------------+---------+---------+----------+\n",
            "| 1000001|   Seoul|     Yongsan-gu| TRUE|       Itaewon Clubs|      139|37.538621|126.992652|\n",
            "| 1000002|   Seoul|      Gwanak-gu| TRUE|             Richway|      119| 37.48208|126.901384|\n",
            "| 1000003|   Seoul|        Guro-gu| TRUE| Guro-gu Call Center|       95|37.508163|126.884387|\n",
            "| 1000004|   Seoul|   Yangcheon-gu| TRUE|Yangcheon Table T...|       43|37.546061|126.874209|\n",
            "| 1000005|   Seoul|      Dobong-gu| TRUE|     Day Care Center|       43|37.679422|127.044374|\n",
            "| 1000006|   Seoul|        Guro-gu| TRUE|Manmin Central Ch...|       41|37.481059|126.894343|\n",
            "| 1000007|   Seoul|from other city| TRUE|SMR Newly Planted...|       36|        -|         -|\n",
            "| 1000008|   Seoul|  Dongdaemun-gu| TRUE|       Dongan Church|       17|37.592888|127.056766|\n",
            "| 1000009|   Seoul|from other city| TRUE|Coupang Logistics...|       25|        -|         -|\n",
            "| 1000010|   Seoul|      Gwanak-gu| TRUE|     Wangsung Church|       30|37.481735|126.930121|\n",
            "| 1000011|   Seoul|   Eunpyeong-gu| TRUE|Eunpyeong St. Mar...|       14| 37.63369|  126.9165|\n",
            "| 1000012|   Seoul|   Seongdong-gu| TRUE|    Seongdong-gu APT|       13| 37.55713|  127.0403|\n",
            "| 1000013|   Seoul|      Jongno-gu| TRUE|Jongno Community ...|       10| 37.57681|   127.006|\n",
            "| 1000014|   Seoul|     Gangnam-gu| TRUE|Samsung Medical C...|        7| 37.48825| 127.08559|\n",
            "| 1000015|   Seoul|        Jung-gu| TRUE|Jung-gu Fashion C...|        7|37.562405|126.984377|\n",
            "| 1000016|   Seoul|   Seodaemun-gu| TRUE|  Yeonana News Class|        5|37.558147|126.943799|\n",
            "| 1000017|   Seoul|      Jongno-gu| TRUE|Korea Campus Crus...|        7|37.594782|126.968022|\n",
            "| 1000018|   Seoul|     Gangnam-gu| TRUE|Gangnam Yeoksam-d...|        6|        -|         -|\n",
            "| 1000019|   Seoul|from other city| TRUE|Daejeon door-to-d...|        1|        -|         -|\n",
            "| 1000020|   Seoul|   Geumcheon-gu| TRUE|Geumcheon-gu rice...|        6|        -|         -|\n",
            "+--------+--------+---------------+-----+--------------------+---------+---------+----------+\n",
            "only showing top 20 rows\n",
            "\n"
          ]
        }
      ]
    },
    {
      "cell_type": "code",
      "source": [
        "df = df.groupBy('province', 'city').agg(sum('confirmed')).alias('confirmed')\n",
        "df.show()"
      ],
      "metadata": {
        "colab": {
          "base_uri": "https://localhost:8080/"
        },
        "id": "OVNu1rIAH81Q",
        "outputId": "8c026248-3128-49b8-abd1-83f5959e7d63"
      },
      "execution_count": null,
      "outputs": [
        {
          "output_type": "stream",
          "name": "stdout",
          "text": [
            "+----------------+---------------+--------------+\n",
            "|        province|           city|sum(confirmed)|\n",
            "+----------------+---------------+--------------+\n",
            "|Gyeongsangnam-do|       Jinju-si|             9|\n",
            "|           Seoul|        Guro-gu|           139|\n",
            "|           Seoul|     Gangnam-gu|            18|\n",
            "|         Daejeon|              -|           100|\n",
            "|    Jeollabuk-do|from other city|             6|\n",
            "|Gyeongsangnam-do|Changnyeong-gun|             7|\n",
            "|           Seoul|              -|           561|\n",
            "|         Jeju-do|from other city|             1|\n",
            "|Gyeongsangbuk-do|              -|           345|\n",
            "|Gyeongsangnam-do|   Geochang-gun|            18|\n",
            "|Gyeongsangbuk-do|        Gumi-si|            10|\n",
            "|         Incheon|from other city|           117|\n",
            "|           Busan|              -|            85|\n",
            "|           Daegu|         Seo-gu|           124|\n",
            "|           Busan|     Suyeong-gu|             5|\n",
            "|     Gyeonggi-do|   Uijeongbu-si|            50|\n",
            "|           Seoul|     Yongsan-gu|           139|\n",
            "|           Daegu|              -|          1705|\n",
            "|           Seoul|   Seodaemun-gu|             5|\n",
            "|     Gyeonggi-do|    Seongnam-si|            94|\n",
            "+----------------+---------------+--------------+\n",
            "only showing top 20 rows\n",
            "\n"
          ]
        }
      ]
    },
    {
      "cell_type": "code",
      "source": [
        "df.orderBy(desc('sum(confirmed)')).where(\"city != '-' and city !=  'from other city' \" ).show()"
      ],
      "metadata": {
        "colab": {
          "base_uri": "https://localhost:8080/"
        },
        "id": "0Erf0_TtJit2",
        "outputId": "4eebff1a-1910-4a31-98d3-e2af494f9217"
      },
      "execution_count": null,
      "outputs": [
        {
          "output_type": "stream",
          "name": "stdout",
          "text": [
            "+-----------------+------------+--------------+\n",
            "|         province|        city|sum(confirmed)|\n",
            "+-----------------+------------+--------------+\n",
            "|            Daegu|      Nam-gu|          4511|\n",
            "|            Daegu|Dalseong-gun|           297|\n",
            "|            Seoul|   Gwanak-gu|           149|\n",
            "|            Seoul|     Guro-gu|           139|\n",
            "|            Seoul|  Yongsan-gu|           139|\n",
            "|            Daegu|      Seo-gu|           124|\n",
            "| Gyeongsangbuk-do|Cheongdo-gun|           119|\n",
            "|Chungcheongnam-do|  Cheonan-si|           103|\n",
            "| Gyeongsangbuk-do|Gyeongsan-si|            99|\n",
            "|      Gyeonggi-do| Seongnam-si|            94|\n",
            "| Gyeongsangbuk-do| Bonghwa-gun|            68|\n",
            "|      Gyeonggi-do|  Bucheon-si|            67|\n",
            "|      Gyeonggi-do|Uijeongbu-si|            50|\n",
            "|            Seoul|Yangcheon-gu|            46|\n",
            "|            Seoul|   Dobong-gu|            43|\n",
            "| Gyeongsangbuk-do|  Yechun-gun|            40|\n",
            "|           Sejong|      Sejong|            39|\n",
            "|            Busan|  Dongnae-gu|            39|\n",
            "|            Daegu|     Dong-gu|            39|\n",
            "|      Gyeonggi-do|   Anyang-si|            39|\n",
            "+-----------------+------------+--------------+\n",
            "only showing top 20 rows\n",
            "\n"
          ]
        }
      ]
    },
    {
      "cell_type": "code",
      "source": [
        "df1 = spark.read.csv('./Date/PatientInfo.csv', header=True)\n",
        "df1 = df1.dropDuplicates(['patient_id'])\n",
        "df1 = df1.dropDuplicates()\n",
        "df1.count()"
      ],
      "metadata": {
        "colab": {
          "base_uri": "https://localhost:8080/"
        },
        "id": "9Sht5quWKj9Y",
        "outputId": "45a57136-a907-4331-9380-d0e59652c7a0"
      },
      "execution_count": null,
      "outputs": [
        {
          "output_type": "execute_result",
          "data": {
            "text/plain": [
              "5164"
            ]
          },
          "metadata": {},
          "execution_count": 43
        }
      ]
    },
    {
      "cell_type": "code",
      "source": [
        "df1 = df1.where(\" infected_by != 'null' or infected_by != '0' \")"
      ],
      "metadata": {
        "id": "It9YGFj5L93p"
      },
      "execution_count": null,
      "outputs": []
    },
    {
      "cell_type": "code",
      "source": [
        "from pyspark.sql import DataFrame\n",
        "\n",
        "df2 = df1.where(\" sex == 'female' \").drop('released_date', 'deceased_date')"
      ],
      "metadata": {
        "id": "ptYkBo-FNAHf"
      },
      "execution_count": null,
      "outputs": []
    },
    {
      "cell_type": "code",
      "source": [
        "df2 = df2.repartition(2)"
      ],
      "metadata": {
        "id": "fIX1hm58Ngpj"
      },
      "execution_count": null,
      "outputs": []
    },
    {
      "cell_type": "code",
      "source": [
        "df2.rdd.getNumPartitions()"
      ],
      "metadata": {
        "colab": {
          "base_uri": "https://localhost:8080/"
        },
        "id": "ZCZSDaBsXYJz",
        "outputId": "8429ab2a-4715-4d38-a8fe-3caa6a0134da"
      },
      "execution_count": null,
      "outputs": [
        {
          "output_type": "execute_result",
          "data": {
            "text/plain": [
              "2"
            ]
          },
          "metadata": {},
          "execution_count": 59
        }
      ]
    },
    {
      "cell_type": "code",
      "source": [
        "df2 = df2.coalesce(1)"
      ],
      "metadata": {
        "id": "EV-wtYiqYNoM"
      },
      "execution_count": null,
      "outputs": []
    },
    {
      "cell_type": "code",
      "source": [
        "df2.rdd.getNumPartitions()"
      ],
      "metadata": {
        "colab": {
          "base_uri": "https://localhost:8080/"
        },
        "id": "f6RNDegBYlns",
        "outputId": "f2a636cb-bdab-4ef5-baf7-ba12af34ca69"
      },
      "execution_count": null,
      "outputs": [
        {
          "output_type": "execute_result",
          "data": {
            "text/plain": [
              "1"
            ]
          },
          "metadata": {},
          "execution_count": 62
        }
      ]
    },
    {
      "cell_type": "code",
      "source": [
        "df2.write.partitionBy('province').parquet('./Date/output/parquet')"
      ],
      "metadata": {
        "id": "03oUL_53YsRI"
      },
      "execution_count": null,
      "outputs": []
    },
    {
      "cell_type": "code",
      "source": [
        "df3 = spark.read.parquet('./Date/output/parquet')"
      ],
      "metadata": {
        "id": "2wiVHe42ZGXb"
      },
      "execution_count": null,
      "outputs": []
    },
    {
      "cell_type": "code",
      "source": [
        "df3.createOrReplaceTempView('datos')"
      ],
      "metadata": {
        "id": "Asec02oWZdHM"
      },
      "execution_count": null,
      "outputs": []
    },
    {
      "cell_type": "code",
      "source": [
        "resultado = spark.sql(\"\"\"\n",
        "    select distinct province\n",
        "    from datos\n",
        "\"\"\")\n",
        "resultado.show()"
      ],
      "metadata": {
        "colab": {
          "base_uri": "https://localhost:8080/"
        },
        "id": "0W8z0Kf6ZfUL",
        "outputId": "fccecedc-b6e9-440f-cfe8-63feea6a9545"
      },
      "execution_count": null,
      "outputs": [
        {
          "output_type": "stream",
          "name": "stdout",
          "text": [
            "+-----------------+\n",
            "|         province|\n",
            "+-----------------+\n",
            "| Gyeongsangbuk-do|\n",
            "| Gyeongsangnam-do|\n",
            "|          Incheon|\n",
            "|      Gyeonggi-do|\n",
            "|            Busan|\n",
            "|          Daejeon|\n",
            "|            Seoul|\n",
            "|Chungcheongnam-do|\n",
            "|           Sejong|\n",
            "|            Ulsan|\n",
            "|Chungcheongbuk-do|\n",
            "|          Gwangju|\n",
            "|            Daegu|\n",
            "|     Jeollabuk-do|\n",
            "|     Jeollanam-do|\n",
            "+-----------------+\n",
            "\n"
          ]
        }
      ]
    },
    {
      "cell_type": "code",
      "source": [
        "df3.select('province').distinct(). show(\n",
        ")"
      ],
      "metadata": {
        "colab": {
          "base_uri": "https://localhost:8080/"
        },
        "id": "RX4zXit_cY5y",
        "outputId": "2d388935-ed20-41d4-d88c-5010a1280a88"
      },
      "execution_count": null,
      "outputs": [
        {
          "output_type": "stream",
          "name": "stdout",
          "text": [
            "+-----------------+\n",
            "|         province|\n",
            "+-----------------+\n",
            "| Gyeongsangbuk-do|\n",
            "| Gyeongsangnam-do|\n",
            "|          Incheon|\n",
            "|      Gyeonggi-do|\n",
            "|            Busan|\n",
            "|          Daejeon|\n",
            "|            Seoul|\n",
            "|Chungcheongnam-do|\n",
            "|           Sejong|\n",
            "|            Ulsan|\n",
            "|Chungcheongbuk-do|\n",
            "|          Gwangju|\n",
            "|            Daegu|\n",
            "|     Jeollabuk-do|\n",
            "|     Jeollanam-do|\n",
            "+-----------------+\n",
            "\n"
          ]
        }
      ]
    },
    {
      "cell_type": "code",
      "source": [
        "df3.show()"
      ],
      "metadata": {
        "colab": {
          "base_uri": "https://localhost:8080/"
        },
        "id": "hj5tIGnfciGK",
        "outputId": "0917e4af-28a2-4676-f916-5131ff76a9a6"
      },
      "execution_count": null,
      "outputs": [
        {
          "output_type": "stream",
          "name": "stdout",
          "text": [
            "+----------+------+---+-------+-------------+--------------------+-----------+--------------+------------------+--------------+--------+-----------+\n",
            "|patient_id|   sex|age|country|         city|      infection_case|infected_by|contact_number|symptom_onset_date|confirmed_date|   state|   province|\n",
            "+----------+------+---+-------+-------------+--------------------+-----------+--------------+------------------+--------------+--------+-----------+\n",
            "|2000000661|female|20s|  Korea|     Hanam-si|contact with patient| 2000000660|          null|              null|    2020-04-24|isolated|Gyeonggi-do|\n",
            "|2000000662|female|50s|  Korea|     Hanam-si|contact with patient| 2000000660|          null|              null|    2020-04-24|isolated|Gyeonggi-do|\n",
            "|2000000609|female|20s|  Korea|Pyeongtaek-si|contact with patient| 2000000508|          null|              null|    2020-04-09|isolated|Gyeonggi-do|\n",
            "|2000000586|female|50s|  Korea| Namyangju-si|contact with patient| 1400000072|          null|              null|    2020-04-06|isolated|Gyeonggi-do|\n",
            "|2000000013|female|30s|  Korea|     Gimpo-si|contact with patient| 1200000031|          null|        2020-02-20|    2020-02-21|isolated|Gyeonggi-do|\n",
            "|2000000306|female|50s|  Korea|   Gwangju-si|contact with patient| 2000000114|          null|              null|    2020-03-19|released|Gyeonggi-do|\n",
            "|2000000263|female|40s|  Korea|  Seongnam-si|contact with patient| 2000000125|          null|              null|    2020-03-16|isolated|Gyeonggi-do|\n",
            "|2000000093|female|50s|  Korea|     Suwon-si|contact with patient| 2000000069|          null|              null|    2020-03-01|released|Gyeonggi-do|\n",
            "|2000000738|female|30s|  Korea|   Bucheon-si|contact with patient| 1400000132|          null|              null|    2020-05-20|isolated|Gyeonggi-do|\n",
            "|2000000163|female|40s|  Korea|   Bucheon-si|contact with patient| 1000000125|          null|              null|    2020-03-09|isolated|Gyeonggi-do|\n",
            "|2000000338|female|50s|  Korea|   Bucheon-si|contact with patient| 2000000167|          null|              null|    2020-03-21|isolated|Gyeonggi-do|\n",
            "|2000000329|female|40s|  Korea|   Bucheon-si|contact with patient| 2000000139|          null|              null|    2020-03-21|isolated|Gyeonggi-do|\n",
            "|2000000741|female|50s|  Korea| Namyangju-si|contact with patient| 2000000724|          null|              null|    2020-05-21|isolated|Gyeonggi-do|\n",
            "|2000000746|female|50s|  Korea|  Seongnam-si|contact with patient| 2000000736|          null|              null|    2020-05-22|isolated|Gyeonggi-do|\n",
            "|2000000822|female|60s|  Korea|    Yangju-si|contact with patient| 2000000764|          null|              null|    2020-05-29|isolated|Gyeonggi-do|\n",
            "|2000000322|female|30s|  Korea|   Gwangju-si|contact with patient| 2000000114|          null|              null|    2020-03-20|released|Gyeonggi-do|\n",
            "|2000000390|female|40s|  Korea|Pyeongtaek-si|contact with patient| 2000000373|          null|              null|    2020-03-25|isolated|Gyeonggi-do|\n",
            "|2000000374|female|50s|  Korea|     Gunpo-si|contact with patient| 2000000309|          null|              null|    2020-03-24|isolated|Gyeonggi-do|\n",
            "|2000000776|female|30s|  Korea|   Bucheon-si|contact with patient| 2000000769|          null|              null|    2020-05-27|isolated|Gyeonggi-do|\n",
            "|2000000557|female|20s|  Korea|Pyeongtaek-si|contact with patient| 2000000508|          null|              null|    2020-04-03|isolated|Gyeonggi-do|\n",
            "+----------+------+---+-------+-------------+--------------------+-----------+--------------+------------------+--------------+--------+-----------+\n",
            "only showing top 20 rows\n",
            "\n"
          ]
        }
      ]
    },
    {
      "cell_type": "markdown",
      "source": [
        "#Sección 8"
      ],
      "metadata": {
        "id": "chMsp4ksd4Vn"
      }
    },
    {
      "cell_type": "code",
      "source": [
        "import findspark\n",
        "findspark.init()\n",
        "from pyspark.sql import SparkSession\n",
        "\n",
        "spark = SparkSession.builder.getOrCreate()"
      ],
      "metadata": {
        "id": "JPvGpzhccl44"
      },
      "execution_count": null,
      "outputs": []
    },
    {
      "cell_type": "code",
      "source": [
        "df = spark.read.parquet('./Date/vuelos.parquet')"
      ],
      "metadata": {
        "id": "5YKXKJkQeFUt"
      },
      "execution_count": null,
      "outputs": []
    },
    {
      "cell_type": "code",
      "source": [
        "df.printSchema()"
      ],
      "metadata": {
        "colab": {
          "base_uri": "https://localhost:8080/"
        },
        "id": "pBoMs5RXeO4j",
        "outputId": "f48b9a1c-7b4a-4057-905a-c4d9fdfacfd4"
      },
      "execution_count": null,
      "outputs": [
        {
          "output_type": "stream",
          "name": "stdout",
          "text": [
            "root\n",
            " |-- YEAR: integer (nullable = true)\n",
            " |-- MONTH: integer (nullable = true)\n",
            " |-- DAY: integer (nullable = true)\n",
            " |-- DAY_OF_WEEK: integer (nullable = true)\n",
            " |-- AIRLINE: string (nullable = true)\n",
            " |-- FLIGHT_NUMBER: integer (nullable = true)\n",
            " |-- TAIL_NUMBER: string (nullable = true)\n",
            " |-- ORIGIN_AIRPORT: string (nullable = true)\n",
            " |-- DESTINATION_AIRPORT: string (nullable = true)\n",
            " |-- SCHEDULED_DEPARTURE: integer (nullable = true)\n",
            " |-- DEPARTURE_TIME: integer (nullable = true)\n",
            " |-- DEPARTURE_DELAY: integer (nullable = true)\n",
            " |-- TAXI_OUT: integer (nullable = true)\n",
            " |-- WHEELS_OFF: integer (nullable = true)\n",
            " |-- SCHEDULED_TIME: integer (nullable = true)\n",
            " |-- ELAPSED_TIME: integer (nullable = true)\n",
            " |-- AIR_TIME: integer (nullable = true)\n",
            " |-- DISTANCE: integer (nullable = true)\n",
            " |-- WHEELS_ON: integer (nullable = true)\n",
            " |-- TAXI_IN: integer (nullable = true)\n",
            " |-- SCHEDULED_ARRIVAL: integer (nullable = true)\n",
            " |-- ARRIVAL_TIME: integer (nullable = true)\n",
            " |-- ARRIVAL_DELAY: integer (nullable = true)\n",
            " |-- DIVERTED: integer (nullable = true)\n",
            " |-- CANCELLED: integer (nullable = true)\n",
            " |-- CANCELLATION_REASON: string (nullable = true)\n",
            " |-- AIR_SYSTEM_DELAY: integer (nullable = true)\n",
            " |-- SECURITY_DELAY: integer (nullable = true)\n",
            " |-- AIRLINE_DELAY: integer (nullable = true)\n",
            " |-- LATE_AIRCRAFT_DELAY: integer (nullable = true)\n",
            " |-- WEATHER_DELAY: integer (nullable = true)\n",
            "\n"
          ]
        }
      ]
    },
    {
      "cell_type": "code",
      "source": [
        "df.show(20, truncate=False)"
      ],
      "metadata": {
        "colab": {
          "base_uri": "https://localhost:8080/"
        },
        "id": "Gc4SzjzveTZo",
        "outputId": "3f997cc5-b135-47e1-9be6-38f6bb4f2a20"
      },
      "execution_count": null,
      "outputs": [
        {
          "output_type": "stream",
          "name": "stdout",
          "text": [
            "+----+-----+---+-----------+-------+-------------+-----------+--------------+-------------------+-------------------+--------------+---------------+--------+----------+--------------+------------+--------+--------+---------+-------+-----------------+------------+-------------+--------+---------+-------------------+----------------+--------------+-------------+-------------------+-------------+\n",
            "|YEAR|MONTH|DAY|DAY_OF_WEEK|AIRLINE|FLIGHT_NUMBER|TAIL_NUMBER|ORIGIN_AIRPORT|DESTINATION_AIRPORT|SCHEDULED_DEPARTURE|DEPARTURE_TIME|DEPARTURE_DELAY|TAXI_OUT|WHEELS_OFF|SCHEDULED_TIME|ELAPSED_TIME|AIR_TIME|DISTANCE|WHEELS_ON|TAXI_IN|SCHEDULED_ARRIVAL|ARRIVAL_TIME|ARRIVAL_DELAY|DIVERTED|CANCELLED|CANCELLATION_REASON|AIR_SYSTEM_DELAY|SECURITY_DELAY|AIRLINE_DELAY|LATE_AIRCRAFT_DELAY|WEATHER_DELAY|\n",
            "+----+-----+---+-----------+-------+-------------+-----------+--------------+-------------------+-------------------+--------------+---------------+--------+----------+--------------+------------+--------+--------+---------+-------+-----------------+------------+-------------+--------+---------+-------------------+----------------+--------------+-------------+-------------------+-------------+\n",
            "|2015|1    |1  |4          |AS     |98           |N407AS     |ANC           |SEA                |5                  |2354          |-11            |21      |15        |205           |194         |169     |1448    |404      |4      |430              |408         |-22          |0       |0        |null               |null            |null          |null         |null               |null         |\n",
            "|2015|1    |1  |4          |AA     |2336         |N3KUAA     |LAX           |PBI                |10                 |2             |-8             |12      |14        |280           |279         |263     |2330    |737      |4      |750              |741         |-9           |0       |0        |null               |null            |null          |null         |null               |null         |\n",
            "|2015|1    |1  |4          |US     |840          |N171US     |SFO           |CLT                |20                 |18            |-2             |16      |34        |286           |293         |266     |2296    |800      |11     |806              |811         |5            |0       |0        |null               |null            |null          |null         |null               |null         |\n",
            "|2015|1    |1  |4          |AA     |258          |N3HYAA     |LAX           |MIA                |20                 |15            |-5             |15      |30        |285           |281         |258     |2342    |748      |8      |805              |756         |-9           |0       |0        |null               |null            |null          |null         |null               |null         |\n",
            "|2015|1    |1  |4          |AS     |135          |N527AS     |SEA           |ANC                |25                 |24            |-1             |11      |35        |235           |215         |199     |1448    |254      |5      |320              |259         |-21          |0       |0        |null               |null            |null          |null         |null               |null         |\n",
            "|2015|1    |1  |4          |DL     |806          |N3730B     |SFO           |MSP                |25                 |20            |-5             |18      |38        |217           |230         |206     |1589    |604      |6      |602              |610         |8            |0       |0        |null               |null            |null          |null         |null               |null         |\n",
            "|2015|1    |1  |4          |NK     |612          |N635NK     |LAS           |MSP                |25                 |19            |-6             |11      |30        |181           |170         |154     |1299    |504      |5      |526              |509         |-17          |0       |0        |null               |null            |null          |null         |null               |null         |\n",
            "|2015|1    |1  |4          |US     |2013         |N584UW     |LAX           |CLT                |30                 |44            |14             |13      |57        |273           |249         |228     |2125    |745      |8      |803              |753         |-10          |0       |0        |null               |null            |null          |null         |null               |null         |\n",
            "|2015|1    |1  |4          |AA     |1112         |N3LAAA     |SFO           |DFW                |30                 |19            |-11            |17      |36        |195           |193         |173     |1464    |529      |3      |545              |532         |-13          |0       |0        |null               |null            |null          |null         |null               |null         |\n",
            "|2015|1    |1  |4          |DL     |1173         |N826DN     |LAS           |ATL                |30                 |33            |3              |12      |45        |221           |203         |186     |1747    |651      |5      |711              |656         |-15          |0       |0        |null               |null            |null          |null         |null               |null         |\n",
            "|2015|1    |1  |4          |DL     |2336         |N958DN     |DEN           |ATL                |30                 |24            |-6             |12      |36        |173           |149         |133     |1199    |449      |4      |523              |453         |-30          |0       |0        |null               |null            |null          |null         |null               |null         |\n",
            "|2015|1    |1  |4          |AA     |1674         |N853AA     |LAS           |MIA                |35                 |27            |-8             |21      |48        |268           |266         |238     |2174    |746      |7      |803              |753         |-10          |0       |0        |null               |null            |null          |null         |null               |null         |\n",
            "|2015|1    |1  |4          |DL     |1434         |N547US     |LAX           |MSP                |35                 |35            |0              |18      |53        |214           |210         |188     |1535    |601      |4      |609              |605         |-4           |0       |0        |null               |null            |null          |null         |null               |null         |\n",
            "|2015|1    |1  |4          |DL     |2324         |N3751B     |SLC           |ATL                |40                 |34            |-6             |18      |52        |215           |199         |176     |1590    |548      |5      |615              |553         |-22          |0       |0        |null               |null            |null          |null         |null               |null         |\n",
            "|2015|1    |1  |4          |DL     |2440         |N651DL     |SEA           |MSP                |40                 |39            |-1             |28      |107       |189           |198         |166     |1399    |553      |4      |549              |557         |8            |0       |0        |null               |null            |null          |null         |null               |null         |\n",
            "|2015|1    |1  |4          |AS     |108          |N309AS     |ANC           |SEA                |45                 |41            |-4             |17      |58        |204           |194         |173     |1448    |451      |4      |509              |455         |-14          |0       |0        |null               |null            |null          |null         |null               |null         |\n",
            "|2015|1    |1  |4          |DL     |1560         |N3743H     |ANC           |SEA                |45                 |31            |-14            |25      |56        |210           |200         |171     |1448    |447      |4      |515              |451         |-24          |0       |0        |null               |null            |null          |null         |null               |null         |\n",
            "|2015|1    |1  |4          |UA     |1197         |N78448     |SFO           |IAH                |48                 |42            |-6             |11      |53        |218           |217         |199     |1635    |612      |7      |626              |619         |-7           |0       |0        |null               |null            |null          |null         |null               |null         |\n",
            "|2015|1    |1  |4          |AS     |122          |N413AS     |ANC           |PDX                |50                 |46            |-4             |11      |57        |215           |201         |187     |1542    |504      |3      |525              |507         |-18          |0       |0        |null               |null            |null          |null         |null               |null         |\n",
            "|2015|1    |1  |4          |DL     |1670         |N806DN     |PDX           |MSP                |50                 |45            |-5             |9       |54        |193           |186         |171     |1426    |545      |6      |603              |551         |-12          |0       |0        |null               |null            |null          |null         |null               |null         |\n",
            "+----+-----+---+-----------+-------+-------------+-----------+--------------+-------------------+-------------------+--------------+---------------+--------+----------+--------------+------------+--------+--------+---------+-------+-----------------+------------+-------------+--------+---------+-------------------+----------------+--------------+-------------+-------------------+-------------+\n",
            "only showing top 20 rows\n",
            "\n"
          ]
        }
      ]
    },
    {
      "cell_type": "code",
      "source": [
        "from pyspark.sql.functions import approx_count_distinct, countDistinct, min, max, col, sum, sumDistinct, avg, count, desc\n",
        "\n",
        "df.select(\n",
        "    countDistinct('AIRLINE').alias('distinct_AIRLINE'),\n",
        "    approx_count_distinct('AIRLINE')\n",
        ").show(\n",
        ")"
      ],
      "metadata": {
        "colab": {
          "base_uri": "https://localhost:8080/"
        },
        "id": "gBLAjVXjeZUp",
        "outputId": "d44c110f-ee9c-4441-d022-39d4785c0a05"
      },
      "execution_count": null,
      "outputs": [
        {
          "output_type": "stream",
          "name": "stdout",
          "text": [
            "+----------------+------------------------------+\n",
            "|distinct_AIRLINE|approx_count_distinct(AIRLINE)|\n",
            "+----------------+------------------------------+\n",
            "|              14|                            13|\n",
            "+----------------+------------------------------+\n",
            "\n"
          ]
        }
      ]
    },
    {
      "cell_type": "code",
      "source": [
        "df.select(\n",
        "    min('AIR_TIME').alias('min_AIR_TIME'),\n",
        "    max('AIR_TIME').alias('max_AIR_TIME')\n",
        ").show()"
      ],
      "metadata": {
        "colab": {
          "base_uri": "https://localhost:8080/"
        },
        "id": "8Ll4q2L7f-Q_",
        "outputId": "b2e19ae3-9fbc-41cb-f43a-9b4285b4ff11"
      },
      "execution_count": null,
      "outputs": [
        {
          "output_type": "stream",
          "name": "stdout",
          "text": [
            "+------------+------------+\n",
            "|min_AIR_TIME|max_AIR_TIME|\n",
            "+------------+------------+\n",
            "|           7|         690|\n",
            "+------------+------------+\n",
            "\n"
          ]
        }
      ]
    },
    {
      "cell_type": "code",
      "source": [
        "df.select(\n",
        "    sum('DISTANCE').alias('sum_distance'),\n",
        "    sumDistinct('DISTANCE'),\n",
        "    avg('AIR_TIME')\n",
        ").show()"
      ],
      "metadata": {
        "colab": {
          "base_uri": "https://localhost:8080/"
        },
        "id": "1-AfkhPxhRpb",
        "outputId": "21fc90fb-086d-4305-e460-0315b84829df"
      },
      "execution_count": null,
      "outputs": [
        {
          "output_type": "stream",
          "name": "stderr",
          "text": [
            "/content/spark-3.4.3-bin-hadoop3/python/pyspark/sql/functions.py:752: FutureWarning: Deprecated in 3.2, use sum_distinct instead.\n",
            "  warnings.warn(\"Deprecated in 3.2, use sum_distinct instead.\", FutureWarning)\n"
          ]
        },
        {
          "output_type": "stream",
          "name": "stdout",
          "text": [
            "+------------+----------------------+------------------+\n",
            "|sum_distance|sum(DISTINCT DISTANCE)|     avg(AIR_TIME)|\n",
            "+------------+----------------------+------------------+\n",
            "|  4785357409|               1442300|113.51162809012519|\n",
            "+------------+----------------------+------------------+\n",
            "\n"
          ]
        }
      ]
    },
    {
      "cell_type": "code",
      "source": [
        "(df.groupBy('ORIGIN_AIRPORT')\n",
        "  .count()\n",
        "  .orderBy(desc('count'))\n",
        " ).show()"
      ],
      "metadata": {
        "colab": {
          "base_uri": "https://localhost:8080/"
        },
        "id": "J3G9Hgrbhw-8",
        "outputId": "2e1d656a-3398-497b-8adb-71d57d6ca589"
      },
      "execution_count": null,
      "outputs": [
        {
          "output_type": "stream",
          "name": "stdout",
          "text": [
            "+--------------+------+\n",
            "|ORIGIN_AIRPORT| count|\n",
            "+--------------+------+\n",
            "|           ATL|346836|\n",
            "|           ORD|285884|\n",
            "|           DFW|239551|\n",
            "|           DEN|196055|\n",
            "|           LAX|194673|\n",
            "|           SFO|148008|\n",
            "|           PHX|146815|\n",
            "|           IAH|146622|\n",
            "|           LAS|133181|\n",
            "|           MSP|112117|\n",
            "|           MCO|110982|\n",
            "|           SEA|110899|\n",
            "|           DTW|108500|\n",
            "|           BOS|107847|\n",
            "|           EWR|101772|\n",
            "|           CLT|100324|\n",
            "|           LGA| 99605|\n",
            "|           SLC| 97210|\n",
            "|           JFK| 93811|\n",
            "|           BWI| 86079|\n",
            "+--------------+------+\n",
            "only showing top 20 rows\n",
            "\n"
          ]
        }
      ]
    },
    {
      "cell_type": "code",
      "source": [
        "(df.groupBy('ORIGIN_AIRPORT', 'DESTINATION_AIRPORT')\n",
        "  .count()\n",
        "  .orderBy(desc('count'))\n",
        " ).show()"
      ],
      "metadata": {
        "colab": {
          "base_uri": "https://localhost:8080/"
        },
        "id": "lwV3DRCEqsoK",
        "outputId": "a277979b-7405-465d-cea0-8a2a463774dc"
      },
      "execution_count": null,
      "outputs": [
        {
          "output_type": "stream",
          "name": "stdout",
          "text": [
            "+--------------+-------------------+-----+\n",
            "|ORIGIN_AIRPORT|DESTINATION_AIRPORT|count|\n",
            "+--------------+-------------------+-----+\n",
            "|           SFO|                LAX|13744|\n",
            "|           LAX|                SFO|13457|\n",
            "|           JFK|                LAX|12016|\n",
            "|           LAX|                JFK|12015|\n",
            "|           LAS|                LAX| 9715|\n",
            "|           LGA|                ORD| 9639|\n",
            "|           LAX|                LAS| 9594|\n",
            "|           ORD|                LGA| 9575|\n",
            "|           SFO|                JFK| 8440|\n",
            "|           JFK|                SFO| 8437|\n",
            "|           OGG|                HNL| 8313|\n",
            "|           HNL|                OGG| 8282|\n",
            "|           LAX|                ORD| 8256|\n",
            "|           ATL|                LGA| 8234|\n",
            "|           LGA|                ATL| 8215|\n",
            "|           ATL|                MCO| 8202|\n",
            "|           MCO|                ATL| 8202|\n",
            "|           SFO|                LAS| 7995|\n",
            "|           ORD|                LAX| 7941|\n",
            "|           LAS|                SFO| 7870|\n",
            "+--------------+-------------------+-----+\n",
            "only showing top 20 rows\n",
            "\n"
          ]
        }
      ]
    },
    {
      "cell_type": "code",
      "source": [
        "df.groupBy('ORIGIN_AIRPORT', 'DESTINATION_AIRPORT').count().orderBy(desc('count')).show()"
      ],
      "metadata": {
        "colab": {
          "base_uri": "https://localhost:8080/"
        },
        "id": "cuBE0Uf-q5Mf",
        "outputId": "008a4523-f15b-49e5-b318-613ba6598310"
      },
      "execution_count": null,
      "outputs": [
        {
          "output_type": "stream",
          "name": "stdout",
          "text": [
            "+--------------+-------------------+-----+\n",
            "|ORIGIN_AIRPORT|DESTINATION_AIRPORT|count|\n",
            "+--------------+-------------------+-----+\n",
            "|           SFO|                LAX|13744|\n",
            "|           LAX|                SFO|13457|\n",
            "|           JFK|                LAX|12016|\n",
            "|           LAX|                JFK|12015|\n",
            "|           LAS|                LAX| 9715|\n",
            "|           LGA|                ORD| 9639|\n",
            "|           LAX|                LAS| 9594|\n",
            "|           ORD|                LGA| 9575|\n",
            "|           SFO|                JFK| 8440|\n",
            "|           JFK|                SFO| 8437|\n",
            "|           OGG|                HNL| 8313|\n",
            "|           HNL|                OGG| 8282|\n",
            "|           LAX|                ORD| 8256|\n",
            "|           ATL|                LGA| 8234|\n",
            "|           LGA|                ATL| 8215|\n",
            "|           ATL|                MCO| 8202|\n",
            "|           MCO|                ATL| 8202|\n",
            "|           SFO|                LAS| 7995|\n",
            "|           ORD|                LAX| 7941|\n",
            "|           LAS|                SFO| 7870|\n",
            "+--------------+-------------------+-----+\n",
            "only showing top 20 rows\n",
            "\n"
          ]
        }
      ]
    },
    {
      "cell_type": "code",
      "source": [
        "df.groupBy('ORIGIN_AIRPORT').agg(\n",
        "    count('FLIGHT_NUMBER').alias('n_vuelos1'),\n",
        "    count('AIR_TIME').alias('n_vuelos2'),\n",
        "    sum('AIR_TIME').alias('tiempo_aire'),\n",
        "    min('AIR_TIME').alias('min'),\n",
        "    max('AIR_TIME').alias('max')\n",
        ").orderBy(desc('tiempo_aire')).show()"
      ],
      "metadata": {
        "colab": {
          "base_uri": "https://localhost:8080/"
        },
        "id": "-xdNXv1lrZdw",
        "outputId": "19b581c2-3017-4999-b884-624034019e84"
      },
      "execution_count": null,
      "outputs": [
        {
          "output_type": "stream",
          "name": "stdout",
          "text": [
            "+--------------+---------+---------+-----------+---+---+\n",
            "|ORIGIN_AIRPORT|n_vuelos1|n_vuelos2|tiempo_aire|min|max|\n",
            "+--------------+---------+---------+-----------+---+---+\n",
            "|           ATL|   346836|   343506|   31514361| 15|614|\n",
            "|           LAX|   194673|   192003|   29861976| 14|409|\n",
            "|           ORD|   285884|   276554|   28153588| 13|571|\n",
            "|           DFW|   239551|   232647|   24915636| 11|534|\n",
            "|           DEN|   196055|   193402|   22154077| 12|493|\n",
            "|           SFO|   148008|   145491|   21632776|  8|389|\n",
            "|           JFK|    93811|    91663|   18353876| 29|690|\n",
            "|           PHX|   146815|   145552|   18012223| 19|444|\n",
            "|           SEA|   110899|   110178|   17647838| 17|412|\n",
            "|           LAS|   133181|   131937|   16576345| 25|429|\n",
            "|           IAH|   146622|   144019|   16167024| 15|524|\n",
            "|           EWR|   101772|    98341|   15387143| 21|683|\n",
            "|           BOS|   107847|   104804|   15225292| 16|432|\n",
            "|           MCO|   110982|   109532|   14349477| 25|395|\n",
            "|           MSP|   112117|   111055|   12366706| 14|537|\n",
            "|           LGA|    99605|    94834|   11350282| 19|311|\n",
            "|           DTW|   108500|   106992|   10872910| 15|341|\n",
            "|           CLT|   100324|    99052|   10459633| 17|379|\n",
            "|           FLL|    73624|    72580|   10373199| 28|409|\n",
            "|           MIA|    69341|    68301|    9922642| 20|414|\n",
            "+--------------+---------+---------+-----------+---+---+\n",
            "only showing top 20 rows\n",
            "\n"
          ]
        }
      ]
    },
    {
      "cell_type": "code",
      "source": [
        "df.groupBy('MONTH').agg(\n",
        "    count('ARRIVAL_DELAY').alias('conteo_retrados'),\n",
        "    count('*').alias('numero_vuelos'),\n",
        "    (count('ARRIVAL_DELAY')/count('*')*100).alias(\"porcentage_retrados\")\n",
        ").orderBy(desc('porcentage_retrados')).show()"
      ],
      "metadata": {
        "colab": {
          "base_uri": "https://localhost:8080/"
        },
        "id": "Fbkfq4r0syHw",
        "outputId": "8ab641a0-fde0-47f0-8825-805d5ec0a017"
      },
      "execution_count": null,
      "outputs": [
        {
          "output_type": "stream",
          "name": "stdout",
          "text": [
            "+-----+---------------+-------------+-------------------+\n",
            "|MONTH|conteo_retrados|numero_vuelos|porcentage_retrados|\n",
            "+-----+---------------+-------------+-------------------+\n",
            "|    9|         462153|       464946|  99.39928507826716|\n",
            "|   10|         482878|       486165|  99.32389209424784|\n",
            "|   11|         462367|       467972|  98.80227876881523|\n",
            "|    4|         479251|       485151|  98.78388378051369|\n",
            "|    7|         514384|       520718|  98.78360264096881|\n",
            "|    8|         503956|       510536|  98.71115846874658|\n",
            "|    5|         489641|       496993|  98.52070351091464|\n",
            "|   12|         469717|       479230|   98.0149406339336|\n",
            "|    6|         492847|       503897|  97.80709152862589|\n",
            "|    3|         492138|       504312|  97.58601817922239|\n",
            "|    1|         457013|       469968|  97.24342933986995|\n",
            "|    2|         407663|       429191|  94.98405138970762|\n",
            "+-----+---------------+-------------+-------------------+\n",
            "\n"
          ]
        }
      ]
    },
    {
      "cell_type": "code",
      "source": [
        "df.groupBy('MONTH').pivot('AIRLINE').agg(count('*')).orderBy('MONTH').show()"
      ],
      "metadata": {
        "colab": {
          "base_uri": "https://localhost:8080/"
        },
        "id": "T6UdolBKtazG",
        "outputId": "7a092a1a-9e1f-48f6-bf8b-5b015ce97569"
      },
      "execution_count": null,
      "outputs": [
        {
          "output_type": "stream",
          "name": "stdout",
          "text": [
            "+-----+-----+-----+-----+-----+-----+----+----+-----+-----+-----+-----+-----+----+------+\n",
            "|MONTH|   AA|   AS|   B6|   DL|   EV|  F9|  HA|   MQ|   NK|   OO|   UA|   US|  VX|    WN|\n",
            "+-----+-----+-----+-----+-----+-----+----+----+-----+-----+-----+-----+-----+----+------+\n",
            "|    1|44059|13257|21623|64421|49925|6829|6440|29900| 8743|48114|38395|33489|4731|100042|\n",
            "|    2|39835|12194|19751|60884|45138|5809|5779|26940| 8089|43989|36235|30153|4223| 90172|\n",
            "|    3|45966|14276|22590|74166|54190|6950|6313|28146| 9400|50078|43603|34516|4873|109245|\n",
            "|    4|44770|13974|22020|72170|49296|7148|6093|25695| 9496|49329|41342|32496|4915|106407|\n",
            "|    5|44710|14682|22565|74815|49213|8118|6434|25431|10051|49864|44411|33761|5236|107702|\n",
            "|    6|44360|15075|22558|77255|49119|7893|6677|25407| 9826|50307|46084|34300|5260|109776|\n",
            "|    7|81434|15821|24029|80741|50381|8090|6955|24750|10351|52627|46478| null|5411|113650|\n",
            "|    8|79748|16095|23826|80947|48554|8142|6901|23881|10432|52730|45413| null|5688|108179|\n",
            "|    9|73379|14271|21133|72063|43721|7873|6154|21202| 9948|47625|41778| null|5154|100645|\n",
            "|   10|77290|14467|21913|75552|45728|8101|6242|21982|10208|48808|45894| null|5464|104516|\n",
            "|   11|73871|13950|21697|72228|42572|7763|6024|20305|10164|47292|42647| null|5414|104045|\n",
            "|   12|76562|14459|23343|70639|44140|8120|6260|20993|10671|47590|43443| null|5534|107476|\n",
            "+-----+-----+-----+-----+-----+-----+----+----+-----+-----+-----+-----+-----+----+------+\n",
            "\n"
          ]
        }
      ]
    },
    {
      "cell_type": "code",
      "source": [
        "df.groupBy('MONTH').pivot('AIRLINE', ['AA']).agg(count('*')).orderBy(desc('AA')).show()"
      ],
      "metadata": {
        "colab": {
          "base_uri": "https://localhost:8080/"
        },
        "id": "25l9OzyvxXCC",
        "outputId": "33c51649-f92d-4002-b410-00c4c6e5f744"
      },
      "execution_count": null,
      "outputs": [
        {
          "output_type": "stream",
          "name": "stdout",
          "text": [
            "+-----+-----+\n",
            "|MONTH|   AA|\n",
            "+-----+-----+\n",
            "|    7|81434|\n",
            "|    8|79748|\n",
            "|   10|77290|\n",
            "|   12|76562|\n",
            "|   11|73871|\n",
            "|    9|73379|\n",
            "|    3|45966|\n",
            "|    4|44770|\n",
            "|    5|44710|\n",
            "|    6|44360|\n",
            "|    1|44059|\n",
            "|    2|39835|\n",
            "+-----+-----+\n",
            "\n"
          ]
        }
      ]
    },
    {
      "cell_type": "code",
      "source": [
        "empleados = spark.read.parquet('./Date/empleados.parquet')"
      ],
      "metadata": {
        "id": "yoVjRYGmxrJ6"
      },
      "execution_count": null,
      "outputs": []
    },
    {
      "cell_type": "code",
      "source": [
        "departamentos = spark.read.parquet('./Date/departamentos.parquet')"
      ],
      "metadata": {
        "id": "b69geKI8z6fT"
      },
      "execution_count": null,
      "outputs": []
    },
    {
      "cell_type": "code",
      "source": [
        "empleados.show()\n",
        "departamentos.show()"
      ],
      "metadata": {
        "colab": {
          "base_uri": "https://localhost:8080/"
        },
        "id": "wvsLNl8s0CxY",
        "outputId": "649a451f-8272-499e-9e13-57920f2d825c"
      },
      "execution_count": null,
      "outputs": [
        {
          "output_type": "stream",
          "name": "stdout",
          "text": [
            "+------+--------+\n",
            "|nombre|num_dpto|\n",
            "+------+--------+\n",
            "|  Luis|      33|\n",
            "| Katia|      33|\n",
            "|  Raul|      34|\n",
            "| Pedro|       0|\n",
            "| Laura|      34|\n",
            "|Sandro|      31|\n",
            "+------+--------+\n",
            "\n",
            "+---+-----------+\n",
            "| id|nombre_dpto|\n",
            "+---+-----------+\n",
            "| 31|     letras|\n",
            "| 33|    derecho|\n",
            "| 34| matemática|\n",
            "| 35|informática|\n",
            "+---+-----------+\n",
            "\n"
          ]
        }
      ]
    },
    {
      "cell_type": "code",
      "source": [
        "from IPython.display import Image, display\n",
        "\n",
        "display(Image('./Date/joins.png'))\n"
      ],
      "metadata": {
        "colab": {
          "base_uri": "https://localhost:8080/",
          "height": 618
        },
        "id": "vO2Wc9WQ6P72",
        "outputId": "9e03ff14-5ea6-4271-a508-c9feaaa6081c"
      },
      "execution_count": null,
      "outputs": [
        {
          "output_type": "display_data",
          "data": {
            "image/png": "[encoded data removed]",
            "text/plain": [
              "<IPython.core.display.Image object>"
            ]
          },
          "metadata": {}
        }
      ]
    },
    {
      "cell_type": "code",
      "source": [
        "join_df = empleados.join(departamentos,col('id') == col('num_dpto'))\n",
        "join_df.drop('id').show()"
      ],
      "metadata": {
        "colab": {
          "base_uri": "https://localhost:8080/"
        },
        "id": "JqoF8jE60Jqw",
        "outputId": "b88cea9d-e687-4c19-b6ff-da45f2fd9b6b"
      },
      "execution_count": null,
      "outputs": [
        {
          "output_type": "stream",
          "name": "stdout",
          "text": [
            "+------+--------+-----------+\n",
            "|nombre|num_dpto|nombre_dpto|\n",
            "+------+--------+-----------+\n",
            "|  Luis|      33|    derecho|\n",
            "| Katia|      33|    derecho|\n",
            "|  Raul|      34| matemática|\n",
            "| Laura|      34| matemática|\n",
            "|Sandro|      31|     letras|\n",
            "+------+--------+-----------+\n",
            "\n"
          ]
        }
      ]
    },
    {
      "cell_type": "code",
      "source": [
        "join_df = empleados.join(departamentos,col('id') == col('num_dpto'), 'inner')\n",
        "join_df.drop('id').show()"
      ],
      "metadata": {
        "colab": {
          "base_uri": "https://localhost:8080/"
        },
        "id": "pZyUtZ7E0dAs",
        "outputId": "6559b773-8c25-489e-f62a-e83bb0621c70"
      },
      "execution_count": null,
      "outputs": [
        {
          "output_type": "stream",
          "name": "stdout",
          "text": [
            "+------+--------+-----------+\n",
            "|nombre|num_dpto|nombre_dpto|\n",
            "+------+--------+-----------+\n",
            "|  Luis|      33|    derecho|\n",
            "| Katia|      33|    derecho|\n",
            "|  Raul|      34| matemática|\n",
            "| Laura|      34| matemática|\n",
            "|Sandro|      31|     letras|\n",
            "+------+--------+-----------+\n",
            "\n"
          ]
        }
      ]
    },
    {
      "cell_type": "code",
      "source": [
        "empleados.join(departamentos, col('id') == col('num_dpto'), 'leftouter').show()"
      ],
      "metadata": {
        "colab": {
          "base_uri": "https://localhost:8080/"
        },
        "id": "P-PYZxIf013o",
        "outputId": "22646264-899f-4867-f387-638f7c68d509"
      },
      "execution_count": null,
      "outputs": [
        {
          "output_type": "stream",
          "name": "stdout",
          "text": [
            "+------+--------+----+-----------+\n",
            "|nombre|num_dpto|  id|nombre_dpto|\n",
            "+------+--------+----+-----------+\n",
            "|  Luis|      33|  33|    derecho|\n",
            "| Katia|      33|  33|    derecho|\n",
            "|  Raul|      34|  34| matemática|\n",
            "| Pedro|       0|null|       null|\n",
            "| Laura|      34|  34| matemática|\n",
            "|Sandro|      31|  31|     letras|\n",
            "+------+--------+----+-----------+\n",
            "\n"
          ]
        }
      ]
    },
    {
      "cell_type": "code",
      "source": [
        "empleados.join(departamentos, col('id') == col('num_dpto'), 'left_outer').show()"
      ],
      "metadata": {
        "colab": {
          "base_uri": "https://localhost:8080/"
        },
        "id": "S7JLFJtS1VP1",
        "outputId": "d4415621-fe1a-4d01-a315-71d905c18cd6"
      },
      "execution_count": null,
      "outputs": [
        {
          "output_type": "stream",
          "name": "stdout",
          "text": [
            "+------+--------+----+-----------+\n",
            "|nombre|num_dpto|  id|nombre_dpto|\n",
            "+------+--------+----+-----------+\n",
            "|  Luis|      33|  33|    derecho|\n",
            "| Katia|      33|  33|    derecho|\n",
            "|  Raul|      34|  34| matemática|\n",
            "| Pedro|       0|null|       null|\n",
            "| Laura|      34|  34| matemática|\n",
            "|Sandro|      31|  31|     letras|\n",
            "+------+--------+----+-----------+\n",
            "\n"
          ]
        }
      ]
    },
    {
      "cell_type": "code",
      "source": [
        "empleados.join(departamentos, col('id') == col('num_dpto'), 'left').show()"
      ],
      "metadata": {
        "colab": {
          "base_uri": "https://localhost:8080/"
        },
        "id": "fVmvJiYy1e7s",
        "outputId": "b2d60765-7835-40fd-d18c-cb6b8e344d3e"
      },
      "execution_count": null,
      "outputs": [
        {
          "output_type": "stream",
          "name": "stdout",
          "text": [
            "+------+--------+----+-----------+\n",
            "|nombre|num_dpto|  id|nombre_dpto|\n",
            "+------+--------+----+-----------+\n",
            "|  Luis|      33|  33|    derecho|\n",
            "| Katia|      33|  33|    derecho|\n",
            "|  Raul|      34|  34| matemática|\n",
            "| Pedro|       0|null|       null|\n",
            "| Laura|      34|  34| matemática|\n",
            "|Sandro|      31|  31|     letras|\n",
            "+------+--------+----+-----------+\n",
            "\n"
          ]
        }
      ]
    },
    {
      "cell_type": "code",
      "source": [
        "empleados.join(departamentos, col('id') == col('num_dpto'), 'right').show()"
      ],
      "metadata": {
        "colab": {
          "base_uri": "https://localhost:8080/"
        },
        "id": "54gDROzB1hXh",
        "outputId": "d937549c-5608-455a-b799-81bc9a4255bf"
      },
      "execution_count": null,
      "outputs": [
        {
          "output_type": "stream",
          "name": "stdout",
          "text": [
            "+------+--------+---+-----------+\n",
            "|nombre|num_dpto| id|nombre_dpto|\n",
            "+------+--------+---+-----------+\n",
            "|Sandro|      31| 31|     letras|\n",
            "| Katia|      33| 33|    derecho|\n",
            "|  Luis|      33| 33|    derecho|\n",
            "| Laura|      34| 34| matemática|\n",
            "|  Raul|      34| 34| matemática|\n",
            "|  null|    null| 35|informática|\n",
            "+------+--------+---+-----------+\n",
            "\n"
          ]
        }
      ]
    },
    {
      "cell_type": "code",
      "source": [
        "empleados.join(departamentos, col('id') == col('num_dpto'), 'full').show()"
      ],
      "metadata": {
        "colab": {
          "base_uri": "https://localhost:8080/"
        },
        "id": "ercwtqo61n47",
        "outputId": "bdcda16b-8478-49c8-9af6-b49ea7c1e6b8"
      },
      "execution_count": null,
      "outputs": [
        {
          "output_type": "stream",
          "name": "stdout",
          "text": [
            "+------+--------+----+-----------+\n",
            "|nombre|num_dpto|  id|nombre_dpto|\n",
            "+------+--------+----+-----------+\n",
            "| Pedro|       0|null|       null|\n",
            "|Sandro|      31|  31|     letras|\n",
            "|  Luis|      33|  33|    derecho|\n",
            "| Katia|      33|  33|    derecho|\n",
            "|  Raul|      34|  34| matemática|\n",
            "| Laura|      34|  34| matemática|\n",
            "|  null|    null|  35|informática|\n",
            "+------+--------+----+-----------+\n",
            "\n"
          ]
        }
      ]
    },
    {
      "cell_type": "code",
      "source": [
        "empleados.join(departamentos, col('id') == col('num_dpto'), 'left_anti').show()"
      ],
      "metadata": {
        "colab": {
          "base_uri": "https://localhost:8080/"
        },
        "id": "DmBk0cfz1zBn",
        "outputId": "a64a38b4-135c-400e-a74f-ed0c3f9e2566"
      },
      "execution_count": null,
      "outputs": [
        {
          "output_type": "stream",
          "name": "stdout",
          "text": [
            "+------+--------+\n",
            "|nombre|num_dpto|\n",
            "+------+--------+\n",
            "| Pedro|       0|\n",
            "+------+--------+\n",
            "\n"
          ]
        }
      ]
    },
    {
      "cell_type": "code",
      "source": [
        "departamentos.join(empleados, col('id') == col('num_dpto'), 'left_anti').show()"
      ],
      "metadata": {
        "colab": {
          "base_uri": "https://localhost:8080/"
        },
        "id": "TYAT-1572Qu_",
        "outputId": "99b67d3e-7f8c-4fc0-e605-2d5520e6f695"
      },
      "execution_count": null,
      "outputs": [
        {
          "output_type": "stream",
          "name": "stdout",
          "text": [
            "+---+-----------+\n",
            "| id|nombre_dpto|\n",
            "+---+-----------+\n",
            "| 35|informática|\n",
            "+---+-----------+\n",
            "\n"
          ]
        }
      ]
    },
    {
      "cell_type": "code",
      "source": [
        "empleados.join(departamentos, col('id') == col('num_dpto'), 'left_semi').show()"
      ],
      "metadata": {
        "colab": {
          "base_uri": "https://localhost:8080/"
        },
        "id": "TnoVEe3C2V4Z",
        "outputId": "23b1b58a-550f-4aef-a005-8fd69a757c6e"
      },
      "execution_count": null,
      "outputs": [
        {
          "output_type": "stream",
          "name": "stdout",
          "text": [
            "+------+--------+\n",
            "|nombre|num_dpto|\n",
            "+------+--------+\n",
            "|  Luis|      33|\n",
            "| Katia|      33|\n",
            "|  Raul|      34|\n",
            "| Laura|      34|\n",
            "|Sandro|      31|\n",
            "+------+--------+\n",
            "\n"
          ]
        }
      ]
    },
    {
      "cell_type": "code",
      "source": [
        "df = empleados.crossJoin(departamentos)\n",
        "df.show(truncate = False)\n",
        "df.count()\n",
        "#6 empleados x 4 = 24"
      ],
      "metadata": {
        "colab": {
          "base_uri": "https://localhost:8080/"
        },
        "id": "ysqZd5L42n8C",
        "outputId": "9d8c540a-20a5-4f42-86da-806f7518ee5f"
      },
      "execution_count": null,
      "outputs": [
        {
          "output_type": "stream",
          "name": "stdout",
          "text": [
            "+------+--------+---+-----------+\n",
            "|nombre|num_dpto|id |nombre_dpto|\n",
            "+------+--------+---+-----------+\n",
            "|Luis  |33      |31 |letras     |\n",
            "|Luis  |33      |33 |derecho    |\n",
            "|Luis  |33      |34 |matemática |\n",
            "|Luis  |33      |35 |informática|\n",
            "|Katia |33      |31 |letras     |\n",
            "|Katia |33      |33 |derecho    |\n",
            "|Katia |33      |34 |matemática |\n",
            "|Katia |33      |35 |informática|\n",
            "|Raul  |34      |31 |letras     |\n",
            "|Raul  |34      |33 |derecho    |\n",
            "|Raul  |34      |34 |matemática |\n",
            "|Raul  |34      |35 |informática|\n",
            "|Pedro |0       |31 |letras     |\n",
            "|Pedro |0       |33 |derecho    |\n",
            "|Pedro |0       |34 |matemática |\n",
            "|Pedro |0       |35 |informática|\n",
            "|Laura |34      |31 |letras     |\n",
            "|Laura |34      |33 |derecho    |\n",
            "|Laura |34      |34 |matemática |\n",
            "|Laura |34      |35 |informática|\n",
            "+------+--------+---+-----------+\n",
            "only showing top 20 rows\n",
            "\n"
          ]
        },
        {
          "output_type": "execute_result",
          "data": {
            "text/plain": [
              "24"
            ]
          },
          "metadata": {},
          "execution_count": 30
        }
      ]
    },
    {
      "cell_type": "code",
      "source": [
        "df = empleados.join(departamentos, col('id') == col('num_dpto'), 'full')"
      ],
      "metadata": {
        "id": "VCOwEUEh26Bt"
      },
      "execution_count": null,
      "outputs": []
    },
    {
      "cell_type": "code",
      "source": [
        "df = df.drop('id')\n",
        "df.show()"
      ],
      "metadata": {
        "colab": {
          "base_uri": "https://localhost:8080/"
        },
        "id": "SNzIaPzI4yTr",
        "outputId": "abacf426-7f27-4ce9-8889-fd2af92138ec"
      },
      "execution_count": null,
      "outputs": [
        {
          "output_type": "stream",
          "name": "stdout",
          "text": [
            "+------+--------+-----------+\n",
            "|nombre|num_dpto|nombre_dpto|\n",
            "+------+--------+-----------+\n",
            "| Pedro|       0|       null|\n",
            "|Sandro|      31|     letras|\n",
            "|  Luis|      33|    derecho|\n",
            "| Katia|      33|    derecho|\n",
            "|  Raul|      34| matemática|\n",
            "| Laura|      34| matemática|\n",
            "|  null|    null|informática|\n",
            "+------+--------+-----------+\n",
            "\n"
          ]
        }
      ]
    },
    {
      "cell_type": "code",
      "source": [
        "##Shufle Hash Join - Ambos conjuntos de datos son grandes\n",
        "##Broadcast Hash Join - Uno de los conjuntos de datos es pequeño"
      ],
      "metadata": {
        "id": "I8kYJo8U46_O"
      },
      "execution_count": null,
      "outputs": []
    },
    {
      "cell_type": "code",
      "source": [
        "from pyspark.sql.functions import broadcast"
      ],
      "metadata": {
        "id": "6eqpKHqY7Ent"
      },
      "execution_count": null,
      "outputs": []
    },
    {
      "cell_type": "code",
      "source": [
        "empleados.join(broadcast(departamentos), col('num_dpto') == col('id')).show()"
      ],
      "metadata": {
        "colab": {
          "base_uri": "https://localhost:8080/"
        },
        "id": "5zTAt5hD7Izs",
        "outputId": "7366b1b1-41d4-4770-f0c3-eb90dc87d2be"
      },
      "execution_count": null,
      "outputs": [
        {
          "output_type": "stream",
          "name": "stdout",
          "text": [
            "+------+--------+---+-----------+\n",
            "|nombre|num_dpto| id|nombre_dpto|\n",
            "+------+--------+---+-----------+\n",
            "|  Luis|      33| 33|    derecho|\n",
            "| Katia|      33| 33|    derecho|\n",
            "|  Raul|      34| 34| matemática|\n",
            "| Laura|      34| 34| matemática|\n",
            "|Sandro|      31| 31|     letras|\n",
            "+------+--------+---+-----------+\n",
            "\n"
          ]
        }
      ]
    },
    {
      "cell_type": "code",
      "source": [
        "empleados.join(broadcast(departamentos), col('num_dpto') == col('id')).explain()"
      ],
      "metadata": {
        "colab": {
          "base_uri": "https://localhost:8080/"
        },
        "id": "Wknk3oou7ZjB",
        "outputId": "18f6934b-ef8b-4f49-e530-32151dd8360b"
      },
      "execution_count": null,
      "outputs": [
        {
          "output_type": "stream",
          "name": "stdout",
          "text": [
            "== Physical Plan ==\n",
            "AdaptiveSparkPlan isFinalPlan=false\n",
            "+- BroadcastHashJoin [num_dpto#4268L], [id#4271L], Inner, BuildRight, false\n",
            "   :- Filter isnotnull(num_dpto#4268L)\n",
            "   :  +- FileScan parquet [nombre#4267,num_dpto#4268L] Batched: true, DataFilters: [isnotnull(num_dpto#4268L)], Format: Parquet, Location: InMemoryFileIndex(1 paths)[file:/content/empleados.parquet], PartitionFilters: [], PushedFilters: [IsNotNull(num_dpto)], ReadSchema: struct<nombre:string,num_dpto:bigint>\n",
            "   +- BroadcastExchange HashedRelationBroadcastMode(List(input[0, bigint, false]),false), [plan_id=2089]\n",
            "      +- Filter isnotnull(id#4271L)\n",
            "         +- FileScan parquet [id#4271L,nombre_dpto#4272] Batched: true, DataFilters: [isnotnull(id#4271L)], Format: Parquet, Location: InMemoryFileIndex(1 paths)[file:/content/departamentos.parquet], PartitionFilters: [], PushedFilters: [IsNotNull(id)], ReadSchema: struct<id:bigint,nombre_dpto:string>\n",
            "\n",
            "\n"
          ]
        }
      ]
    },
    {
      "cell_type": "markdown",
      "source": [
        "##Sección 8: Ejerjicios"
      ],
      "metadata": {
        "id": "vw8vx2a-8Ihr"
      }
    },
    {
      "cell_type": "code",
      "source": [
        "appearances = spark.read.csv('./Date/appearances.csv', header=True)\n",
        "clubs = spark.read.csv('./Date/clubs.csv', header=True)\n",
        "competitions = spark.read.csv('./Date/competitions.csv', header=True)\n",
        "games = spark.read.csv('./Date/games.csv', header=True)\n",
        "leagues =  spark.read.csv('./Date/leagues.csv', header=True)\n",
        "players = spark.read.csv('./Date/players.csv', header=True)"
      ],
      "metadata": {
        "id": "lLCV4ALZ7goI"
      },
      "execution_count": null,
      "outputs": []
    },
    {
      "cell_type": "code",
      "source": [
        "appearances.show()\n",
        "clubs.show()\n",
        "competitions.show()\n",
        "games.show()\n",
        "leagues.show()\n",
        "players.show()"
      ],
      "metadata": {
        "colab": {
          "base_uri": "https://localhost:8080/"
        },
        "id": "vcpUlzcV9CMW",
        "outputId": "03c8011e-7827-42f4-ca39-64f6abb03d12"
      },
      "execution_count": null,
      "outputs": [
        {
          "output_type": "stream",
          "name": "stdout",
          "text": [
            "+---------+-------+-------------+--------------+--------------+-----+-------+--------------+------------+---------+\n",
            "|player_id|game_id|appearance_id|competition_id|player_club_id|goals|assists|minutes_played|yellow_cards|red_cards|\n",
            "+---------+-------+-------------+--------------+--------------+-----+-------+--------------+------------+---------+\n",
            "|    52453|2483937|2483937_52453|           RU1|         28095|    0|      0|            90|           0|        0|\n",
            "|    67064|2479929|2479929_67064|           RU1|         28095|    0|      0|            90|           0|        0|\n",
            "|    67064|2483937|2483937_67064|           RU1|         28095|    0|      0|            90|           0|        0|\n",
            "|    67064|2484582|2484582_67064|           RU1|         28095|    0|      0|            55|           0|        0|\n",
            "|    67064|2485965|2485965_67064|           RU1|         28095|    0|      0|            90|           0|        0|\n",
            "|    67064|2487345|2487345_67064|           RU1|         28095|    0|      0|            90|           1|        0|\n",
            "|    67064|2498464|2498464_67064|           RU1|         28095|    0|      0|            90|           0|        0|\n",
            "|    67064|2500260|2500260_67064|           RU1|         28095|    0|      1|            19|           0|        0|\n",
            "|    67064|2506733|2506733_67064|           RU1|         28095|    1|      0|            90|           1|        0|\n",
            "|    67064|2508366|2508366_67064|           RU1|         28095|    0|      0|             2|           0|        0|\n",
            "|    67064|2493717|2493717_67064|           RUP|         28095|    0|      0|            65|           0|        0|\n",
            "|    98558|2498464|2498464_98558|           RU1|         28095|    0|      0|            90|           0|        0|\n",
            "|    36227|2479927|2479927_36227|           RU1|          1186|    0|      0|            45|           1|        0|\n",
            "|    52453|2484582|2484582_52453|           RU1|         28095|    0|      0|            90|           0|        0|\n",
            "|    52453|2485965|2485965_52453|           RU1|         28095|    0|      0|            45|           0|        0|\n",
            "|    52453|2487345|2487345_52453|           RU1|         28095|    0|      0|            53|           0|        0|\n",
            "|    52453|2489341|2489341_52453|           RU1|         28095|    0|      0|            35|           0|        0|\n",
            "|    52453|2493788|2493788_52453|           RU1|         28095|    0|      1|            65|           0|        0|\n",
            "|    52453|2498464|2498464_52453|           RU1|         28095|    0|      0|            19|           0|        0|\n",
            "|    52453|2500260|2500260_52453|           RU1|         28095|    1|      0|            86|           0|        0|\n",
            "+---------+-------+-------------+--------------+--------------+-----+-------+--------------+------------+---------+\n",
            "only showing top 20 rows\n",
            "\n",
            "+-------+--------------------+--------------------+-----------------------+------------------+----------+-----------+-----------------+---------------------+---------------------+--------------------+-------------+-------------------+-------------------+--------------------+\n",
            "|club_id|                name|         pretty_name|domestic_competition_id|total_market_value|squad_size|average_age|foreigners_number|foreigners_percentage|national_team_players|        stadium_name|stadium_seats|net_transfer_record|         coach_name|                 url|\n",
            "+-------+--------------------+--------------------+-----------------------+------------------+----------+-----------+-----------------+---------------------+---------------------+--------------------+-------------+-------------------+-------------------+--------------------+\n",
            "|   1429|           cesena-fc|           Cesena Fc|                    IT1|              5.09|        30|       24.0|                3|                 10.0|                    1|\"Orogel Stadium \"...|        23860|           +£180Th.|   Pierpaolo Bisoli|https://www.trans...|\n",
            "|   5220|        gs-ergotelis|        Gs Ergotelis|                    GR1|              3.62|        30|       22.7|               11|                 36.7|                    1|    Pankritio Stadio|        25780|                +-0|      Juan Ferrando|https://www.trans...|\n",
            "|  20698|       balikesirspor|       Balikesirspor|                    TR1|              2.21|        33|       25.5|                9|                 27.3|                    1|   Balıkesir Atatürk|        15800|                +-0|     Ismail Ertekin|https://www.trans...|\n",
            "|   6894| kayseri-erciyesspor| Kayseri Erciyesspor|                    TR1|              null|         0|        0.0|                0|                 null|                    0|Kayseri Atatürk S...|         2000|                +-0|     Hikmet Karaman|https://www.trans...|\n",
            "|   5572|          niki-volou|          Niki Volou|                    GR1|              3.38|        26|       27.9|                6|                 23.1|                    1|Panthessaliko Stadio|        22700|                +-0|       Wiljan Vloet|https://www.trans...|\n",
            "|  20100|    fc-vestsjaelland|    Fc Vestsjaelland|                    DK1|              null|         0|        0.0|                0|                 null|                    0|        Harboe Arena|        10000|                +-0|     Michael Hansen|https://www.trans...|\n",
            "|   2783|    metalurg-donetsk|    Metalurg Donetsk|                   UKR1|              null|         0|        0.0|                0|                 null|                    0|            Metalurg|         5090|                +-0| Volodymyr Pyatenko|https://www.trans...|\n",
            "|   1455|        fc-dordrecht|        Fc Dordrecht|                    NL1|              3.51|        25|       23.1|                9|                 36.0|                    0|Riwal Hoogwerkers...|         4235|                +-0|      Ernie Brandts|https://www.trans...|\n",
            "|   3302|          ud-almeria|          Ud Almeria|                    ES1|             51.84|        24|       25.9|               10|                 41.7|                    1|Estadio de los Ju...|        15274|            £-4.82m|Francisco Rodríguez|https://www.trans...|\n",
            "|    993|          fc-cordoba|          Fc Cordoba|                    ES1|              2.81|        23|       27.0|                1|                  4.3|                    0|      Nuevo Arcángel|        21822|           +£270Th.|      Albert Ferrer|https://www.trans...|\n",
            "|   1186|      torpedo-moskau|      Torpedo Moskau|                    RU1|              7.97|        25|       26.8|                3|                 12.0|                    1|Sportivniy Gorodo...|         1872|            £-36Th.|   Nikolay Savichev|https://www.trans...|\n",
            "|   1039| queens-park-rangers| Queens Park Rangers|                    GB1|             30.96|        24|       26.8|               15|                 62.5|                    6|Kiyan Prince Foun...|        18360|            £-1.67m|     Harry Redknapp|https://www.trans...|\n",
            "|    204|           lierse-sk|           Lierse Sk|                    BE1|              null|         0|        0.0|                0|                 null|                    0|Herman Vanderpoor...|        14538|                +-0|      Stanley Menzo|https://www.trans...|\n",
            "|   3327|         fc-penafiel|         Fc Penafiel|                    PO1|              4.37|        26|       27.7|                5|                 19.2|                    0|Estádio Municipal...|         5230|                +-0|       Ricardo Chéu|https://www.trans...|\n",
            "|  14171|thonon-evian-gran...|Thonon Evian Gran...|                    FR1|              1.69|        20|       26.2|                5|                 25.0|                    1| Stade Joseph-Moynat|            0|                +-0|      Pascal Dupraz|https://www.trans...|\n",
            "|   6996|    goverla-uzhgorod|    Goverla Uzhgorod|                   UKR1|              null|         0|        0.0|                0|                 null|                    0|            Avangard|        10640|                +-0| Vyacheslav Groznyi|https://www.trans...|\n",
            "|   6994|metalurg-zaporizh...|Metalurg Zaporizh...|                   UKR1|              null|         0|        0.0|                0|                 null|                    0|         ZAZ Stadion|        15000|                +-0|  Anatoliy Chantsev|https://www.trans...|\n",
            "|   7185|panthrakikos-komo...|Panthrakikos Komo...|                    GR1|              23.0|         5|       26.3|                3|                 60.0|                    1|Stadio Komotinis ...|         5601|                +-0|   José Manuel Roca|https://www.trans...|\n",
            "|   3216|   mersin-idmanyurdu|   Mersin Idmanyurdu|                    TR1|              null|         0|        0.0|                0|                 null|                    0|     Mersin Stadyumu|        25497|                +-0|       Mesut Bakkal|https://www.trans...|\n",
            "|  28956|         ael-kalloni|         Ael Kalloni|                    GR1|              null|         0|        0.0|                0|                 null|                    0|    Stadio Mytilinis|         4000|                +-0| Thalis Theodoridis|https://www.trans...|\n",
            "+-------+--------------------+--------------------+-----------------------+------------------+----------+-----------+-----------------+---------------------+---------------------+--------------------+-------------+-------------------+-------------------+--------------------+\n",
            "only showing top 20 rows\n",
            "\n",
            "+--------------+--------------------+------------------+----------+------------+--------------------+-------------+--------------------+\n",
            "|competition_id|                name|              type|country_id|country_name|domestic_league_code|confederation|                 url|\n",
            "+--------------+--------------------+------------------+----------+------------+--------------------+-------------+--------------------+\n",
            "|            L1|          bundesliga|        first_tier|        40|     Germany|                  L1|       europa|https://www.trans...|\n",
            "|           DFB|           dfb-pokal|      domestic_cup|        40|     Germany|                  L1|       europa|https://www.trans...|\n",
            "|           DFL|        dfl-supercup|domestic_super_cup|        40|     Germany|                  L1|       europa|https://www.trans...|\n",
            "|           NL1|          eredivisie|        first_tier|       122| Netherlands|                 NL1|       europa|https://www.trans...|\n",
            "|           NLP|     toto-knvb-beker|      domestic_cup|       122| Netherlands|                 NL1|       europa|https://www.trans...|\n",
            "|          NLSC|johan-cruijff-schaal|domestic_super_cup|       122| Netherlands|                 NL1|       europa|https://www.trans...|\n",
            "|           BE1|  jupiler-pro-league|        first_tier|        19|     Belgium|                 BE1|       europa|https://www.trans...|\n",
            "|          BESC|    belgian-supercup|domestic_super_cup|        19|     Belgium|                 BE1|       europa|https://www.trans...|\n",
            "|           ES1|              laliga|        first_tier|       157|       Spain|                 ES1|       europa|https://www.trans...|\n",
            "|           CDR|        copa-del-rey|      domestic_cup|       157|       Spain|                 ES1|       europa|https://www.trans...|\n",
            "|           SUC|           supercopa|domestic_super_cup|       157|       Spain|                 ES1|       europa|https://www.trans...|\n",
            "|           PO1|  liga-portugal-bwin|        first_tier|       136|    Portugal|                 PO1|       europa|https://www.trans...|\n",
            "|          POCP|         allianz-cup|      domestic_cup|       136|    Portugal|                 PO1|       europa|https://www.trans...|\n",
            "|          POSU|supertaca-candido...|domestic_super_cup|       136|    Portugal|                 PO1|       europa|https://www.trans...|\n",
            "|           FR1|             ligue-1|        first_tier|        50|      France|                 FR1|       europa|https://www.trans...|\n",
            "|          FRCH|trophee-des-champ...|domestic_super_cup|        50|      France|                 FR1|       europa|https://www.trans...|\n",
            "|           GB1|      premier-league|        first_tier|       189|     England|                 GB1|       europa|https://www.trans...|\n",
            "|           CGB|             efl-cup|      domestic_cup|       189|     England|                 GB1|       europa|https://www.trans...|\n",
            "|          GBCS|    community-shield|domestic_super_cup|       189|     England|                 GB1|       europa|https://www.trans...|\n",
            "|           RU1|        premier-liga|        first_tier|       141|      Russia|                 RU1|       europa|https://www.trans...|\n",
            "+--------------+--------------------+------------------+----------+------------+--------------------+-------------+--------------------+\n",
            "only showing top 20 rows\n",
            "\n",
            "+-------+----------------+------+-------------+----------+------------+------------+---------------+---------------+------------------+------------------+--------------------+----------+--------------------+--------------------+\n",
            "|game_id|competition_code|season|        round|      date|home_club_id|away_club_id|home_club_goals|away_club_goals|home_club_position|away_club_position|             stadium|attendance|             referee|                 url|\n",
            "+-------+----------------+------+-------------+----------+------------+------------+---------------+---------------+------------------+------------------+--------------------+----------+--------------------+--------------------+\n",
            "|2457642|            NLSC|  2014|        Final|2014-08-03|        1269|         610|              1|              0|              null|              null| Johan Cruijff ArenA|     42000|      Danny Makkelie|https://www.trans...|\n",
            "|2639088|            BESC|  2013|        Final|2014-07-20|          58|         498|              2|              1|              null|              null|Constant Vanden S...|     13733|     Jonathan Lardot|https://www.trans...|\n",
            "|2481145|             SUC|  2014|final 1st leg|2014-08-19|         418|          13|              1|              1|              null|              null|   Santiago Bernabéu|     75897|   Estrada Fernández|https://www.trans...|\n",
            "|2484338|            POSU|  2014|        Final|2014-08-10|         294|        2425|              3|              2|              null|              null|Estádio Municipal...|     30000|        Duarte Gomes|https://www.trans...|\n",
            "|2502472|            FRCH|  2014|        Final|2014-08-02|         583|         855|              2|              0|              null|              null|     Workers Stadium|     39752|      Clément Turpin|https://www.trans...|\n",
            "|2459774|             NL1|  2014| 21. Matchday|2015-02-05|         610|        1090|              0|              1|                 2|                 5| Johan Cruijff ArenA|     47724|      Pol van Boekel|https://www.trans...|\n",
            "|2480169|             PO1|  2014| 16. Matchday|2015-01-11|        2425|        1301|              0|              0|                 6|                10|   Estádio dos Arcos|      2230|       Tiago Martins|https://www.trans...|\n",
            "|2490887|             PO1|  2014| 20. Matchday|2015-02-08|        1085|        2990|              0|              0|                14|                16|   Estádio do Bonfim|      3500|     Fábio Veríssimo|https://www.trans...|\n",
            "|2498723|             PO1|  2014| 22. Matchday|2015-02-21|        1085|        3327|              0|              1|                15|                18|   Estádio do Bonfim|      2108|       Rui Rodrigues|https://www.trans...|\n",
            "|2479542|            POCP|  2014|      Group C|2014-08-13|        3345|        4750|              0|              0|              null|              null|      Estádio do Mar|       448|       Jorge Tavares|https://www.trans...|\n",
            "|2460640|              L1|  2014|  2. Matchday|2014-08-30|          86|         533|              1|              1|                 9|                 3|Wohninvest-Wesers...|     38900|     Robert Hartmann|https://www.trans...|\n",
            "|2460300|             GB1|  2014|  1. Matchday|2014-08-16|         985|        2288|              1|              2|                15|                 5|        Old Trafford|     75339|           Mike Dean|https://www.trans...|\n",
            "|2486545|             GB1|  2014|  8. Matchday|2014-10-18|         180|         289|              8|              0|                 3|                17|   St Mary's Stadium|     29615|      Andre Marriner|https://www.trans...|\n",
            "|2486598|             GB1|  2014| 13. Matchday|2014-11-30|         148|          29|              2|              1|                 7|                10|     White Hart Lane|     35901|      Michael Oliver|https://www.trans...|\n",
            "|2486692|             GB1|  2014| 23. Matchday|2015-01-31|        3008|         762|              0|              3|                18|                11|        KCOM Stadium|     23925|           Phil Dowd|https://www.trans...|\n",
            "|2486714|             GB1|  2014| 25. Matchday|2015-02-10|          31|         148|              3|              2|                 7|                 6|             Anfield|     44577|           Phil Dowd|https://www.trans...|\n",
            "|2486726|             GB1|  2014| 26. Matchday|2015-02-21|         289|         984|              0|              0|                16|                14|    Stadium of Light|     40943|          Mike Jones|https://www.trans...|\n",
            "|2475235|             ES1|  2014|  6. Matchday|2014-09-26|        1531|         940|              0|              1|                18|                 6|Manuel Martínez V...|     20852|Pedro Jesús Pérez...|https://www.trans...|\n",
            "|2475322|             ES1|  2014| 15. Matchday|2014-12-14|         681|         621|              1|              1|                14|                10|              Anoeta|     26651|David Fernández B...|https://www.trans...|\n",
            "|2475350|             ES1|  2014| 18. Matchday|2015-01-10|        1084|        1050|              1|              1|                 7|                 6|         La Rosaleda|     22077|Santiago Jaime Latre|https://www.trans...|\n",
            "+-------+----------------+------+-------------+----------+------------+------------+---------------+---------------+------------------+------------------+--------------------+----------+--------------------+--------------------+\n",
            "only showing top 20 rows\n",
            "\n",
            "+---------+--------------------+-------------+\n",
            "|league_id|                name|confederation|\n",
            "+---------+--------------------+-------------+\n",
            "|       L1|          bundesliga|       europa|\n",
            "|      NL1|          eredivisie|       europa|\n",
            "|      BE1|  jupiler-pro-league|       europa|\n",
            "|      ES1|              laliga|       europa|\n",
            "|      PO1|            liga-nos|       europa|\n",
            "|      FR1|             ligue-1|       europa|\n",
            "|      GB1|      premier-league|       europa|\n",
            "|      RU1|        premier-liga|       europa|\n",
            "|     UKR1|        premier-liga|       europa|\n",
            "|      SC1|scottish-premiership|       europa|\n",
            "|      IT1|             serie-a|       europa|\n",
            "|      GR1|      super-league-1|       europa|\n",
            "|      TR1|           super-lig|       europa|\n",
            "|      DK1|         superligaen|       europa|\n",
            "+---------+--------------------+-------------+\n",
            "\n",
            "+---------+---------------+--------------------+--------------------+----------------+----------------------+-------------+----------+------------------+-----+------------+-------------------+---------------------------+--------------------+\n",
            "|player_id|current_club_id|                name|         pretty_name|country_of_birth|country_of_citizenship|date_of_birth|  position|      sub_position| foot|height_in_cm|market_value_in_gbp|highest_market_value_in_gbp|                 url|\n",
            "+---------+---------------+--------------------+--------------------+----------------+----------------------+-------------+----------+------------------+-----+------------+-------------------+---------------------------+--------------------+\n",
            "|    38790|          28095|      dmitri-golubov|      Dmitri Golubov|           UdSSR|                Russia|   1985-06-24|    Attack|    Centre-Forward| Both|         178|               null|                   675000.0|https://www.trans...|\n",
            "|   106539|          28095|  aleksandr-vasiljev|  Aleksandr Vasiljev|          Russia|                Russia|   1992-01-23|    Attack|      Right Winger|Right|         182|               null|                   225000.0|https://www.trans...|\n",
            "|   164389|           2288|       rory-donnelly|       Rory Donnelly|Northern Ireland|      Northern Ireland|   1992-02-18|    Attack|    Centre-Forward|Right|         188|           113000.0|                   225000.0|https://www.trans...|\n",
            "|    45247|           1162|      damien-perquis|      Damien Perquis|          France|                France|   1986-03-08|Goalkeeper|        Goalkeeper|Right|         186|               null|                   900000.0|https://www.trans...|\n",
            "|    97205|          28095| nikita-bezlikhotnov| Nikita Bezlikhotnov|           UdSSR|                Russia|   1990-08-19|    Attack|      Right Winger|Right|         179|               null|                   675000.0|https://www.trans...|\n",
            "|    14962|           1177|         jesper-bech|         Jesper Bech|            null|               Denmark|   1982-05-25|  Midfield|  Central Midfield| Left|         177|               null|                  1130000.0|https://www.trans...|\n",
            "|   202836|             24|       yaffa-yusupha|       Yaffa Yusupha|      The Gambia|            The Gambia|   1996-12-31|    Attack|    Centre-Forward| null|           0|               null|                    90000.0|https://www.trans...|\n",
            "|    40027|           5818|       ruben-nygaard|       Ruben Nygaard|            null|               Denmark|   1986-05-25|    Attack|      Right Winger|Right|         175|               null|                   180000.0|https://www.trans...|\n",
            "|    62065|           5818|        dennis-hoegh|        Dennis Hoegh|         Denmark|               Denmark|   1989-02-21|  Midfield|Attacking Midfield|Right|         184|               null|                   225000.0|https://www.trans...|\n",
            "|   203899|            403|         stijn-derkx|         Stijn Derkx|     Netherlands|           Netherlands|   1995-02-03|    Attack|    Centre-Forward|Right|         182|               null|                    45000.0|https://www.trans...|\n",
            "|    48897|           1177|         ade-runsewe|         Ade Runsewe|            null|               Nigeria|   1989-12-01|    Attack|      Right Winger|Right|         176|               null|                   315000.0|https://www.trans...|\n",
            "|    23367|            862|       alessio-sestu|       Alessio Sestu|           Italy|                 Italy|   1983-09-29|    Attack|      Right Winger|Right|         177|               null|                   720000.0|https://www.trans...|\n",
            "|   107958|            862|      nicola-bellomo|      Nicola Bellomo|           Italy|                 Italy|   1991-02-18|  Midfield|Attacking Midfield|Right|         174|               null|                  1620000.0|https://www.trans...|\n",
            "|   103110|           5818| frederik-hammershoj| Frederik Hammershoj|            null|               Denmark|   1987-06-15|  Midfield|  Central Midfield| Left|           0|               null|                   135000.0|https://www.trans...|\n",
            "|    45185|            862|       tomasz-kupisz|       Tomasz Kupisz|          Poland|                Poland|   1990-01-02|  Midfield|    Right Midfield|Right|         180|               null|                   900000.0|https://www.trans...|\n",
            "|   334723|            800|       nicolas-napol|       Nicolas Napol|          France|               Belgium|   1996-04-03|    Attack|    Centre-Forward|Right|         186|               null|                    68000.0|https://www.trans...|\n",
            "|   176130|            800|     lorenzo-rosseti|     Lorenzo Rosseti|           Italy|                 Italy|   1994-08-05|    Attack|    Centre-Forward|Right|         182|               null|                  1080000.0|https://www.trans...|\n",
            "|    47769|           1177|    bjarni-vidarsson|    Bjarni Vidarsson|         Iceland|               Iceland|   1988-03-05|  Midfield|  Central Midfield| Both|         187|               null|                   900000.0|https://www.trans...|\n",
            "|    20726|            800|     rolando-bianchi|     Rolando Bianchi|           Italy|                 Italy|   1983-02-15|    Attack|    Centre-Forward|Right|         188|               null|                 11700000.0|https://www.trans...|\n",
            "|   287631|            276|pierluigi-cappell...|Pierluigi Cappell...|           Italy|                 Italy|   1996-06-09|    Attack|    Centre-Forward| Left|         186|               null|                   270000.0|https://www.trans...|\n",
            "+---------+---------------+--------------------+--------------------+----------------+----------------------+-------------+----------+------------------+-----+------------+-------------------+---------------------------+--------------------+\n",
            "only showing top 20 rows\n",
            "\n"
          ]
        }
      ]
    },
    {
      "cell_type": "code",
      "source": [
        "#players = players.filter(players['country_of_birth'].isNotNull())\n",
        "players.groupBy('country_of_birth').agg(\n",
        "    countDistinct('player_id').alias('jugadores')\n",
        ").filter(col('country_of_birth').isNotNull()).orderBy(desc('jugadores')).show()"
      ],
      "metadata": {
        "colab": {
          "base_uri": "https://localhost:8080/"
        },
        "id": "H0dmAQsU9SaQ",
        "outputId": "760e239c-bc3f-4fc6-f757-9f9cf884d511"
      },
      "execution_count": null,
      "outputs": [
        {
          "output_type": "stream",
          "name": "stdout",
          "text": [
            "+-----------------+---------+\n",
            "| country_of_birth|jugadores|\n",
            "+-----------------+---------+\n",
            "|           France|     1694|\n",
            "|            Spain|     1388|\n",
            "|            Italy|     1312|\n",
            "|          England|     1273|\n",
            "|          Germany|     1154|\n",
            "|      Netherlands|     1137|\n",
            "|           Brazil|     1087|\n",
            "|           Turkey|     1085|\n",
            "|         Portugal|      803|\n",
            "|           Greece|      725|\n",
            "|            UdSSR|      721|\n",
            "|          Ukraine|      671|\n",
            "|           Russia|      634|\n",
            "|         Scotland|      594|\n",
            "|          Belgium|      580|\n",
            "|          Denmark|      444|\n",
            "|        Argentina|      432|\n",
            "|Jugoslawien (SFR)|      354|\n",
            "|           Sweden|      186|\n",
            "|          Nigeria|      182|\n",
            "+-----------------+---------+\n",
            "only showing top 20 rows\n",
            "\n"
          ]
        }
      ]
    },
    {
      "cell_type": "code",
      "source": [
        " appearances.groupBy('player_id').agg(\n",
        "    sum('red_cards').alias('total_red_cards')\n",
        ").orderBy(desc('total_red_cards')).show()"
      ],
      "metadata": {
        "colab": {
          "base_uri": "https://localhost:8080/"
        },
        "id": "YcjNevBG98qi",
        "outputId": "e98f7a79-f926-43f3-a3df-3a4af8b97cd5"
      },
      "execution_count": null,
      "outputs": [
        {
          "output_type": "stream",
          "name": "stdout",
          "text": [
            "+---------+---------------+\n",
            "|player_id|total_red_cards|\n",
            "+---------+---------------+\n",
            "|    45146|            5.0|\n",
            "|   111455|            5.0|\n",
            "|     4811|            5.0|\n",
            "|   131821|            5.0|\n",
            "|   177843|            5.0|\n",
            "|   111508|            4.0|\n",
            "|   187587|            4.0|\n",
            "|    60317|            4.0|\n",
            "|    44686|            4.0|\n",
            "|   131694|            4.0|\n",
            "|    46741|            4.0|\n",
            "|    65318|            4.0|\n",
            "|    85289|            4.0|\n",
            "|    94807|            4.0|\n",
            "|    63186|            4.0|\n",
            "|   241229|            4.0|\n",
            "|    30767|            4.0|\n",
            "|   255901|            4.0|\n",
            "|    67815|            4.0|\n",
            "|   439022|            4.0|\n",
            "+---------+---------------+\n",
            "only showing top 20 rows\n",
            "\n"
          ]
        }
      ]
    },
    {
      "cell_type": "code",
      "source": [
        "leagues.show()"
      ],
      "metadata": {
        "colab": {
          "base_uri": "https://localhost:8080/"
        },
        "id": "SXPz6ehq_TVk",
        "outputId": "30cb1069-f623-4cce-91a9-631449a658b2"
      },
      "execution_count": null,
      "outputs": [
        {
          "output_type": "stream",
          "name": "stdout",
          "text": [
            "+---------+--------------------+-------------+\n",
            "|league_id|                name|confederation|\n",
            "+---------+--------------------+-------------+\n",
            "|       L1|          bundesliga|       europa|\n",
            "|      NL1|          eredivisie|       europa|\n",
            "|      BE1|  jupiler-pro-league|       europa|\n",
            "|      ES1|              laliga|       europa|\n",
            "|      PO1|            liga-nos|       europa|\n",
            "|      FR1|             ligue-1|       europa|\n",
            "|      GB1|      premier-league|       europa|\n",
            "|      RU1|        premier-liga|       europa|\n",
            "|     UKR1|        premier-liga|       europa|\n",
            "|      SC1|scottish-premiership|       europa|\n",
            "|      IT1|             serie-a|       europa|\n",
            "|      GR1|      super-league-1|       europa|\n",
            "|      TR1|           super-lig|       europa|\n",
            "|      DK1|         superligaen|       europa|\n",
            "+---------+--------------------+-------------+\n",
            "\n"
          ]
        }
      ]
    },
    {
      "cell_type": "code",
      "source": [
        "games.show()"
      ],
      "metadata": {
        "colab": {
          "base_uri": "https://localhost:8080/"
        },
        "id": "gia7OPGm_qVm",
        "outputId": "3bc655cb-69a7-4185-ea2c-250e597b5478"
      },
      "execution_count": null,
      "outputs": [
        {
          "output_type": "stream",
          "name": "stdout",
          "text": [
            "+-------+----------------+------+-------------+----------+------------+------------+---------------+---------------+------------------+------------------+--------------------+----------+--------------------+--------------------+\n",
            "|game_id|competition_code|season|        round|      date|home_club_id|away_club_id|home_club_goals|away_club_goals|home_club_position|away_club_position|             stadium|attendance|             referee|                 url|\n",
            "+-------+----------------+------+-------------+----------+------------+------------+---------------+---------------+------------------+------------------+--------------------+----------+--------------------+--------------------+\n",
            "|2457642|            NLSC|  2014|        Final|2014-08-03|        1269|         610|              1|              0|              null|              null| Johan Cruijff ArenA|     42000|      Danny Makkelie|https://www.trans...|\n",
            "|2639088|            BESC|  2013|        Final|2014-07-20|          58|         498|              2|              1|              null|              null|Constant Vanden S...|     13733|     Jonathan Lardot|https://www.trans...|\n",
            "|2481145|             SUC|  2014|final 1st leg|2014-08-19|         418|          13|              1|              1|              null|              null|   Santiago Bernabéu|     75897|   Estrada Fernández|https://www.trans...|\n",
            "|2484338|            POSU|  2014|        Final|2014-08-10|         294|        2425|              3|              2|              null|              null|Estádio Municipal...|     30000|        Duarte Gomes|https://www.trans...|\n",
            "|2502472|            FRCH|  2014|        Final|2014-08-02|         583|         855|              2|              0|              null|              null|     Workers Stadium|     39752|      Clément Turpin|https://www.trans...|\n",
            "|2459774|             NL1|  2014| 21. Matchday|2015-02-05|         610|        1090|              0|              1|                 2|                 5| Johan Cruijff ArenA|     47724|      Pol van Boekel|https://www.trans...|\n",
            "|2480169|             PO1|  2014| 16. Matchday|2015-01-11|        2425|        1301|              0|              0|                 6|                10|   Estádio dos Arcos|      2230|       Tiago Martins|https://www.trans...|\n",
            "|2490887|             PO1|  2014| 20. Matchday|2015-02-08|        1085|        2990|              0|              0|                14|                16|   Estádio do Bonfim|      3500|     Fábio Veríssimo|https://www.trans...|\n",
            "|2498723|             PO1|  2014| 22. Matchday|2015-02-21|        1085|        3327|              0|              1|                15|                18|   Estádio do Bonfim|      2108|       Rui Rodrigues|https://www.trans...|\n",
            "|2479542|            POCP|  2014|      Group C|2014-08-13|        3345|        4750|              0|              0|              null|              null|      Estádio do Mar|       448|       Jorge Tavares|https://www.trans...|\n",
            "|2460640|              L1|  2014|  2. Matchday|2014-08-30|          86|         533|              1|              1|                 9|                 3|Wohninvest-Wesers...|     38900|     Robert Hartmann|https://www.trans...|\n",
            "|2460300|             GB1|  2014|  1. Matchday|2014-08-16|         985|        2288|              1|              2|                15|                 5|        Old Trafford|     75339|           Mike Dean|https://www.trans...|\n",
            "|2486545|             GB1|  2014|  8. Matchday|2014-10-18|         180|         289|              8|              0|                 3|                17|   St Mary's Stadium|     29615|      Andre Marriner|https://www.trans...|\n",
            "|2486598|             GB1|  2014| 13. Matchday|2014-11-30|         148|          29|              2|              1|                 7|                10|     White Hart Lane|     35901|      Michael Oliver|https://www.trans...|\n",
            "|2486692|             GB1|  2014| 23. Matchday|2015-01-31|        3008|         762|              0|              3|                18|                11|        KCOM Stadium|     23925|           Phil Dowd|https://www.trans...|\n",
            "|2486714|             GB1|  2014| 25. Matchday|2015-02-10|          31|         148|              3|              2|                 7|                 6|             Anfield|     44577|           Phil Dowd|https://www.trans...|\n",
            "|2486726|             GB1|  2014| 26. Matchday|2015-02-21|         289|         984|              0|              0|                16|                14|    Stadium of Light|     40943|          Mike Jones|https://www.trans...|\n",
            "|2475235|             ES1|  2014|  6. Matchday|2014-09-26|        1531|         940|              0|              1|                18|                 6|Manuel Martínez V...|     20852|Pedro Jesús Pérez...|https://www.trans...|\n",
            "|2475322|             ES1|  2014| 15. Matchday|2014-12-14|         681|         621|              1|              1|                14|                10|              Anoeta|     26651|David Fernández B...|https://www.trans...|\n",
            "|2475350|             ES1|  2014| 18. Matchday|2015-01-10|        1084|        1050|              1|              1|                 7|                 6|         La Rosaleda|     22077|Santiago Jaime Latre|https://www.trans...|\n",
            "+-------+----------------+------+-------------+----------+------------+------------+---------------+---------------+------------------+------------------+--------------------+----------+--------------------+--------------------+\n",
            "only showing top 20 rows\n",
            "\n"
          ]
        }
      ]
    },
    {
      "cell_type": "code",
      "source": [
        "leaguegamejoin = games.join(leagues, col('league_id') == col('competition_code'), 'inner')\n",
        "leaguegamejoin.show()"
      ],
      "metadata": {
        "colab": {
          "base_uri": "https://localhost:8080/"
        },
        "id": "EBGfhdrq_wsw",
        "outputId": "747c1169-34ca-46c7-8f3c-f23efa775552"
      },
      "execution_count": null,
      "outputs": [
        {
          "output_type": "stream",
          "name": "stdout",
          "text": [
            "+-------+----------------+------+------------+----------+------------+------------+---------------+---------------+------------------+------------------+--------------------+----------+--------------------+--------------------+---------+--------------+-------------+\n",
            "|game_id|competition_code|season|       round|      date|home_club_id|away_club_id|home_club_goals|away_club_goals|home_club_position|away_club_position|             stadium|attendance|             referee|                 url|league_id|          name|confederation|\n",
            "+-------+----------------+------+------------+----------+------------+------------+---------------+---------------+------------------+------------------+--------------------+----------+--------------------+--------------------+---------+--------------+-------------+\n",
            "|2459774|             NL1|  2014|21. Matchday|2015-02-05|         610|        1090|              0|              1|                 2|                 5| Johan Cruijff ArenA|     47724|      Pol van Boekel|https://www.trans...|      NL1|    eredivisie|       europa|\n",
            "|2480169|             PO1|  2014|16. Matchday|2015-01-11|        2425|        1301|              0|              0|                 6|                10|   Estádio dos Arcos|      2230|       Tiago Martins|https://www.trans...|      PO1|      liga-nos|       europa|\n",
            "|2490887|             PO1|  2014|20. Matchday|2015-02-08|        1085|        2990|              0|              0|                14|                16|   Estádio do Bonfim|      3500|     Fábio Veríssimo|https://www.trans...|      PO1|      liga-nos|       europa|\n",
            "|2498723|             PO1|  2014|22. Matchday|2015-02-21|        1085|        3327|              0|              1|                15|                18|   Estádio do Bonfim|      2108|       Rui Rodrigues|https://www.trans...|      PO1|      liga-nos|       europa|\n",
            "|2460640|              L1|  2014| 2. Matchday|2014-08-30|          86|         533|              1|              1|                 9|                 3|Wohninvest-Wesers...|     38900|     Robert Hartmann|https://www.trans...|       L1|    bundesliga|       europa|\n",
            "|2460300|             GB1|  2014| 1. Matchday|2014-08-16|         985|        2288|              1|              2|                15|                 5|        Old Trafford|     75339|           Mike Dean|https://www.trans...|      GB1|premier-league|       europa|\n",
            "|2486545|             GB1|  2014| 8. Matchday|2014-10-18|         180|         289|              8|              0|                 3|                17|   St Mary's Stadium|     29615|      Andre Marriner|https://www.trans...|      GB1|premier-league|       europa|\n",
            "|2486598|             GB1|  2014|13. Matchday|2014-11-30|         148|          29|              2|              1|                 7|                10|     White Hart Lane|     35901|      Michael Oliver|https://www.trans...|      GB1|premier-league|       europa|\n",
            "|2486692|             GB1|  2014|23. Matchday|2015-01-31|        3008|         762|              0|              3|                18|                11|        KCOM Stadium|     23925|           Phil Dowd|https://www.trans...|      GB1|premier-league|       europa|\n",
            "|2486714|             GB1|  2014|25. Matchday|2015-02-10|          31|         148|              3|              2|                 7|                 6|             Anfield|     44577|           Phil Dowd|https://www.trans...|      GB1|premier-league|       europa|\n",
            "|2486726|             GB1|  2014|26. Matchday|2015-02-21|         289|         984|              0|              0|                16|                14|    Stadium of Light|     40943|          Mike Jones|https://www.trans...|      GB1|premier-league|       europa|\n",
            "|2475235|             ES1|  2014| 6. Matchday|2014-09-26|        1531|         940|              0|              1|                18|                 6|Manuel Martínez V...|     20852|Pedro Jesús Pérez...|https://www.trans...|      ES1|        laliga|       europa|\n",
            "|2475322|             ES1|  2014|15. Matchday|2014-12-14|         681|         621|              1|              1|                14|                10|              Anoeta|     26651|David Fernández B...|https://www.trans...|      ES1|        laliga|       europa|\n",
            "|2475350|             ES1|  2014|18. Matchday|2015-01-10|        1084|        1050|              1|              1|                 7|                 6|         La Rosaleda|     22077|Santiago Jaime Latre|https://www.trans...|      ES1|        laliga|       europa|\n",
            "|2486648|             GB1|  2014|18. Matchday|2014-12-26|         984|         281|              1|              3|                15|                 2|       The Hawthorns|     26040|    Mark Clattenburg|https://www.trans...|      GB1|premier-league|       europa|\n",
            "|2475556|             ES1|  2014|38. Matchday|2015-05-23|         418|        3709|              7|              3|                 2|                14|   Santiago Bernabéu|     63769|José Antonio Teix...|https://www.trans...|      ES1|        laliga|       europa|\n",
            "|2475559|             ES1|  2014|38. Matchday|2015-05-23|        1084|         368|              2|              3|                 9|                 5|         La Rosaleda|     23103| Iglesias Villanueva|https://www.trans...|      ES1|        laliga|       europa|\n",
            "|2480168|             PO1|  2014|16. Matchday|2015-01-11|         982|        2503|              2|              1|                13|                12|  Estádio da Madeira|      4500|      Jorge Ferreira|https://www.trans...|      PO1|      liga-nos|       europa|\n",
            "|2475482|             ES1|  2014|31. Matchday|2015-04-12|         993|        1531|              0|              2|                20|                15|      Nuevo Arcángel|     14164|Iñaki Bikandi Gar...|https://www.trans...|      ES1|        laliga|       europa|\n",
            "|2475555|             ES1|  2014|38. Matchday|2015-05-23|        1533|         993|              3|              0|                16|                20|              Ipurua|      6065|   Álvarez Izquierdo|https://www.trans...|      ES1|        laliga|       europa|\n",
            "+-------+----------------+------+------------+----------+------------+------------+---------------+---------------+------------------+------------------+--------------------+----------+--------------------+--------------------+---------+--------------+-------------+\n",
            "only showing top 20 rows\n",
            "\n"
          ]
        }
      ]
    },
    {
      "cell_type": "code",
      "source": [
        "from pyspark.sql.functions import when\n",
        "leaguegamejoin = leaguegamejoin.withColumn(\n",
        "    'name',\n",
        "    when(col('name') == 'premier-liga',  'premier-league').otherwise(col('name'))\n",
        ")\n",
        "leaguegamejoin.select('name').distinct().show()"
      ],
      "metadata": {
        "colab": {
          "base_uri": "https://localhost:8080/"
        },
        "id": "zLHEtrqABgZz",
        "outputId": "37333514-addb-4b52-e72c-bd6f36231933"
      },
      "execution_count": null,
      "outputs": [
        {
          "output_type": "stream",
          "name": "stdout",
          "text": [
            "+--------------------+\n",
            "|                name|\n",
            "+--------------------+\n",
            "|              laliga|\n",
            "|      super-league-1|\n",
            "|  jupiler-pro-league|\n",
            "|             ligue-1|\n",
            "|            liga-nos|\n",
            "|           super-lig|\n",
            "|         superligaen|\n",
            "|          eredivisie|\n",
            "|      premier-league|\n",
            "|          bundesliga|\n",
            "|scottish-premiership|\n",
            "|             serie-a|\n",
            "+--------------------+\n",
            "\n"
          ]
        }
      ]
    },
    {
      "cell_type": "code",
      "source": [
        "leaguegamejoin.groupBy('name').agg(\n",
        "    count('*').alias('total_juegos')\n",
        ").where(col('name') == 'premier-league').show()\n",
        "\n",
        "#premier-league"
      ],
      "metadata": {
        "colab": {
          "base_uri": "https://localhost:8080/"
        },
        "id": "EI-Km--IAXEC",
        "outputId": "4df89539-66b6-4b0a-9d29-ab7949222234"
      },
      "execution_count": null,
      "outputs": [
        {
          "output_type": "stream",
          "name": "stdout",
          "text": [
            "+--------------+------------+\n",
            "|          name|total_juegos|\n",
            "+--------------+------------+\n",
            "|premier-league|        5893|\n",
            "+--------------+------------+\n",
            "\n"
          ]
        }
      ]
    },
    {
      "cell_type": "code",
      "source": [
        "#attendance\n",
        "leaguegamejoin.groupBy('name').agg(\n",
        "    count('*').alias('n_juegos'),\n",
        "    avg('attendance').alias('avg_attendance'),\n",
        "    sum('attendance').alias('sum_attendance')\n",
        ").orderBy(desc('sum_attendance')).show(3)"
      ],
      "metadata": {
        "colab": {
          "base_uri": "https://localhost:8080/"
        },
        "id": "QdQXMsRCA2hg",
        "outputId": "971f06a3-ba6b-4253-d861-3ffa31615a9c"
      },
      "execution_count": null,
      "outputs": [
        {
          "output_type": "stream",
          "name": "stdout",
          "text": [
            "+--------------+--------+------------------+--------------+\n",
            "|          name|n_juegos|    avg_attendance|sum_attendance|\n",
            "+--------------+--------+------------------+--------------+\n",
            "|premier-league|    5893|21467.155119908643|  1.12788433E8|\n",
            "|    bundesliga|    2268| 40977.16316894019|   7.8102473E7|\n",
            "|        laliga|    2814| 27154.24201898188|   6.2943533E7|\n",
            "+--------------+--------+------------------+--------------+\n",
            "only showing top 3 rows\n",
            "\n"
          ]
        }
      ]
    },
    {
      "cell_type": "markdown",
      "source": [
        "#Sección 9"
      ],
      "metadata": {
        "id": "pD5VB0yjHSTp"
      }
    },
    {
      "cell_type": "code",
      "source": [
        "import findspark\n",
        "findspark.init()\n",
        "\n",
        "from pyspark.sql import SparkSession\n",
        "\n",
        "spark = SparkSession.builder.getOrCreate()"
      ],
      "metadata": {
        "id": "0pZSEJCNDEgA"
      },
      "execution_count": null,
      "outputs": []
    },
    {
      "cell_type": "code",
      "source": [
        "data = spark.read.parquet('./Date/convertir')\n",
        "data.show()"
      ],
      "metadata": {
        "colab": {
          "base_uri": "https://localhost:8080/"
        },
        "id": "6_8n-afGH-MI",
        "outputId": "2ae90e8d-f7d0-47ab-e6bb-4adec5e2f93c"
      },
      "execution_count": null,
      "outputs": [
        {
          "output_type": "stream",
          "name": "stdout",
          "text": [
            "+----------+--------------------+----------+----------------+\n",
            "|      date|           timestamp|  date_str|          ts_str|\n",
            "+----------+--------------------+----------+----------------+\n",
            "|2021-01-01|2021-01-01 20:10:...|01-01-2021|18-08-2021 46:58|\n",
            "+----------+--------------------+----------+----------------+\n",
            "\n"
          ]
        }
      ]
    },
    {
      "cell_type": "code",
      "source": [
        "data.printSchema()"
      ],
      "metadata": {
        "colab": {
          "base_uri": "https://localhost:8080/"
        },
        "id": "Bssz5xd9IfZw",
        "outputId": "a17f6713-49a3-4b0f-be97-b3ee00ba4ad1"
      },
      "execution_count": null,
      "outputs": [
        {
          "output_type": "stream",
          "name": "stdout",
          "text": [
            "root\n",
            " |-- date: string (nullable = true)\n",
            " |-- timestamp: string (nullable = true)\n",
            " |-- date_str: string (nullable = true)\n",
            " |-- ts_str: string (nullable = true)\n",
            "\n"
          ]
        }
      ]
    },
    {
      "cell_type": "code",
      "source": [
        "from pyspark.sql.functions import col, to_date, to_timestamp\n",
        "data = data.select(\n",
        "    to_date(col('date')).alias('date1'),\n",
        "    to_timestamp(col('timestamp')).alias('timestamp1'),\n",
        "    to_date(col('date_str'), 'dd-MM-yyyy').alias('date_str1'),\n",
        "    to_timestamp(col('ts_str'), 'dd-MM-yyyy mm:ss').alias('ts_str1')\n",
        ")\n",
        "data.show(truncate=False)"
      ],
      "metadata": {
        "colab": {
          "base_uri": "https://localhost:8080/"
        },
        "id": "k7ecePLnIk-E",
        "outputId": "0c5c46d3-f44e-48a0-d393-1ac358b5d13f"
      },
      "execution_count": null,
      "outputs": [
        {
          "output_type": "stream",
          "name": "stdout",
          "text": [
            "+----------+-----------------------+----------+-------------------+\n",
            "|date1     |timestamp1             |date_str1 |ts_str1            |\n",
            "+----------+-----------------------+----------+-------------------+\n",
            "|2021-01-01|2021-01-01 20:10:50.723|2021-01-01|2021-08-18 00:46:58|\n",
            "+----------+-----------------------+----------+-------------------+\n",
            "\n"
          ]
        }
      ]
    },
    {
      "cell_type": "code",
      "source": [
        "from pyspark.sql.functions import date_format\n",
        "\n",
        "data1 = data\n",
        "data1.show()"
      ],
      "metadata": {
        "colab": {
          "base_uri": "https://localhost:8080/"
        },
        "id": "udkhSy7pI0EH",
        "outputId": "f2b752d4-4f0f-4882-c793-f6df39472308"
      },
      "execution_count": null,
      "outputs": [
        {
          "output_type": "stream",
          "name": "stdout",
          "text": [
            "+----------+--------------------+----------+-------------------+\n",
            "|     date1|          timestamp1| date_str1|            ts_str1|\n",
            "+----------+--------------------+----------+-------------------+\n",
            "|2021-01-01|2021-01-01 20:10:...|2021-01-01|2021-08-18 00:46:58|\n",
            "+----------+--------------------+----------+-------------------+\n",
            "\n"
          ]
        }
      ]
    },
    {
      "cell_type": "code",
      "source": [
        "data1.select(\n",
        "    date_format(col('date1'), 'dd-MM-yyyy')\n",
        ").show()"
      ],
      "metadata": {
        "colab": {
          "base_uri": "https://localhost:8080/"
        },
        "id": "MMA4ZUElKwJi",
        "outputId": "abef5320-0347-403f-8184-66a983d1d1c1"
      },
      "execution_count": null,
      "outputs": [
        {
          "output_type": "stream",
          "name": "stdout",
          "text": [
            "+------------------------------+\n",
            "|date_format(date1, dd-MM-yyyy)|\n",
            "+------------------------------+\n",
            "|                    01-01-2021|\n",
            "+------------------------------+\n",
            "\n"
          ]
        }
      ]
    },
    {
      "cell_type": "code",
      "source": [
        "df = spark.read.parquet('./Date/calculo.parquet')"
      ],
      "metadata": {
        "id": "AeFOcAmtK-fu"
      },
      "execution_count": null,
      "outputs": []
    },
    {
      "cell_type": "code",
      "source": [
        "df.show()"
      ],
      "metadata": {
        "colab": {
          "base_uri": "https://localhost:8080/"
        },
        "id": "NnQM-aZBLLcv",
        "outputId": "4a356a2a-4880-43c1-b4dd-ef4383052638"
      },
      "execution_count": null,
      "outputs": [
        {
          "output_type": "stream",
          "name": "stdout",
          "text": [
            "+------+-------------+------------+-------------------+\n",
            "|nombre|fecha_ingreso|fecha_salida|       baja_sistema|\n",
            "+------+-------------+------------+-------------------+\n",
            "|  Jose|   2021-01-01|  2021-11-14|2021-10-14 15:35:59|\n",
            "|Mayara|   2021-02-06|  2021-11-25|2021-11-25 10:35:55|\n",
            "+------+-------------+------------+-------------------+\n",
            "\n"
          ]
        }
      ]
    },
    {
      "cell_type": "code",
      "source": [
        "from pyspark.sql.functions import datediff, months_between, last_day\n"
      ],
      "metadata": {
        "id": "TSZZgcnyLPRd"
      },
      "execution_count": null,
      "outputs": []
    },
    {
      "cell_type": "code",
      "source": [
        "df.select(\n",
        "    datediff(col('fecha_ingreso'), col('fecha_salida')),\n",
        "    months_between(col('fecha_ingreso'), col('fecha_salida')),\n",
        "    last_day(col('fecha_ingreso'))\n",
        ").show()"
      ],
      "metadata": {
        "colab": {
          "base_uri": "https://localhost:8080/"
        },
        "id": "QQcjXIXzLW4K",
        "outputId": "e43b1646-cd1e-4d27-c174-79026ebedb94"
      },
      "execution_count": null,
      "outputs": [
        {
          "output_type": "stream",
          "name": "stdout",
          "text": [
            "+-------------------------------------+-------------------------------------------------+-----------------------+\n",
            "|datediff(fecha_ingreso, fecha_salida)|months_between(fecha_ingreso, fecha_salida, true)|last_day(fecha_ingreso)|\n",
            "+-------------------------------------+-------------------------------------------------+-----------------------+\n",
            "|                                 -317|                                     -10.41935484|             2021-01-31|\n",
            "|                                 -292|                                      -9.61290323|             2021-02-28|\n",
            "+-------------------------------------+-------------------------------------------------+-----------------------+\n",
            "\n"
          ]
        }
      ]
    },
    {
      "cell_type": "code",
      "source": [
        "#date_add para adicionar dias\n",
        "#date_sub para subtrair dias\n",
        "#year, month, dayofmonth, dayofyear, hour, minute, second\n",
        "\n",
        "#String - Quitar espacios ltrim, rtrim, trim\n",
        "#       - Adicionar caracterews lpad, rpad\n",
        "\n",
        "data = spark.read.parquet('./Date/Parquet')\n",
        "data.show(truncate=False)\n"
      ],
      "metadata": {
        "colab": {
          "base_uri": "https://localhost:8080/"
        },
        "id": "dcSSvo-fLljx",
        "outputId": "8b19e129-c616-4308-aef3-b20525737a0b"
      },
      "execution_count": null,
      "outputs": [
        {
          "output_type": "stream",
          "name": "stdout",
          "text": [
            "+-----+--------------------------------------------+\n",
            "|dia  |tareas                                      |\n",
            "+-----+--------------------------------------------+\n",
            "|lunes|[hacer la tarea, buscar agua, lavar el auto]|\n",
            "+-----+--------------------------------------------+\n",
            "\n"
          ]
        }
      ]
    },
    {
      "cell_type": "code",
      "source": [
        "data.printSchema()"
      ],
      "metadata": {
        "colab": {
          "base_uri": "https://localhost:8080/"
        },
        "id": "04Fa2QaSOFTp",
        "outputId": "c85dc772-b4ab-4372-8b0a-0e19a3216755"
      },
      "execution_count": null,
      "outputs": [
        {
          "output_type": "stream",
          "name": "stdout",
          "text": [
            "root\n",
            " |-- dia: string (nullable = true)\n",
            " |-- tareas: array (nullable = true)\n",
            " |    |-- element: string (containsNull = true)\n",
            "\n"
          ]
        }
      ]
    },
    {
      "cell_type": "code",
      "source": [
        "from pyspark.sql.functions import col, size, sort_array, array_contains"
      ],
      "metadata": {
        "id": "fC65PT20OQ8-"
      },
      "execution_count": null,
      "outputs": []
    },
    {
      "cell_type": "code",
      "source": [
        "data.select(\n",
        "    size(col('tareas')).alias('tamano'),\n",
        "    sort_array('tareas'),\n",
        "    array_contains(col('tareas'), 'buscar agua')\n",
        ").show(truncate=False)"
      ],
      "metadata": {
        "colab": {
          "base_uri": "https://localhost:8080/"
        },
        "id": "Hou_n56lOzdQ",
        "outputId": "a059a43d-59f9-44e0-e27c-0ecd75d672a7"
      },
      "execution_count": null,
      "outputs": [
        {
          "output_type": "stream",
          "name": "stdout",
          "text": [
            "+------+--------------------------------------------+-----------------------------------+\n",
            "|tamano|sort_array(tareas, true)                    |array_contains(tareas, buscar agua)|\n",
            "+------+--------------------------------------------+-----------------------------------+\n",
            "|3     |[buscar agua, hacer la tarea, lavar el auto]|true                               |\n",
            "+------+--------------------------------------------+-----------------------------------+\n",
            "\n"
          ]
        }
      ]
    },
    {
      "cell_type": "code",
      "source": [
        "from pyspark.sql.functions import explode\n",
        "data.select(\n",
        "    col('dia'),\n",
        "    explode('tareas')\n",
        ").show()"
      ],
      "metadata": {
        "colab": {
          "base_uri": "https://localhost:8080/"
        },
        "id": "E32w1aP-O7FH",
        "outputId": "c9518842-30a7-45f0-fc3f-294461196478"
      },
      "execution_count": null,
      "outputs": [
        {
          "output_type": "stream",
          "name": "stdout",
          "text": [
            "+-----+--------------+\n",
            "|  dia|           col|\n",
            "+-----+--------------+\n",
            "|lunes|hacer la tarea|\n",
            "|lunes|   buscar agua|\n",
            "|lunes| lavar el auto|\n",
            "+-----+--------------+\n",
            "\n"
          ]
        }
      ]
    },
    {
      "cell_type": "code",
      "source": [
        "data1 = spark.read.parquet('./Date/JSON')"
      ],
      "metadata": {
        "id": "IIbGDwc0QZUW"
      },
      "execution_count": null,
      "outputs": []
    },
    {
      "cell_type": "code",
      "source": [
        "data1.show(truncate=False)"
      ],
      "metadata": {
        "colab": {
          "base_uri": "https://localhost:8080/"
        },
        "id": "QgibrNsVQqtX",
        "outputId": "8560a725-8be8-4bf3-a3ab-2eab37acab4a"
      },
      "execution_count": null,
      "outputs": [
        {
          "output_type": "stream",
          "name": "stdout",
          "text": [
            "+---------------------------------------------------------------------------+\n",
            "|tareas_str                                                                 |\n",
            "+---------------------------------------------------------------------------+\n",
            "|{\"dia\": \"lunes\",\"tareas\": [\"hacer la tarea\",\"buscar agua\",\"lavar el auto\"]}|\n",
            "+---------------------------------------------------------------------------+\n",
            "\n"
          ]
        }
      ]
    },
    {
      "cell_type": "code",
      "source": [
        "data1.printSchema()"
      ],
      "metadata": {
        "colab": {
          "base_uri": "https://localhost:8080/"
        },
        "id": "MChCXsE0Qsue",
        "outputId": "3b5cae93-b4b7-4a01-f1f5-901c9b0dbfa6"
      },
      "execution_count": null,
      "outputs": [
        {
          "output_type": "stream",
          "name": "stdout",
          "text": [
            "root\n",
            " |-- tareas_str: string (nullable = true)\n",
            "\n"
          ]
        }
      ]
    },
    {
      "cell_type": "code",
      "source": [
        "from pyspark.sql.types import StructType, StructField, StringType, ArrayType"
      ],
      "metadata": {
        "id": "AaD7bFobQ3bP"
      },
      "execution_count": null,
      "outputs": []
    },
    {
      "cell_type": "code",
      "source": [
        "schema_json = StructType(\n",
        "    [\n",
        "    StructField('dia', StringType(), True),\n",
        "    StructField('tareas', ArrayType(StringType()), True)\n",
        "    ]\n",
        ")"
      ],
      "metadata": {
        "id": "lFFUcE-WRDzB"
      },
      "execution_count": null,
      "outputs": []
    },
    {
      "cell_type": "code",
      "source": [
        "from pyspark.sql.functions import from_json, to_json\n",
        "\n",
        "json_df = data1.select(\n",
        "    from_json(col('tareas_str'), schema_json).alias('por_hacer')\n",
        ")\n",
        "json_df.show(truncate=False)\n",
        "json_df.printSchema()"
      ],
      "metadata": {
        "colab": {
          "base_uri": "https://localhost:8080/"
        },
        "id": "TeaaGLdQRgmZ",
        "outputId": "59e83e30-ab3e-4848-edea-f4b01a200560"
      },
      "execution_count": null,
      "outputs": [
        {
          "output_type": "stream",
          "name": "stdout",
          "text": [
            "+-----------------------------------------------------+\n",
            "|por_hacer                                            |\n",
            "+-----------------------------------------------------+\n",
            "|{lunes, [hacer la tarea, buscar agua, lavar el auto]}|\n",
            "+-----------------------------------------------------+\n",
            "\n",
            "root\n",
            " |-- por_hacer: struct (nullable = true)\n",
            " |    |-- dia: string (nullable = true)\n",
            " |    |-- tareas: array (nullable = true)\n",
            " |    |    |-- element: string (containsNull = true)\n",
            "\n"
          ]
        }
      ]
    },
    {
      "cell_type": "code",
      "source": [
        "json_df.select(\n",
        "    col('por_hacer').getItem('dia'),\n",
        "    col('por_hacer').getItem('tareas'),\n",
        "    col('por_hacer').getItem('tareas').getItem(0).alias('primera tarea')\n",
        ").show(truncate=False)"
      ],
      "metadata": {
        "colab": {
          "base_uri": "https://localhost:8080/"
        },
        "id": "VBvzmiUySEG5",
        "outputId": "38bec048-9fa8-47e0-d5ff-57d46c31502d"
      },
      "execution_count": null,
      "outputs": [
        {
          "output_type": "stream",
          "name": "stdout",
          "text": [
            "+-------------+--------------------------------------------+--------------+\n",
            "|por_hacer.dia|por_hacer.tareas                            |primera tarea |\n",
            "+-------------+--------------------------------------------+--------------+\n",
            "|lunes        |[hacer la tarea, buscar agua, lavar el auto]|hacer la tarea|\n",
            "+-------------+--------------------------------------------+--------------+\n",
            "\n"
          ]
        }
      ]
    },
    {
      "cell_type": "code",
      "source": [
        "data = spark.read.parquet('./Date/Parquet1')\n",
        "data.show()"
      ],
      "metadata": {
        "colab": {
          "base_uri": "https://localhost:8080/"
        },
        "id": "H2uxw5v8S21D",
        "outputId": "131142d1-65c3-4ba9-f051-073813d48c5b"
      },
      "execution_count": null,
      "outputs": [
        {
          "output_type": "stream",
          "name": "stdout",
          "text": [
            "+------+----+\n",
            "|nombre|pago|\n",
            "+------+----+\n",
            "|  Jose|   1|\n",
            "| Julia|   2|\n",
            "| Katia|   1|\n",
            "|  null|   3|\n",
            "|  Raul|   3|\n",
            "+------+----+\n",
            "\n"
          ]
        }
      ]
    },
    {
      "cell_type": "code",
      "source": [
        "from pyspark.sql.functions import col, when, lit, coalesce\n",
        "\n",
        "data.select(\n",
        "    col('nombre'),\n",
        " #   col('pago'),\n",
        "    when(col('pago')==1, 'Pago').when(col('pago') == 2, 'Sin pagar').otherwise('Sin iniciar').alias('pago')\n",
        ").show()"
      ],
      "metadata": {
        "colab": {
          "base_uri": "https://localhost:8080/"
        },
        "id": "OnroISTRTZir",
        "outputId": "28bb92ac-344c-46c3-a901-e4d1530ebbc5"
      },
      "execution_count": null,
      "outputs": [
        {
          "output_type": "stream",
          "name": "stdout",
          "text": [
            "+------+-----------+\n",
            "|nombre|       pago|\n",
            "+------+-----------+\n",
            "|  Jose|       Pago|\n",
            "| Julia|  Sin pagar|\n",
            "| Katia|       Pago|\n",
            "|  null|Sin iniciar|\n",
            "|  Raul|Sin iniciar|\n",
            "+------+-----------+\n",
            "\n"
          ]
        }
      ]
    },
    {
      "cell_type": "code",
      "source": [
        "data.select(\n",
        "    coalesce(col('nombre'), lit('sin nombre')).alias('nombre')\n",
        ").show()"
      ],
      "metadata": {
        "colab": {
          "base_uri": "https://localhost:8080/"
        },
        "id": "so_EPKyTT9SE",
        "outputId": "3e1116ab-ae28-4646-c349-d4f8f9fa4a73"
      },
      "execution_count": null,
      "outputs": [
        {
          "output_type": "stream",
          "name": "stdout",
          "text": [
            "+----------+\n",
            "|    nombre|\n",
            "+----------+\n",
            "|      Jose|\n",
            "|     Julia|\n",
            "|     Katia|\n",
            "|sin nombre|\n",
            "|      Raul|\n",
            "+----------+\n",
            "\n"
          ]
        }
      ]
    },
    {
      "cell_type": "code",
      "source": [
        "def f_cubo(n):\n",
        "  return n*n*n"
      ],
      "metadata": {
        "id": "60-suEuVWaEY"
      },
      "execution_count": null,
      "outputs": []
    },
    {
      "cell_type": "code",
      "source": [
        "from pyspark.sql.types import LongType"
      ],
      "metadata": {
        "id": "Z8vXtcO2Xh9I"
      },
      "execution_count": null,
      "outputs": []
    },
    {
      "cell_type": "code",
      "source": [
        "spark.udf.register('cubo', f_cubo, LongType())"
      ],
      "metadata": {
        "colab": {
          "base_uri": "https://localhost:8080/",
          "height": 104
        },
        "id": "lJWOG-jLXpJb",
        "outputId": "262ef2cb-0ae3-429c-9e41-1a04aea9830d"
      },
      "execution_count": null,
      "outputs": [
        {
          "output_type": "execute_result",
          "data": {
            "text/plain": [
              "<function __main__.f_cubo(n)>"
            ],
            "text/html": [
              "<div style=\"max-width:800px; border: 1px solid var(--colab-border-color);\"><style>\n",
              "      pre.function-repr-contents {\n",
              "        overflow-x: auto;\n",
              "        padding: 8px 12px;\n",
              "        max-height: 500px;\n",
              "      }\n",
              "\n",
              "      pre.function-repr-contents.function-repr-contents-collapsed {\n",
              "        cursor: pointer;\n",
              "        max-height: 100px;\n",
              "      }\n",
              "    </style>\n",
              "    <pre style=\"white-space: initial; background:\n",
              "         var(--colab-secondary-surface-color); padding: 8px 12px;\n",
              "         border-bottom: 1px solid var(--colab-border-color);\"><b>f_cubo</b><br/>def f_cubo(n)</pre><pre class=\"function-repr-contents function-repr-contents-collapsed\" style=\"\"><a class=\"filepath\" style=\"display:none\" href=\"#\">/content/&lt;ipython-input-149-276a9f1946a3&gt;</a>&lt;no docstring&gt;</pre></div>"
            ]
          },
          "metadata": {},
          "execution_count": 151
        }
      ]
    },
    {
      "cell_type": "code",
      "source": [
        "spark.range(1,10).createOrReplaceTempView('df_temp')"
      ],
      "metadata": {
        "id": "qBu3sTqbX2pu"
      },
      "execution_count": null,
      "outputs": []
    },
    {
      "cell_type": "code",
      "source": [
        "spark.sql(\"SELECT id, cubo(id) AS Cubo FROM df_temp\").show()"
      ],
      "metadata": {
        "colab": {
          "base_uri": "https://localhost:8080/"
        },
        "id": "k0XMP6EHX9Ey",
        "outputId": "607567b4-37b9-4b85-fe15-0ae26ba7e4c7"
      },
      "execution_count": null,
      "outputs": [
        {
          "output_type": "stream",
          "name": "stdout",
          "text": [
            "+---+----+\n",
            "| id|Cubo|\n",
            "+---+----+\n",
            "|  1|   1|\n",
            "|  2|   8|\n",
            "|  3|  27|\n",
            "|  4|  64|\n",
            "|  5| 125|\n",
            "|  6| 216|\n",
            "|  7| 343|\n",
            "|  8| 512|\n",
            "|  9| 729|\n",
            "+---+----+\n",
            "\n"
          ]
        }
      ]
    },
    {
      "cell_type": "code",
      "source": [
        "def bienvenida(nombre):\n",
        "  return ('Hola {}'.format(nombre))"
      ],
      "metadata": {
        "id": "SCq0bp9qYGds"
      },
      "execution_count": null,
      "outputs": []
    },
    {
      "cell_type": "code",
      "source": [
        "from pyspark.sql.functions import udf\n",
        "from pyspark.sql.types import StringType"
      ],
      "metadata": {
        "id": "PM-n9sv5YbFi"
      },
      "execution_count": null,
      "outputs": []
    },
    {
      "cell_type": "code",
      "source": [
        "bienvenida_udf = udf(lambda x: bienvenida(x), StringType())"
      ],
      "metadata": {
        "id": "5PxKFL70YkPw"
      },
      "execution_count": null,
      "outputs": []
    },
    {
      "cell_type": "code",
      "source": [
        "df_nombre = spark.createDataFrame([('Jose',), ('Julia', )], ['nombre'])\n",
        "df_nombre.show()"
      ],
      "metadata": {
        "colab": {
          "base_uri": "https://localhost:8080/"
        },
        "id": "RgJFJ--0YxRP",
        "outputId": "aab461c8-f312-47f0-fd6b-14f214a1ae5b"
      },
      "execution_count": null,
      "outputs": [
        {
          "output_type": "stream",
          "name": "stdout",
          "text": [
            "+------+\n",
            "|nombre|\n",
            "+------+\n",
            "|  Jose|\n",
            "| Julia|\n",
            "+------+\n",
            "\n"
          ]
        }
      ]
    },
    {
      "cell_type": "code",
      "source": [
        "df_nombre.select(\n",
        "    col('nombre'),\n",
        "    bienvenida_udf(col('nombre')).alias('bienvenida')\n",
        ").show()"
      ],
      "metadata": {
        "colab": {
          "base_uri": "https://localhost:8080/"
        },
        "id": "ZpPbLVPyZDk8",
        "outputId": "b67c406e-683b-4346-e93e-1f785ff9f622"
      },
      "execution_count": null,
      "outputs": [
        {
          "output_type": "stream",
          "name": "stdout",
          "text": [
            "+------+----------+\n",
            "|nombre|bienvenida|\n",
            "+------+----------+\n",
            "|  Jose| Hola Jose|\n",
            "| Julia|Hola Julia|\n",
            "+------+----------+\n",
            "\n"
          ]
        }
      ]
    },
    {
      "cell_type": "code",
      "source": [
        "import pandas as pd\n",
        "from pyspark.sql.functions import pandas_udf"
      ],
      "metadata": {
        "id": "uKzMHvtTZWgc"
      },
      "execution_count": null,
      "outputs": []
    },
    {
      "cell_type": "code",
      "source": [
        "def cubo_pandas(a: pd.Series) -> pd.Series:\n",
        "  return a*a*a"
      ],
      "metadata": {
        "id": "cGbaYynfZv_C"
      },
      "execution_count": null,
      "outputs": []
    },
    {
      "cell_type": "code",
      "source": [
        "cubo_udf = pandas_udf(cubo_pandas, returnType=LongType())"
      ],
      "metadata": {
        "id": "-zaWpH6YZ7S0"
      },
      "execution_count": null,
      "outputs": []
    },
    {
      "cell_type": "code",
      "source": [
        "x = pd.Series([1,2,3])"
      ],
      "metadata": {
        "id": "9XcW72IaaEuH"
      },
      "execution_count": null,
      "outputs": []
    },
    {
      "cell_type": "code",
      "source": [
        "print(cubo_pandas(x))"
      ],
      "metadata": {
        "colab": {
          "base_uri": "https://localhost:8080/"
        },
        "id": "O__nfaMJaHTa",
        "outputId": "71aa0f86-d0be-45f6-90b7-6c14fba265b8"
      },
      "execution_count": null,
      "outputs": [
        {
          "output_type": "stream",
          "name": "stdout",
          "text": [
            "0     1\n",
            "1     8\n",
            "2    27\n",
            "dtype: int64\n"
          ]
        }
      ]
    },
    {
      "cell_type": "code",
      "source": [
        "df = spark.read.parquet('./Date/funciones_ventana.parquet')"
      ],
      "metadata": {
        "id": "7ZcR1ztaaLLZ"
      },
      "execution_count": null,
      "outputs": []
    },
    {
      "cell_type": "code",
      "source": [
        "df.show()"
      ],
      "metadata": {
        "colab": {
          "base_uri": "https://localhost:8080/"
        },
        "id": "Nu7K4JF1axTo",
        "outputId": "5edfe485-8148-43f8-d97f-75b2abee3060"
      },
      "execution_count": null,
      "outputs": [
        {
          "output_type": "stream",
          "name": "stdout",
          "text": [
            "+-------+----+------------+----------+\n",
            "| nombre|edad|departamento|evaluacion|\n",
            "+-------+----+------------+----------+\n",
            "| Lazaro|  45|      letras|        98|\n",
            "|   Raul|  24|  matemática|        76|\n",
            "|  Maria|  34|  matemática|        27|\n",
            "|   Jose|  30|     química|        78|\n",
            "| Susana|  51|     química|        98|\n",
            "|   Juan|  44|      letras|        89|\n",
            "|  Julia|  55|      letras|        92|\n",
            "|  Kadir|  38|arquitectura|        39|\n",
            "| Lilian|  23|arquitectura|        94|\n",
            "|   Rosa|  26|      letras|        91|\n",
            "|   Aian|  50|  matemática|        73|\n",
            "|Yaneisy|  29|      letras|        89|\n",
            "|Enrique|  40|     química|        92|\n",
            "|    Jon|  25|arquitectura|        78|\n",
            "|  Luisa|  39|arquitectura|        94|\n",
            "+-------+----+------------+----------+\n",
            "\n"
          ]
        }
      ]
    },
    {
      "cell_type": "code",
      "source": [
        "from pyspark.sql.window import Window\n",
        "from pyspark.sql.functions import desc, row_number, rank, dense_rank"
      ],
      "metadata": {
        "id": "_xp20RtPazo_"
      },
      "execution_count": null,
      "outputs": []
    },
    {
      "cell_type": "code",
      "source": [
        "WindowSpec = Window.partitionBy('departamento').orderBy(desc('evaluacion'))\n",
        "\n",
        "df.withColumn('row_number', row_number().over(WindowSpec)).filter(col('row_number').isin(1,2)).show()"
      ],
      "metadata": {
        "colab": {
          "base_uri": "https://localhost:8080/"
        },
        "id": "vnQuLBhibq3f",
        "outputId": "f1fe5245-25c9-4bf7-e530-efce6e08163e"
      },
      "execution_count": null,
      "outputs": [
        {
          "output_type": "stream",
          "name": "stdout",
          "text": [
            "+-------+----+------------+----------+----------+\n",
            "| nombre|edad|departamento|evaluacion|row_number|\n",
            "+-------+----+------------+----------+----------+\n",
            "| Lilian|  23|arquitectura|        94|         1|\n",
            "|  Luisa|  39|arquitectura|        94|         2|\n",
            "| Lazaro|  45|      letras|        98|         1|\n",
            "|  Julia|  55|      letras|        92|         2|\n",
            "|   Raul|  24|  matemática|        76|         1|\n",
            "|   Aian|  50|  matemática|        73|         2|\n",
            "| Susana|  51|     química|        98|         1|\n",
            "|Enrique|  40|     química|        92|         2|\n",
            "+-------+----+------------+----------+----------+\n",
            "\n"
          ]
        }
      ]
    },
    {
      "cell_type": "code",
      "source": [
        "df.withColumn('rank', rank().over(WindowSpec)).show()"
      ],
      "metadata": {
        "colab": {
          "base_uri": "https://localhost:8080/"
        },
        "id": "LLSS4f0Db53X",
        "outputId": "9214793f-4219-40ba-baa9-9c63f7888c19"
      },
      "execution_count": null,
      "outputs": [
        {
          "output_type": "stream",
          "name": "stdout",
          "text": [
            "+-------+----+------------+----------+----+\n",
            "| nombre|edad|departamento|evaluacion|rank|\n",
            "+-------+----+------------+----------+----+\n",
            "| Lilian|  23|arquitectura|        94|   1|\n",
            "|  Luisa|  39|arquitectura|        94|   1|\n",
            "|    Jon|  25|arquitectura|        78|   3|\n",
            "|  Kadir|  38|arquitectura|        39|   4|\n",
            "| Lazaro|  45|      letras|        98|   1|\n",
            "|  Julia|  55|      letras|        92|   2|\n",
            "|   Rosa|  26|      letras|        91|   3|\n",
            "|   Juan|  44|      letras|        89|   4|\n",
            "|Yaneisy|  29|      letras|        89|   4|\n",
            "|   Raul|  24|  matemática|        76|   1|\n",
            "|   Aian|  50|  matemática|        73|   2|\n",
            "|  Maria|  34|  matemática|        27|   3|\n",
            "| Susana|  51|     química|        98|   1|\n",
            "|Enrique|  40|     química|        92|   2|\n",
            "|   Jose|  30|     química|        78|   3|\n",
            "+-------+----+------------+----------+----+\n",
            "\n"
          ]
        }
      ]
    },
    {
      "cell_type": "code",
      "source": [
        "df.withColumn('dense_rank', dense_rank().over(WindowSpec)).show()"
      ],
      "metadata": {
        "colab": {
          "base_uri": "https://localhost:8080/"
        },
        "id": "bbs8e8HScsXH",
        "outputId": "bdc1d2bb-d497-4139-d710-87580b4dcef6"
      },
      "execution_count": null,
      "outputs": [
        {
          "output_type": "stream",
          "name": "stdout",
          "text": [
            "+-------+----+------------+----------+----------+\n",
            "| nombre|edad|departamento|evaluacion|dense_rank|\n",
            "+-------+----+------------+----------+----------+\n",
            "| Lilian|  23|arquitectura|        94|         1|\n",
            "|  Luisa|  39|arquitectura|        94|         1|\n",
            "|    Jon|  25|arquitectura|        78|         2|\n",
            "|  Kadir|  38|arquitectura|        39|         3|\n",
            "| Lazaro|  45|      letras|        98|         1|\n",
            "|  Julia|  55|      letras|        92|         2|\n",
            "|   Rosa|  26|      letras|        91|         3|\n",
            "|   Juan|  44|      letras|        89|         4|\n",
            "|Yaneisy|  29|      letras|        89|         4|\n",
            "|   Raul|  24|  matemática|        76|         1|\n",
            "|   Aian|  50|  matemática|        73|         2|\n",
            "|  Maria|  34|  matemática|        27|         3|\n",
            "| Susana|  51|     química|        98|         1|\n",
            "|Enrique|  40|     química|        92|         2|\n",
            "|   Jose|  30|     química|        78|         3|\n",
            "+-------+----+------------+----------+----------+\n",
            "\n"
          ]
        }
      ]
    },
    {
      "cell_type": "code",
      "source": [
        "windowSpecAgg = Window.partitionBy('departamento')"
      ],
      "metadata": {
        "id": "7TW2hBjHcyVY"
      },
      "execution_count": null,
      "outputs": []
    },
    {
      "cell_type": "code",
      "source": [
        "from pyspark.sql.functions import min,max,avg\n",
        "\n",
        "(df.withColumn('min', min(col('evaluacion')).over(windowSpecAgg))\n",
        ".withColumn('max', max(col('evaluacion')).over(windowSpecAgg))\n",
        ".withColumn('avg', avg(col('evaluacion')).over(windowSpecAgg))\n",
        ".withColumn('row_number', row_number().over(WindowSpec))\n",
        " ).show()"
      ],
      "metadata": {
        "colab": {
          "base_uri": "https://localhost:8080/"
        },
        "id": "-I1cGTpec8RO",
        "outputId": "ece79a9a-593d-4e73-8485-62ab04cc0a3d"
      },
      "execution_count": null,
      "outputs": [
        {
          "output_type": "stream",
          "name": "stdout",
          "text": [
            "+-------+----+------------+----------+---+---+------------------+----------+\n",
            "| nombre|edad|departamento|evaluacion|min|max|               avg|row_number|\n",
            "+-------+----+------------+----------+---+---+------------------+----------+\n",
            "| Lilian|  23|arquitectura|        94| 39| 94|             76.25|         1|\n",
            "|  Luisa|  39|arquitectura|        94| 39| 94|             76.25|         2|\n",
            "|    Jon|  25|arquitectura|        78| 39| 94|             76.25|         3|\n",
            "|  Kadir|  38|arquitectura|        39| 39| 94|             76.25|         4|\n",
            "| Lazaro|  45|      letras|        98| 89| 98|              91.8|         1|\n",
            "|  Julia|  55|      letras|        92| 89| 98|              91.8|         2|\n",
            "|   Rosa|  26|      letras|        91| 89| 98|              91.8|         3|\n",
            "|   Juan|  44|      letras|        89| 89| 98|              91.8|         4|\n",
            "|Yaneisy|  29|      letras|        89| 89| 98|              91.8|         5|\n",
            "|   Raul|  24|  matemática|        76| 27| 76|58.666666666666664|         1|\n",
            "|   Aian|  50|  matemática|        73| 27| 76|58.666666666666664|         2|\n",
            "|  Maria|  34|  matemática|        27| 27| 76|58.666666666666664|         3|\n",
            "| Susana|  51|     química|        98| 78| 98| 89.33333333333333|         1|\n",
            "|Enrique|  40|     química|        92| 78| 98| 89.33333333333333|         2|\n",
            "|   Jose|  30|     química|        78| 78| 98| 89.33333333333333|         3|\n",
            "+-------+----+------------+----------+---+---+------------------+----------+\n",
            "\n"
          ]
        }
      ]
    },
    {
      "cell_type": "code",
      "source": [],
      "metadata": {
        "id": "WMB8mDmKdvVp"
      },
      "execution_count": null,
      "outputs": []
    },
    {
      "cell_type": "markdown",
      "source": [
        "##Ejercicios Sección 9: Funciones en Spark SQL"
      ],
      "metadata": {
        "id": "egwBYlxEz2_h"
      }
    },
    {
      "cell_type": "code",
      "source": [
        "import findspark\n",
        "findspark.init()\n",
        "\n",
        "from pyspark.sql import SparkSession\n",
        "\n",
        "spark = SparkSession.builder.getOrCreate()"
      ],
      "metadata": {
        "id": "LnxXuw-Hz9fP"
      },
      "execution_count": 46,
      "outputs": []
    },
    {
      "cell_type": "code",
      "source": [
        "movies = spark.read.option('sep', '|').option('inferSchema' , 'true').csv('./data/movies.csv', header=True)\n",
        "movie_ratings = spark.read.option('sep', '|').option('inferSchema' , 'true').csv('./data/movie_ratings.csv', header=True)"
      ],
      "metadata": {
        "id": "7hkF-SV00F9R"
      },
      "execution_count": 47,
      "outputs": []
    },
    {
      "cell_type": "code",
      "source": [
        "movies.show(truncate=False)"
      ],
      "metadata": {
        "colab": {
          "base_uri": "https://localhost:8080/"
        },
        "id": "pCml5EjE1Bz8",
        "outputId": "585b398c-c995-44c0-ece8-41d66b2c7138"
      },
      "execution_count": 48,
      "outputs": [
        {
          "output_type": "stream",
          "name": "stdout",
          "text": [
            "+-----------------+---------------------------+----+\n",
            "|actor            |pelicula                   |año |\n",
            "+-----------------+---------------------------+----+\n",
            "|McClure, Marc (I)|Freaky Friday              |2003|\n",
            "|McClure, Marc (I)|Coach Carter               |2005|\n",
            "|McClure, Marc (I)|Superman II                |1980|\n",
            "|McClure, Marc (I)|Apollo 13                  |1995|\n",
            "|McClure, Marc (I)|Superman                   |1978|\n",
            "|McClure, Marc (I)|Back to the Future         |1985|\n",
            "|McClure, Marc (I)|Back to the Future Part III|1990|\n",
            "|Cooper, Chris (I)|Me, Myself & Irene         |2000|\n",
            "|Cooper, Chris (I)|October Sky                |1999|\n",
            "|Cooper, Chris (I)|Capote                     |2005|\n",
            "|Cooper, Chris (I)|The Bourne Supremacy       |2004|\n",
            "|Cooper, Chris (I)|The Patriot                |2000|\n",
            "|Cooper, Chris (I)|The Town                   |2010|\n",
            "|Cooper, Chris (I)|Seabiscuit                 |2003|\n",
            "|Cooper, Chris (I)|A Time to Kill             |1996|\n",
            "|Cooper, Chris (I)|Where the Wild Things Are  |2009|\n",
            "|Cooper, Chris (I)|The Muppets                |2011|\n",
            "|Cooper, Chris (I)|American Beauty            |1999|\n",
            "|Cooper, Chris (I)|Syriana                    |2005|\n",
            "|Cooper, Chris (I)|The Horse Whisperer        |1998|\n",
            "+-----------------+---------------------------+----+\n",
            "only showing top 20 rows\n",
            "\n"
          ]
        }
      ]
    },
    {
      "cell_type": "markdown",
      "source": [
        "Cada línea del archivo movies.csv representa a un actor que actuó en una película. Si una película tiene diez actores, habrá diez filas para esa película en particular.\n",
        "\n"
      ],
      "metadata": {
        "id": "QLAfRIdP1Y9a"
      }
    },
    {
      "cell_type": "code",
      "source": [
        "movie_ratings.show(3, truncate=False)"
      ],
      "metadata": {
        "colab": {
          "base_uri": "https://localhost:8080/"
        },
        "id": "KEgwSB461EQL",
        "outputId": "00eaa820-829c-4474-c7da-cf53ce8e2dac"
      },
      "execution_count": 49,
      "outputs": [
        {
          "output_type": "stream",
          "name": "stdout",
          "text": [
            "+----------+--------------------------+----+\n",
            "|valoracion|pelicula                  |año |\n",
            "+----------+--------------------------+----+\n",
            "|1.6339    |'Crocodile' Dundee II     |1988|\n",
            "|7.6177    |10                        |1979|\n",
            "|1.2864    |10 Things I Hate About You|1999|\n",
            "+----------+--------------------------+----+\n",
            "only showing top 3 rows\n",
            "\n"
          ]
        }
      ]
    },
    {
      "cell_type": "code",
      "source": [
        "movies.printSchema()"
      ],
      "metadata": {
        "colab": {
          "base_uri": "https://localhost:8080/"
        },
        "id": "NarqPDiu1sQy",
        "outputId": "a115c9e5-60a9-48c3-b827-bb85db5019a9"
      },
      "execution_count": 50,
      "outputs": [
        {
          "output_type": "stream",
          "name": "stdout",
          "text": [
            "root\n",
            " |-- actor: string (nullable = true)\n",
            " |-- pelicula: string (nullable = true)\n",
            " |-- año: integer (nullable = true)\n",
            "\n"
          ]
        }
      ]
    },
    {
      "cell_type": "code",
      "source": [
        "from pyspark.sql.functions import col, count, desc,when, floor, max, avg,first\n",
        "movies.groupBy('actor').agg(\n",
        "    count('*').alias('count')\n",
        ").orderBy(desc('count')).show()"
      ],
      "metadata": {
        "colab": {
          "base_uri": "https://localhost:8080/"
        },
        "id": "BRUi8Sse1GXx",
        "outputId": "4b353f19-a84a-49ca-9f93-ad722b5aa520"
      },
      "execution_count": 73,
      "outputs": [
        {
          "output_type": "stream",
          "name": "stdout",
          "text": [
            "+-------------------+-----+\n",
            "|              actor|count|\n",
            "+-------------------+-----+\n",
            "|   Tatasciore, Fred|   38|\n",
            "|      Welker, Frank|   38|\n",
            "| Jackson, Samuel L.|   32|\n",
            "|      Harnell, Jess|   31|\n",
            "|        Damon, Matt|   27|\n",
            "|      Willis, Bruce|   27|\n",
            "|  Cummings, Jim (I)|   26|\n",
            "|         Hanks, Tom|   25|\n",
            "|   Lynn, Sherry (I)|   25|\n",
            "|    McGowan, Mickie|   25|\n",
            "|    Bergen, Bob (I)|   25|\n",
            "|      Proctor, Phil|   24|\n",
            "|   Wilson, Owen (I)|   23|\n",
            "|        Cruise, Tom|   23|\n",
            "|         Pitt, Brad|   23|\n",
            "|Freeman, Morgan (I)|   22|\n",
            "|Williams, Robin (I)|   22|\n",
            "|       Depp, Johnny|   22|\n",
            "|     Morrison, Rana|   22|\n",
            "|      Diaz, Cameron|   21|\n",
            "+-------------------+-----+\n",
            "only showing top 20 rows\n",
            "\n"
          ]
        }
      ]
    },
    {
      "cell_type": "code",
      "source": [
        "movies.show()"
      ],
      "metadata": {
        "colab": {
          "base_uri": "https://localhost:8080/"
        },
        "id": "g-atDnhg1iiz",
        "outputId": "56393fd1-98ac-4b54-93c0-c25052b7b195"
      },
      "execution_count": 74,
      "outputs": [
        {
          "output_type": "stream",
          "name": "stdout",
          "text": [
            "+-----------------+--------------------+----+-----+\n",
            "|            actor|            pelicula| año|siglo|\n",
            "+-----------------+--------------------+----+-----+\n",
            "|McClure, Marc (I)|       Freaky Friday|2003|   21|\n",
            "|McClure, Marc (I)|        Coach Carter|2005|   21|\n",
            "|McClure, Marc (I)|         Superman II|1980|   20|\n",
            "|McClure, Marc (I)|           Apollo 13|1995|   20|\n",
            "|McClure, Marc (I)|            Superman|1978|   20|\n",
            "|McClure, Marc (I)|  Back to the Future|1985|   20|\n",
            "|McClure, Marc (I)|Back to the Futur...|1990|   20|\n",
            "|Cooper, Chris (I)|  Me, Myself & Irene|2000|   20|\n",
            "|Cooper, Chris (I)|         October Sky|1999|   20|\n",
            "|Cooper, Chris (I)|              Capote|2005|   21|\n",
            "|Cooper, Chris (I)|The Bourne Supremacy|2004|   21|\n",
            "|Cooper, Chris (I)|         The Patriot|2000|   20|\n",
            "|Cooper, Chris (I)|            The Town|2010|   21|\n",
            "|Cooper, Chris (I)|          Seabiscuit|2003|   21|\n",
            "|Cooper, Chris (I)|      A Time to Kill|1996|   20|\n",
            "|Cooper, Chris (I)|Where the Wild Th...|2009|   21|\n",
            "|Cooper, Chris (I)|         The Muppets|2011|   21|\n",
            "|Cooper, Chris (I)|     American Beauty|1999|   20|\n",
            "|Cooper, Chris (I)|             Syriana|2005|   21|\n",
            "|Cooper, Chris (I)| The Horse Whisperer|1998|   20|\n",
            "+-----------------+--------------------+----+-----+\n",
            "only showing top 20 rows\n",
            "\n"
          ]
        }
      ]
    },
    {
      "cell_type": "code",
      "source": [
        "movies.printSchema()"
      ],
      "metadata": {
        "colab": {
          "base_uri": "https://localhost:8080/"
        },
        "id": "KmaSL1Ks4wGy",
        "outputId": "8c7cca4e-11db-4c12-9de0-af1d198608d7"
      },
      "execution_count": 75,
      "outputs": [
        {
          "output_type": "stream",
          "name": "stdout",
          "text": [
            "root\n",
            " |-- actor: string (nullable = true)\n",
            " |-- pelicula: string (nullable = true)\n",
            " |-- año: integer (nullable = true)\n",
            " |-- siglo: long (nullable = true)\n",
            "\n"
          ]
        }
      ]
    },
    {
      "cell_type": "code",
      "source": [
        "movies = movies.withColumn(\n",
        "    'siglo',\n",
        "    when(col('año') % 100 == 0, floor(col('año') / 100))\n",
        "    .otherwise(floor((col('año') / 100)) + 1)\n",
        ")\n",
        "\n",
        "movies.show()\n",
        "movies.printSchema()"
      ],
      "metadata": {
        "colab": {
          "base_uri": "https://localhost:8080/"
        },
        "id": "Zh_ujCDC3v-O",
        "outputId": "50c4f6dc-ea58-4e48-87cc-e170cdb2dae5"
      },
      "execution_count": 76,
      "outputs": [
        {
          "output_type": "stream",
          "name": "stdout",
          "text": [
            "+-----------------+--------------------+----+-----+\n",
            "|            actor|            pelicula| año|siglo|\n",
            "+-----------------+--------------------+----+-----+\n",
            "|McClure, Marc (I)|       Freaky Friday|2003|   21|\n",
            "|McClure, Marc (I)|        Coach Carter|2005|   21|\n",
            "|McClure, Marc (I)|         Superman II|1980|   20|\n",
            "|McClure, Marc (I)|           Apollo 13|1995|   20|\n",
            "|McClure, Marc (I)|            Superman|1978|   20|\n",
            "|McClure, Marc (I)|  Back to the Future|1985|   20|\n",
            "|McClure, Marc (I)|Back to the Futur...|1990|   20|\n",
            "|Cooper, Chris (I)|  Me, Myself & Irene|2000|   20|\n",
            "|Cooper, Chris (I)|         October Sky|1999|   20|\n",
            "|Cooper, Chris (I)|              Capote|2005|   21|\n",
            "|Cooper, Chris (I)|The Bourne Supremacy|2004|   21|\n",
            "|Cooper, Chris (I)|         The Patriot|2000|   20|\n",
            "|Cooper, Chris (I)|            The Town|2010|   21|\n",
            "|Cooper, Chris (I)|          Seabiscuit|2003|   21|\n",
            "|Cooper, Chris (I)|      A Time to Kill|1996|   20|\n",
            "|Cooper, Chris (I)|Where the Wild Th...|2009|   21|\n",
            "|Cooper, Chris (I)|         The Muppets|2011|   21|\n",
            "|Cooper, Chris (I)|     American Beauty|1999|   20|\n",
            "|Cooper, Chris (I)|             Syriana|2005|   21|\n",
            "|Cooper, Chris (I)| The Horse Whisperer|1998|   20|\n",
            "+-----------------+--------------------+----+-----+\n",
            "only showing top 20 rows\n",
            "\n",
            "root\n",
            " |-- actor: string (nullable = true)\n",
            " |-- pelicula: string (nullable = true)\n",
            " |-- año: integer (nullable = true)\n",
            " |-- siglo: long (nullable = true)\n",
            "\n"
          ]
        }
      ]
    },
    {
      "cell_type": "code",
      "source": [
        "movies.groupBy('año').agg(\n",
        "    max(col('siglo')).alias('siglo1'),\n",
        "    count('pelicula').alias('num_peliculas')\n",
        ").orderBy(desc('num_peliculas')).show()"
      ],
      "metadata": {
        "colab": {
          "base_uri": "https://localhost:8080/"
        },
        "id": "IMubyg2_4ep2",
        "outputId": "607794ef-494f-432f-8b62-647d4a2e197e"
      },
      "execution_count": 77,
      "outputs": [
        {
          "output_type": "stream",
          "name": "stdout",
          "text": [
            "+----+------+-------------+\n",
            "| año|siglo1|num_peliculas|\n",
            "+----+------+-------------+\n",
            "|2006|    21|         2078|\n",
            "|2004|    21|         2005|\n",
            "|2007|    21|         1986|\n",
            "|2005|    21|         1960|\n",
            "|2011|    21|         1926|\n",
            "|2008|    21|         1892|\n",
            "|2009|    21|         1890|\n",
            "|2010|    21|         1843|\n",
            "|2002|    21|         1834|\n",
            "|2001|    21|         1687|\n",
            "|2003|    21|         1652|\n",
            "|2000|    20|         1639|\n",
            "|1997|    20|         1584|\n",
            "|1999|    20|         1401|\n",
            "|1998|    20|         1372|\n",
            "|1996|    20|          916|\n",
            "|2012|    21|          601|\n",
            "|1995|    20|          498|\n",
            "|1994|    20|          358|\n",
            "|1992|    20|          304|\n",
            "+----+------+-------------+\n",
            "only showing top 20 rows\n",
            "\n"
          ]
        }
      ]
    },
    {
      "cell_type": "code",
      "source": [
        "movie_ratings.show()"
      ],
      "metadata": {
        "colab": {
          "base_uri": "https://localhost:8080/"
        },
        "id": "cFuHjYyi6bgZ",
        "outputId": "d8b36ca9-fda7-4d98-d506-841cbd7fe8ff"
      },
      "execution_count": 78,
      "outputs": [
        {
          "output_type": "stream",
          "name": "stdout",
          "text": [
            "+----------+--------------------+----+\n",
            "|valoracion|            pelicula| año|\n",
            "+----------+--------------------+----+\n",
            "|    1.6339|'Crocodile' Dunde...|1988|\n",
            "|    7.6177|                  10|1979|\n",
            "|    1.2864|10 Things I Hate ...|1999|\n",
            "|    0.3243|           10,000 BC|2008|\n",
            "|    0.3376|      101 Dalmatians|1996|\n",
            "|    0.5218|      102 Dalmatians|2000|\n",
            "|   12.8205|                1066|2012|\n",
            "|    0.6829|                  12|2007|\n",
            "|    7.4061|           12 Rounds|2009|\n",
            "|    2.3677|           127 Hours|2010|\n",
            "|    1.3585|      13 Going on 30|2004|\n",
            "|    8.4034|     13 game sayawng|2006|\n",
            "|      0.59|                1408|2007|\n",
            "|    4.4292|          15 Minutes|2001|\n",
            "|    2.2118|           16 Blocks|2006|\n",
            "|    1.0491|            17 Again|2009|\n",
            "|    3.9265|                1941|1979|\n",
            "|   10.4757|2 Days in the Valley|1996|\n",
            "|       0.4|    2 Fast 2 Furious|2003|\n",
            "|   11.1111|              2 Guns|2013|\n",
            "+----------+--------------------+----+\n",
            "only showing top 20 rows\n",
            "\n"
          ]
        }
      ]
    },
    {
      "cell_type": "code",
      "source": [
        "movie_ratings.groupBy('año').agg(\n",
        "    max('valoracion'),\n",
        "    first(col('pelicula'))\n",
        ").orderBy('año').show()"
      ],
      "metadata": {
        "colab": {
          "base_uri": "https://localhost:8080/"
        },
        "id": "nDll1E4m7eX-",
        "outputId": "901ca63f-b0a2-44f4-e1af-d24a4c0b4884"
      },
      "execution_count": 81,
      "outputs": [
        {
          "output_type": "stream",
          "name": "stdout",
          "text": [
            "+----+---------------+--------------------+\n",
            "| año|max(valoracion)|     first(pelicula)|\n",
            "+----+---------------+--------------------+\n",
            "|1937|         2.2207|Snow White and th...|\n",
            "|1939|         7.9215|  Gone with the Wind|\n",
            "|1940|         7.8557|            Fantasia|\n",
            "|1942|         1.5053|               Bambi|\n",
            "|1946|          7.602|   Song of the South|\n",
            "|1950|         9.4226|          Cinderella|\n",
            "|1953|         5.4756|           Peter Pan|\n",
            "|1954|        10.7625|         Rear Window|\n",
            "|1955|         5.1258|  Lady and the Tramp|\n",
            "|1956|        14.0607|Around the World ...|\n",
            "|1959|         6.3919|             Ben-Hur|\n",
            "|1960|        10.6375|              Psycho|\n",
            "|1961|         0.6726|One Hundred and O...|\n",
            "|1962|        12.8866|              Dr. No|\n",
            "|1963|          6.626|           Cleopatra|\n",
            "|1964|          7.587|          Goldfinger|\n",
            "|1965|         4.9304|      Doctor Zhivago|\n",
            "|1966|        11.1111|Who's Afraid of V...|\n",
            "|1967|         13.388|    Bonnie and Clyde|\n",
            "|1968|        13.4383|2001: A Space Ody...|\n",
            "+----+---------------+--------------------+\n",
            "only showing top 20 rows\n",
            "\n"
          ]
        }
      ]
    },
    {
      "cell_type": "code",
      "source": [
        "import findspark\n",
        "findspark.init()\n",
        "\n",
        "from pyspark.sql import SparkSession\n",
        "spark = SparkSession.builder.appName('Catalyst').getOrCreate()"
      ],
      "metadata": {
        "id": "uNc4E9NG7rrL"
      },
      "execution_count": 4,
      "outputs": []
    },
    {
      "cell_type": "code",
      "source": [
        "data = spark.read.parquet('./vuelos.parquet')"
      ],
      "metadata": {
        "id": "shlNVD3QC129"
      },
      "execution_count": 5,
      "outputs": []
    },
    {
      "cell_type": "code",
      "source": [
        "from pyspark.sql.functions import col"
      ],
      "metadata": {
        "id": "M3s4kZomDCvb"
      },
      "execution_count": 6,
      "outputs": []
    },
    {
      "cell_type": "code",
      "source": [
        "nuevo_df = (data.filter(col('Month').isin(6,7,8))\n",
        "            .withColumn('dis_tiempo_aire', col ('Distance') / col('AIR_TIME'))\n",
        "            ).select(\n",
        "                col('AIRLINE'),\n",
        "                col('dis_tiempo_aire')\n",
        "            ).where(col('AIRLINE').isin('AA', 'DL', 'AS'))"
      ],
      "metadata": {
        "id": "-h74ugDwDPqO"
      },
      "execution_count": 7,
      "outputs": []
    },
    {
      "cell_type": "code",
      "source": [
        "nuevo_df.explain(True)"
      ],
      "metadata": {
        "colab": {
          "base_uri": "https://localhost:8080/"
        },
        "id": "ZqAzeYEgDwRg",
        "outputId": "8394d21f-a76d-4a0c-b291-5e4b031fb55f"
      },
      "execution_count": 8,
      "outputs": [
        {
          "output_type": "stream",
          "name": "stdout",
          "text": [
            "== Parsed Logical Plan ==\n",
            "'Filter 'AIRLINE IN (AA,DL,AS)\n",
            "+- Project [AIRLINE#11, dis_tiempo_aire#70]\n",
            "   +- Project [YEAR#7, MONTH#8, DAY#9, DAY_OF_WEEK#10, AIRLINE#11, FLIGHT_NUMBER#12, TAIL_NUMBER#13, ORIGIN_AIRPORT#14, DESTINATION_AIRPORT#15, SCHEDULED_DEPARTURE#16, DEPARTURE_TIME#17, DEPARTURE_DELAY#18, TAXI_OUT#19, WHEELS_OFF#20, SCHEDULED_TIME#21, ELAPSED_TIME#22, AIR_TIME#23, DISTANCE#24, WHEELS_ON#25, TAXI_IN#26, SCHEDULED_ARRIVAL#27, ARRIVAL_TIME#28, ARRIVAL_DELAY#29, DIVERTED#30, ... 8 more fields]\n",
            "      +- Filter Month#8 IN (6,7,8)\n",
            "         +- Relation [YEAR#7,MONTH#8,DAY#9,DAY_OF_WEEK#10,AIRLINE#11,FLIGHT_NUMBER#12,TAIL_NUMBER#13,ORIGIN_AIRPORT#14,DESTINATION_AIRPORT#15,SCHEDULED_DEPARTURE#16,DEPARTURE_TIME#17,DEPARTURE_DELAY#18,TAXI_OUT#19,WHEELS_OFF#20,SCHEDULED_TIME#21,ELAPSED_TIME#22,AIR_TIME#23,DISTANCE#24,WHEELS_ON#25,TAXI_IN#26,SCHEDULED_ARRIVAL#27,ARRIVAL_TIME#28,ARRIVAL_DELAY#29,DIVERTED#30,... 7 more fields] parquet\n",
            "\n",
            "== Analyzed Logical Plan ==\n",
            "AIRLINE: string, dis_tiempo_aire: double\n",
            "Filter AIRLINE#11 IN (AA,DL,AS)\n",
            "+- Project [AIRLINE#11, dis_tiempo_aire#70]\n",
            "   +- Project [YEAR#7, MONTH#8, DAY#9, DAY_OF_WEEK#10, AIRLINE#11, FLIGHT_NUMBER#12, TAIL_NUMBER#13, ORIGIN_AIRPORT#14, DESTINATION_AIRPORT#15, SCHEDULED_DEPARTURE#16, DEPARTURE_TIME#17, DEPARTURE_DELAY#18, TAXI_OUT#19, WHEELS_OFF#20, SCHEDULED_TIME#21, ELAPSED_TIME#22, AIR_TIME#23, DISTANCE#24, WHEELS_ON#25, TAXI_IN#26, SCHEDULED_ARRIVAL#27, ARRIVAL_TIME#28, ARRIVAL_DELAY#29, DIVERTED#30, ... 8 more fields]\n",
            "      +- Filter Month#8 IN (6,7,8)\n",
            "         +- Relation [YEAR#7,MONTH#8,DAY#9,DAY_OF_WEEK#10,AIRLINE#11,FLIGHT_NUMBER#12,TAIL_NUMBER#13,ORIGIN_AIRPORT#14,DESTINATION_AIRPORT#15,SCHEDULED_DEPARTURE#16,DEPARTURE_TIME#17,DEPARTURE_DELAY#18,TAXI_OUT#19,WHEELS_OFF#20,SCHEDULED_TIME#21,ELAPSED_TIME#22,AIR_TIME#23,DISTANCE#24,WHEELS_ON#25,TAXI_IN#26,SCHEDULED_ARRIVAL#27,ARRIVAL_TIME#28,ARRIVAL_DELAY#29,DIVERTED#30,... 7 more fields] parquet\n",
            "\n",
            "== Optimized Logical Plan ==\n",
            "Project [AIRLINE#11, (cast(Distance#24 as double) / cast(AIR_TIME#23 as double)) AS dis_tiempo_aire#70]\n",
            "+- Filter (Month#8 IN (6,7,8) AND AIRLINE#11 IN (AA,DL,AS))\n",
            "   +- Relation [YEAR#7,MONTH#8,DAY#9,DAY_OF_WEEK#10,AIRLINE#11,FLIGHT_NUMBER#12,TAIL_NUMBER#13,ORIGIN_AIRPORT#14,DESTINATION_AIRPORT#15,SCHEDULED_DEPARTURE#16,DEPARTURE_TIME#17,DEPARTURE_DELAY#18,TAXI_OUT#19,WHEELS_OFF#20,SCHEDULED_TIME#21,ELAPSED_TIME#22,AIR_TIME#23,DISTANCE#24,WHEELS_ON#25,TAXI_IN#26,SCHEDULED_ARRIVAL#27,ARRIVAL_TIME#28,ARRIVAL_DELAY#29,DIVERTED#30,... 7 more fields] parquet\n",
            "\n",
            "== Physical Plan ==\n",
            "*(1) Project [AIRLINE#11, (cast(Distance#24 as double) / cast(AIR_TIME#23 as double)) AS dis_tiempo_aire#70]\n",
            "+- *(1) Filter (Month#8 IN (6,7,8) AND AIRLINE#11 IN (AA,DL,AS))\n",
            "   +- *(1) ColumnarToRow\n",
            "      +- FileScan parquet [MONTH#8,AIRLINE#11,AIR_TIME#23,DISTANCE#24] Batched: true, DataFilters: [MONTH#8 IN (6,7,8), AIRLINE#11 IN (AA,DL,AS)], Format: Parquet, Location: InMemoryFileIndex(1 paths)[file:/content/vuelos.parquet], PartitionFilters: [], PushedFilters: [In(MONTH, [6,7,8]), In(AIRLINE, [AA,AS,DL])], ReadSchema: struct<MONTH:int,AIRLINE:string,AIR_TIME:int,DISTANCE:int>\n",
            "\n"
          ]
        }
      ]
    },
    {
      "cell_type": "code",
      "source": [],
      "metadata": {
        "id": "ygwOHnZYD18a"
      },
      "execution_count": null,
      "outputs": []
    }
  ]
}